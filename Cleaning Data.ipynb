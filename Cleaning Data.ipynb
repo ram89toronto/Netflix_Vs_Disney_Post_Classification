{
 "cells": [
  {
   "cell_type": "code",
   "execution_count": 26,
   "id": "76605615",
   "metadata": {},
   "outputs": [],
   "source": [
    "import numpy as np\n",
    "import pandas as pd\n",
    "import matplotlib.pyplot as plt\n",
    "from sklearn.feature_extraction.text import CountVectorizer, TfidfVectorizer\n",
    "from sklearn.pipeline import Pipeline\n",
    "from sklearn.linear_model import LogisticRegression\n",
    "from sklearn.naive_bayes import MultinomialNB\n",
    "from sklearn.model_selection import train_test_split, GridSearchCV\n",
    "from sklearn.ensemble import RandomForestClassifier, GradientBoostingClassifier, AdaBoostClassifier, VotingClassifier\n",
    "from sklearn import metrics\n",
    "import re\n",
    "import string\n",
    "from nltk.stem import WordNetLemmatizer\n",
    "%matplotlib inline \n"
   ]
  },
  {
   "cell_type": "code",
   "execution_count": 114,
   "id": "0d8ed4ad",
   "metadata": {},
   "outputs": [],
   "source": [
    "# Importing Cleaned Submission data from CSV\n",
    "\n",
    "df = pd.read_csv('netflix_disney_submissions.csv')"
   ]
  },
  {
   "cell_type": "code",
   "execution_count": 115,
   "id": "f287de67",
   "metadata": {},
   "outputs": [
    {
     "name": "stdout",
     "output_type": "stream",
     "text": [
      "<class 'pandas.core.frame.DataFrame'>\n",
      "RangeIndex: 20651 entries, 0 to 20650\n",
      "Data columns (total 3 columns):\n",
      " #   Column      Non-Null Count  Dtype \n",
      "---  ------      --------------  ----- \n",
      " 0   Unnamed: 0  20651 non-null  int64 \n",
      " 1   title       20651 non-null  object\n",
      " 2   subreddit   20651 non-null  object\n",
      "dtypes: int64(1), object(2)\n",
      "memory usage: 484.1+ KB\n"
     ]
    }
   ],
   "source": [
    "df.info()"
   ]
  },
  {
   "cell_type": "code",
   "execution_count": 116,
   "id": "a1f4c0d5",
   "metadata": {},
   "outputs": [
    {
     "data": {
      "text/html": [
       "<div>\n",
       "<style scoped>\n",
       "    .dataframe tbody tr th:only-of-type {\n",
       "        vertical-align: middle;\n",
       "    }\n",
       "\n",
       "    .dataframe tbody tr th {\n",
       "        vertical-align: top;\n",
       "    }\n",
       "\n",
       "    .dataframe thead th {\n",
       "        text-align: right;\n",
       "    }\n",
       "</style>\n",
       "<table border=\"1\" class=\"dataframe\">\n",
       "  <thead>\n",
       "    <tr style=\"text-align: right;\">\n",
       "      <th></th>\n",
       "      <th>Unnamed: 0</th>\n",
       "      <th>title</th>\n",
       "      <th>subreddit</th>\n",
       "    </tr>\n",
       "  </thead>\n",
       "  <tbody>\n",
       "    <tr>\n",
       "      <th>0</th>\n",
       "      <td>0</td>\n",
       "      <td>Has anyone figured out how to hide the user in...</td>\n",
       "      <td>netflix</td>\n",
       "    </tr>\n",
       "    <tr>\n",
       "      <th>1</th>\n",
       "      <td>1</td>\n",
       "      <td>Payment issues?</td>\n",
       "      <td>netflix</td>\n",
       "    </tr>\n",
       "    <tr>\n",
       "      <th>2</th>\n",
       "      <td>2</td>\n",
       "      <td>Recommendations?</td>\n",
       "      <td>netflix</td>\n",
       "    </tr>\n",
       "    <tr>\n",
       "      <th>3</th>\n",
       "      <td>3</td>\n",
       "      <td>An idea on what Netflix can do about its const...</td>\n",
       "      <td>netflix</td>\n",
       "    </tr>\n",
       "    <tr>\n",
       "      <th>4</th>\n",
       "      <td>4</td>\n",
       "      <td>Time Differences in Different Countries</td>\n",
       "      <td>netflix</td>\n",
       "    </tr>\n",
       "    <tr>\n",
       "      <th>...</th>\n",
       "      <td>...</td>\n",
       "      <td>...</td>\n",
       "      <td>...</td>\n",
       "    </tr>\n",
       "    <tr>\n",
       "      <th>95</th>\n",
       "      <td>95</td>\n",
       "      <td>4K netflix on monitor</td>\n",
       "      <td>netflix</td>\n",
       "    </tr>\n",
       "    <tr>\n",
       "      <th>96</th>\n",
       "      <td>96</td>\n",
       "      <td>Will you keep Netflix if they ban password sha...</td>\n",
       "      <td>netflix</td>\n",
       "    </tr>\n",
       "    <tr>\n",
       "      <th>97</th>\n",
       "      <td>97</td>\n",
       "      <td>Went to the Store for some Serial</td>\n",
       "      <td>netflix</td>\n",
       "    </tr>\n",
       "    <tr>\n",
       "      <th>98</th>\n",
       "      <td>98</td>\n",
       "      <td>Some shows are vanishing even though they're d...</td>\n",
       "      <td>netflix</td>\n",
       "    </tr>\n",
       "    <tr>\n",
       "      <th>99</th>\n",
       "      <td>99</td>\n",
       "      <td>Netflix shows or kdramas with healthy relation...</td>\n",
       "      <td>netflix</td>\n",
       "    </tr>\n",
       "  </tbody>\n",
       "</table>\n",
       "<p>100 rows × 3 columns</p>\n",
       "</div>"
      ],
      "text/plain": [
       "    Unnamed: 0                                              title subreddit\n",
       "0            0  Has anyone figured out how to hide the user in...   netflix\n",
       "1            1                                    Payment issues?   netflix\n",
       "2            2                                   Recommendations?   netflix\n",
       "3            3  An idea on what Netflix can do about its const...   netflix\n",
       "4            4            Time Differences in Different Countries   netflix\n",
       "..         ...                                                ...       ...\n",
       "95          95                              4K netflix on monitor   netflix\n",
       "96          96  Will you keep Netflix if they ban password sha...   netflix\n",
       "97          97                  Went to the Store for some Serial   netflix\n",
       "98          98  Some shows are vanishing even though they're d...   netflix\n",
       "99          99  Netflix shows or kdramas with healthy relation...   netflix\n",
       "\n",
       "[100 rows x 3 columns]"
      ]
     },
     "execution_count": 116,
     "metadata": {},
     "output_type": "execute_result"
    }
   ],
   "source": [
    "df.head(100)"
   ]
  },
  {
   "cell_type": "code",
   "execution_count": 117,
   "id": "3fc52331",
   "metadata": {},
   "outputs": [
    {
     "data": {
      "text/html": [
       "<div>\n",
       "<style scoped>\n",
       "    .dataframe tbody tr th:only-of-type {\n",
       "        vertical-align: middle;\n",
       "    }\n",
       "\n",
       "    .dataframe tbody tr th {\n",
       "        vertical-align: top;\n",
       "    }\n",
       "\n",
       "    .dataframe thead th {\n",
       "        text-align: right;\n",
       "    }\n",
       "</style>\n",
       "<table border=\"1\" class=\"dataframe\">\n",
       "  <thead>\n",
       "    <tr style=\"text-align: right;\">\n",
       "      <th></th>\n",
       "      <th>Unnamed: 0</th>\n",
       "      <th>title</th>\n",
       "      <th>target</th>\n",
       "    </tr>\n",
       "  </thead>\n",
       "  <tbody>\n",
       "    <tr>\n",
       "      <th>0</th>\n",
       "      <td>0</td>\n",
       "      <td>Has anyone figured out how to hide the user in...</td>\n",
       "      <td>0</td>\n",
       "    </tr>\n",
       "    <tr>\n",
       "      <th>1</th>\n",
       "      <td>1</td>\n",
       "      <td>Payment issues?</td>\n",
       "      <td>0</td>\n",
       "    </tr>\n",
       "    <tr>\n",
       "      <th>2</th>\n",
       "      <td>2</td>\n",
       "      <td>Recommendations?</td>\n",
       "      <td>0</td>\n",
       "    </tr>\n",
       "    <tr>\n",
       "      <th>3</th>\n",
       "      <td>3</td>\n",
       "      <td>An idea on what Netflix can do about its const...</td>\n",
       "      <td>0</td>\n",
       "    </tr>\n",
       "    <tr>\n",
       "      <th>4</th>\n",
       "      <td>4</td>\n",
       "      <td>Time Differences in Different Countries</td>\n",
       "      <td>0</td>\n",
       "    </tr>\n",
       "  </tbody>\n",
       "</table>\n",
       "</div>"
      ],
      "text/plain": [
       "   Unnamed: 0                                              title  target\n",
       "0           0  Has anyone figured out how to hide the user in...       0\n",
       "1           1                                    Payment issues?       0\n",
       "2           2                                   Recommendations?       0\n",
       "3           3  An idea on what Netflix can do about its const...       0\n",
       "4           4            Time Differences in Different Countries       0"
      ]
     },
     "execution_count": 117,
     "metadata": {},
     "output_type": "execute_result"
    }
   ],
   "source": [
    "#Label Target Value   0 for Netflix and 1 DisneyPlus\n",
    "df['target'] = df['subreddit'].map({'netflix': 0, 'DisneyPlus':1})\n",
    "df.drop('subreddit', axis=1, inplace=True)\n",
    "df.head()\n"
   ]
  },
  {
   "cell_type": "code",
   "execution_count": 118,
   "id": "2bc7cf96",
   "metadata": {},
   "outputs": [
    {
     "data": {
      "text/html": [
       "<div>\n",
       "<style scoped>\n",
       "    .dataframe tbody tr th:only-of-type {\n",
       "        vertical-align: middle;\n",
       "    }\n",
       "\n",
       "    .dataframe tbody tr th {\n",
       "        vertical-align: top;\n",
       "    }\n",
       "\n",
       "    .dataframe thead th {\n",
       "        text-align: right;\n",
       "    }\n",
       "</style>\n",
       "<table border=\"1\" class=\"dataframe\">\n",
       "  <thead>\n",
       "    <tr style=\"text-align: right;\">\n",
       "      <th></th>\n",
       "      <th>Unnamed: 0</th>\n",
       "      <th>title</th>\n",
       "      <th>target</th>\n",
       "    </tr>\n",
       "  </thead>\n",
       "  <tbody>\n",
       "    <tr>\n",
       "      <th>20646</th>\n",
       "      <td>20646</td>\n",
       "      <td>Audio is really low?</td>\n",
       "      <td>1</td>\n",
       "    </tr>\n",
       "    <tr>\n",
       "      <th>20647</th>\n",
       "      <td>20647</td>\n",
       "      <td>That this was pretty interesting</td>\n",
       "      <td>1</td>\n",
       "    </tr>\n",
       "    <tr>\n",
       "      <th>20648</th>\n",
       "      <td>20648</td>\n",
       "      <td>Could be the wrong place to ask but…</td>\n",
       "      <td>1</td>\n",
       "    </tr>\n",
       "    <tr>\n",
       "      <th>20649</th>\n",
       "      <td>20649</td>\n",
       "      <td>Anyone else surprised Muppet Babies (2018) isn...</td>\n",
       "      <td>1</td>\n",
       "    </tr>\n",
       "    <tr>\n",
       "      <th>20650</th>\n",
       "      <td>20650</td>\n",
       "      <td>Continue watching is gone how can I get it back?</td>\n",
       "      <td>1</td>\n",
       "    </tr>\n",
       "  </tbody>\n",
       "</table>\n",
       "</div>"
      ],
      "text/plain": [
       "       Unnamed: 0                                              title  target\n",
       "20646       20646                               Audio is really low?       1\n",
       "20647       20647                   That this was pretty interesting       1\n",
       "20648       20648               Could be the wrong place to ask but…       1\n",
       "20649       20649  Anyone else surprised Muppet Babies (2018) isn...       1\n",
       "20650       20650   Continue watching is gone how can I get it back?       1"
      ]
     },
     "execution_count": 118,
     "metadata": {},
     "output_type": "execute_result"
    }
   ],
   "source": [
    "df.tail()"
   ]
  },
  {
   "cell_type": "code",
   "execution_count": 119,
   "id": "4533db9e",
   "metadata": {},
   "outputs": [
    {
     "data": {
      "text/plain": [
       "0"
      ]
     },
     "execution_count": 119,
     "metadata": {},
     "output_type": "execute_result"
    }
   ],
   "source": [
    "# Drop duplicates\n",
    "\n",
    "df.duplicated().sum()"
   ]
  },
  {
   "cell_type": "code",
   "execution_count": 120,
   "id": "c8411263",
   "metadata": {},
   "outputs": [
    {
     "data": {
      "text/plain": [
       "Unnamed: 0    0\n",
       "title         0\n",
       "target        0\n",
       "dtype: int64"
      ]
     },
     "execution_count": 120,
     "metadata": {},
     "output_type": "execute_result"
    }
   ],
   "source": [
    "# Check Null values\n",
    "df.isnull().sum()"
   ]
  },
  {
   "cell_type": "code",
   "execution_count": 121,
   "id": "454316bb",
   "metadata": {},
   "outputs": [
    {
     "data": {
      "text/plain": [
       "(20651, 3)"
      ]
     },
     "execution_count": 121,
     "metadata": {},
     "output_type": "execute_result"
    }
   ],
   "source": [
    "df.shape"
   ]
  },
  {
   "cell_type": "markdown",
   "id": "c92d41a1",
   "metadata": {},
   "source": [
    "#### Clean Data"
   ]
  },
  {
   "cell_type": "code",
   "execution_count": 155,
   "id": "ed99017b",
   "metadata": {},
   "outputs": [],
   "source": [
    "def cleaning(text):\n",
    "    # Make lowercase\n",
    "    text = text.lower()\n",
    "\n",
    "    # Remove HTML special entities (e.g. &amp;)\n",
    "    text = re.sub(r'\\&\\w*;', '', text)\n",
    "    \n",
    "    # Remove hyperlinks\n",
    "    text = re.sub(r'https?:\\/\\/.*\\/\\w*', '', text)\n",
    "    \n",
    "    # Remove punctuation and split 's, 't, 've with a space for filter\n",
    "    text = re.sub(r'[' + string.punctuation.replace('@', '') + ']+', ' ', text)\n",
    "    \n",
    "    # Remove words with 2 or fewer letters\n",
    "    text = re.sub(r'\\b\\w{1,2}\\b', '', text)\n",
    "    \n",
    "    # Remove words with numbers \n",
    "    text = re.sub(r'[0-9.+]', '', text)\n",
    "    \n",
    "    # Remove whitespace (including new line characters)\n",
    "    text = re.sub(r'\\s\\s+', ' ', text)\n",
    "    \n",
    "    # Remove characters beyond Basic Multilingual Plane (BMP) of Unicode:\n",
    "    text = ''.join(c for c in text if c <= '\\uFFFF') \n",
    "    \n",
    "    return text"
   ]
  },
  {
   "cell_type": "code",
   "execution_count": 156,
   "id": "56faa8ce",
   "metadata": {},
   "outputs": [],
   "source": [
    "df['title'] = df['title'].apply(cleaning)"
   ]
  },
  {
   "cell_type": "code",
   "execution_count": 157,
   "id": "299c8427",
   "metadata": {},
   "outputs": [
    {
     "data": {
      "text/plain": [
       "(20630, 3)"
      ]
     },
     "execution_count": 157,
     "metadata": {},
     "output_type": "execute_result"
    }
   ],
   "source": [
    "df.shape"
   ]
  },
  {
   "cell_type": "code",
   "execution_count": 158,
   "id": "c06a2748",
   "metadata": {},
   "outputs": [
    {
     "data": {
      "text/html": [
       "<div>\n",
       "<style scoped>\n",
       "    .dataframe tbody tr th:only-of-type {\n",
       "        vertical-align: middle;\n",
       "    }\n",
       "\n",
       "    .dataframe tbody tr th {\n",
       "        vertical-align: top;\n",
       "    }\n",
       "\n",
       "    .dataframe thead th {\n",
       "        text-align: right;\n",
       "    }\n",
       "</style>\n",
       "<table border=\"1\" class=\"dataframe\">\n",
       "  <thead>\n",
       "    <tr style=\"text-align: right;\">\n",
       "      <th></th>\n",
       "      <th>Unnamed: 0</th>\n",
       "      <th>title</th>\n",
       "      <th>target</th>\n",
       "    </tr>\n",
       "  </thead>\n",
       "  <tbody>\n",
       "    <tr>\n",
       "      <th>0</th>\n",
       "      <td>0</td>\n",
       "      <td>anyone figured out how hide the user interfac...</td>\n",
       "      <td>0</td>\n",
       "    </tr>\n",
       "    <tr>\n",
       "      <th>1</th>\n",
       "      <td>1</td>\n",
       "      <td>payment issue</td>\n",
       "      <td>0</td>\n",
       "    </tr>\n",
       "    <tr>\n",
       "      <th>2</th>\n",
       "      <td>2</td>\n",
       "      <td>recommendation</td>\n",
       "      <td>0</td>\n",
       "    </tr>\n",
       "    <tr>\n",
       "      <th>3</th>\n",
       "      <td>3</td>\n",
       "      <td>idea what netflix can about constant cancellin...</td>\n",
       "      <td>0</td>\n",
       "    </tr>\n",
       "    <tr>\n",
       "      <th>4</th>\n",
       "      <td>4</td>\n",
       "      <td>time difference different country</td>\n",
       "      <td>0</td>\n",
       "    </tr>\n",
       "    <tr>\n",
       "      <th>...</th>\n",
       "      <td>...</td>\n",
       "      <td>...</td>\n",
       "      <td>...</td>\n",
       "    </tr>\n",
       "    <tr>\n",
       "      <th>75</th>\n",
       "      <td>75</td>\n",
       "      <td>contestant spill the tea netflix series bullsh</td>\n",
       "      <td>0</td>\n",
       "    </tr>\n",
       "    <tr>\n",
       "      <th>76</th>\n",
       "      <td>76</td>\n",
       "      <td>meghan markle created animated series ‘pearl’ ...</td>\n",
       "      <td>0</td>\n",
       "    </tr>\n",
       "    <tr>\n",
       "      <th>77</th>\n",
       "      <td>77</td>\n",
       "      <td>cannot activate account without credit card</td>\n",
       "      <td>0</td>\n",
       "    </tr>\n",
       "    <tr>\n",
       "      <th>78</th>\n",
       "      <td>78</td>\n",
       "      <td>spoiler ozark finale review that bad</td>\n",
       "      <td>0</td>\n",
       "    </tr>\n",
       "    <tr>\n",
       "      <th>79</th>\n",
       "      <td>79</td>\n",
       "      <td>love death and robot volume coming netflix may...</td>\n",
       "      <td>0</td>\n",
       "    </tr>\n",
       "  </tbody>\n",
       "</table>\n",
       "<p>80 rows × 3 columns</p>\n",
       "</div>"
      ],
      "text/plain": [
       "    Unnamed: 0                                              title  target\n",
       "0            0   anyone figured out how hide the user interfac...       0\n",
       "1            1                                     payment issue        0\n",
       "2            2                                    recommendation        0\n",
       "3            3  idea what netflix can about constant cancellin...       0\n",
       "4            4                 time difference different country        0\n",
       "..         ...                                                ...     ...\n",
       "75          75    contestant spill the tea netflix series bullsh        0\n",
       "76          76  meghan markle created animated series ‘pearl’ ...       0\n",
       "77          77       cannot activate account without credit card        0\n",
       "78          78              spoiler ozark finale review that bad        0\n",
       "79          79  love death and robot volume coming netflix may...       0\n",
       "\n",
       "[80 rows x 3 columns]"
      ]
     },
     "execution_count": 158,
     "metadata": {},
     "output_type": "execute_result"
    }
   ],
   "source": [
    "df.head(80)\n"
   ]
  },
  {
   "cell_type": "code",
   "execution_count": 159,
   "id": "c7ccb06d",
   "metadata": {},
   "outputs": [],
   "source": [
    "df = df[df['title'] != '']\n",
    "df = df.reset_index(drop=True)"
   ]
  },
  {
   "cell_type": "code",
   "execution_count": 160,
   "id": "92620ab5",
   "metadata": {},
   "outputs": [
    {
     "data": {
      "text/plain": [
       "(20630, 3)"
      ]
     },
     "execution_count": 160,
     "metadata": {},
     "output_type": "execute_result"
    }
   ],
   "source": [
    "df.shape"
   ]
  },
  {
   "cell_type": "code",
   "execution_count": 161,
   "id": "17f9bd06",
   "metadata": {},
   "outputs": [
    {
     "data": {
      "text/html": [
       "<div>\n",
       "<style scoped>\n",
       "    .dataframe tbody tr th:only-of-type {\n",
       "        vertical-align: middle;\n",
       "    }\n",
       "\n",
       "    .dataframe tbody tr th {\n",
       "        vertical-align: top;\n",
       "    }\n",
       "\n",
       "    .dataframe thead th {\n",
       "        text-align: right;\n",
       "    }\n",
       "</style>\n",
       "<table border=\"1\" class=\"dataframe\">\n",
       "  <thead>\n",
       "    <tr style=\"text-align: right;\">\n",
       "      <th></th>\n",
       "      <th>Unnamed: 0</th>\n",
       "      <th>title</th>\n",
       "      <th>target</th>\n",
       "    </tr>\n",
       "  </thead>\n",
       "  <tbody>\n",
       "    <tr>\n",
       "      <th>0</th>\n",
       "      <td>0</td>\n",
       "      <td>anyone figured out how hide the user interfac...</td>\n",
       "      <td>0</td>\n",
       "    </tr>\n",
       "    <tr>\n",
       "      <th>1</th>\n",
       "      <td>1</td>\n",
       "      <td>payment issue</td>\n",
       "      <td>0</td>\n",
       "    </tr>\n",
       "    <tr>\n",
       "      <th>2</th>\n",
       "      <td>2</td>\n",
       "      <td>recommendation</td>\n",
       "      <td>0</td>\n",
       "    </tr>\n",
       "    <tr>\n",
       "      <th>3</th>\n",
       "      <td>3</td>\n",
       "      <td>idea what netflix can about constant cancellin...</td>\n",
       "      <td>0</td>\n",
       "    </tr>\n",
       "    <tr>\n",
       "      <th>4</th>\n",
       "      <td>4</td>\n",
       "      <td>time difference different country</td>\n",
       "      <td>0</td>\n",
       "    </tr>\n",
       "    <tr>\n",
       "      <th>...</th>\n",
       "      <td>...</td>\n",
       "      <td>...</td>\n",
       "      <td>...</td>\n",
       "    </tr>\n",
       "    <tr>\n",
       "      <th>75</th>\n",
       "      <td>75</td>\n",
       "      <td>contestant spill the tea netflix series bullsh</td>\n",
       "      <td>0</td>\n",
       "    </tr>\n",
       "    <tr>\n",
       "      <th>76</th>\n",
       "      <td>76</td>\n",
       "      <td>meghan markle created animated series ‘pearl’ ...</td>\n",
       "      <td>0</td>\n",
       "    </tr>\n",
       "    <tr>\n",
       "      <th>77</th>\n",
       "      <td>77</td>\n",
       "      <td>cannot activate account without credit card</td>\n",
       "      <td>0</td>\n",
       "    </tr>\n",
       "    <tr>\n",
       "      <th>78</th>\n",
       "      <td>78</td>\n",
       "      <td>spoiler ozark finale review that bad</td>\n",
       "      <td>0</td>\n",
       "    </tr>\n",
       "    <tr>\n",
       "      <th>79</th>\n",
       "      <td>79</td>\n",
       "      <td>love death and robot volume coming netflix may...</td>\n",
       "      <td>0</td>\n",
       "    </tr>\n",
       "  </tbody>\n",
       "</table>\n",
       "<p>80 rows × 3 columns</p>\n",
       "</div>"
      ],
      "text/plain": [
       "    Unnamed: 0                                              title  target\n",
       "0            0   anyone figured out how hide the user interfac...       0\n",
       "1            1                                     payment issue        0\n",
       "2            2                                    recommendation        0\n",
       "3            3  idea what netflix can about constant cancellin...       0\n",
       "4            4                 time difference different country        0\n",
       "..         ...                                                ...     ...\n",
       "75          75    contestant spill the tea netflix series bullsh        0\n",
       "76          76  meghan markle created animated series ‘pearl’ ...       0\n",
       "77          77       cannot activate account without credit card        0\n",
       "78          78              spoiler ozark finale review that bad        0\n",
       "79          79  love death and robot volume coming netflix may...       0\n",
       "\n",
       "[80 rows x 3 columns]"
      ]
     },
     "execution_count": 161,
     "metadata": {},
     "output_type": "execute_result"
    }
   ],
   "source": [
    "df.head(80)"
   ]
  },
  {
   "cell_type": "markdown",
   "id": "80e94dba",
   "metadata": {},
   "source": [
    "## NLP Pre Processing and Lemmatization"
   ]
  },
  {
   "cell_type": "code",
   "execution_count": null,
   "id": "36b5dcad",
   "metadata": {},
   "outputs": [],
   "source": []
  },
  {
   "cell_type": "code",
   "execution_count": 162,
   "id": "fd680279",
   "metadata": {},
   "outputs": [],
   "source": [
    "lemmatizer = WordNetLemmatizer()\n",
    "\n",
    "def lemmatize_words(text):\n",
    "    words = text.split()\n",
    "    lemma_words =''\n",
    "    for word in words:\n",
    "        lemma_words += (lemmatizer.lemmatize(word) + ' ')\n",
    "    return lemma_words"
   ]
  },
  {
   "cell_type": "code",
   "execution_count": 163,
   "id": "2ce435e2",
   "metadata": {},
   "outputs": [],
   "source": [
    "df['title'] = df['title'].apply(lemmatize_words)"
   ]
  },
  {
   "cell_type": "code",
   "execution_count": 164,
   "id": "8dda46aa",
   "metadata": {},
   "outputs": [
    {
     "data": {
      "text/plain": [
       "(20630, 3)"
      ]
     },
     "execution_count": 164,
     "metadata": {},
     "output_type": "execute_result"
    }
   ],
   "source": [
    "df.shape"
   ]
  },
  {
   "cell_type": "code",
   "execution_count": 165,
   "id": "317dea16",
   "metadata": {},
   "outputs": [],
   "source": [
    "# drop rows with empty ''\n",
    "df = df[df['title'] !='']\n",
    "df = df.reset_index(drop=True)"
   ]
  },
  {
   "cell_type": "code",
   "execution_count": 166,
   "id": "e75dd3f3",
   "metadata": {},
   "outputs": [
    {
     "data": {
      "text/plain": [
       "(20630, 3)"
      ]
     },
     "execution_count": 166,
     "metadata": {},
     "output_type": "execute_result"
    }
   ],
   "source": [
    "df.shape"
   ]
  },
  {
   "cell_type": "code",
   "execution_count": 167,
   "id": "79b7dd11",
   "metadata": {},
   "outputs": [],
   "source": [
    "df.to_csv('clean_data1.csv', index= False)"
   ]
  },
  {
   "cell_type": "markdown",
   "id": "cb46852c",
   "metadata": {},
   "source": [
    "## Count Vectorizer"
   ]
  },
  {
   "cell_type": "markdown",
   "id": "1948c216",
   "metadata": {},
   "source": [
    "### Netflix Words"
   ]
  },
  {
   "cell_type": "code",
   "execution_count": 168,
   "id": "35382572",
   "metadata": {},
   "outputs": [],
   "source": [
    "#Most Frequently used words\n",
    "\n",
    "count_vect = CountVectorizer(analyzer=\"word\", tokenizer = None, preprocessor = None, stop_words = \"english\", ngram_range=(1,1))\n",
    "\n",
    "# Netflix CountVectorizer \n",
    "\n",
    "vector_netflix = df[df['target'] == 0]['title']\n",
    "\n",
    "# fit_transform the vectorizer\n",
    "\n",
    "netflix_words = count_vect.fit_transform(vector_netflix)\n",
    "\n",
    "#Convert output to Numpy Array\n",
    "\n",
    "netflix_words = netflix_words.toarray()\n",
    "\n",
    "\n"
   ]
  },
  {
   "cell_type": "code",
   "execution_count": 169,
   "id": "d9c6f0d8",
   "metadata": {},
   "outputs": [
    {
     "name": "stdout",
     "output_type": "stream",
     "text": [
      "['abandon', 'abbey', 'abercrombie', 'able', 'absolute', 'absolutely', 'absurd', 'access', 'acclaimed', 'according', 'account', 'accusation', 'accusing', 'ackman', 'acquires', 'act', 'acting', 'action', 'activate', 'actor', 'actress', 'actually', 'adam', 'adaptation', 'add', 'adding', 'additional', 'addon', 'address', 'adult', 'advance', 'advanced', 'adventure', 'advertiser', 'advertising', 'advice', 'african', 'afterlife', 'age', 'ago', 'agrees', 'airplane', 'aka', 'alba', 'alejandro', 'alex', 'algorithm', 'allow', 'alrawabi', 'alt', 'alton', 'ama', 'amazing', 'amazon', 'ambulance', 'american', 'amid', 'amv', 'ana', 'analesa', 'analysis', 'analyst', 'anderson', 'andrew', 'android', 'anil', 'animal', 'animated', 'animation', 'anime', 'ann', 'anna', 'announce', 'announced', 'announcement', 'annoyance', 'annoyed', 'anti', 'anybody', 'anymore', 'apocalypse', 'apollo', 'apologize', 'apologizes', 'app', 'appearance', 'apple', 'appletv', 'application', 'approach', 'apps', 'april', 'aranyak', 'arcane', 'archive', 'area', 'armas', 'arnold', 'arrive', 'art', 'article', 'artificial', 'artist', 'artwork', 'ashley', 'ashton', 'ask', 'asked', 'asleep', 'aspect', 'asphyxiation', 'assembly', 'assistant', 'attacked', 'attempt', 'audible', 'audience', 'audio', 'audition', 'aurora', 'auto', 'automatically', 'autoplay', 'available', 'avatar', 'avoid', 'awake', 'award', 'away', 'awesome', 'awful', 'awkward', 'bachelor', 'background', 'bacon', 'bad', 'baki', 'baking', 'balance', 'ban', 'banning', 'bar', 'barack', 'barbaro', 'bardo', 'baruchel', 'based', 'basic', 'battle', 'beckett', 'begin', 'beginning', 'believe', 'best', 'better', 'beverly', 'bid', 'big', 'bigelow', 'bigger', 'biggest', 'billed', 'billing', 'billion', 'bin', 'bing', 'binge', 'binged', 'biopic', 'bit', 'bitrate', 'bitrates', 'black', 'blackout', 'blake', 'blanche', 'blank', 'bleeding', 'bleeds', 'bleeping', 'blind', 'blockbuster', 'blocking', 'blog', 'blonde', 'blood', 'blue', 'bluetooth', 'bn', 'board', 'boiling', 'bombed', 'bone', 'book', 'bos', 'bother', 'boy', 'branding', 'bread', 'break', 'breaking', 'breath', 'bridgerton', 'brief', 'bright', 'brightness', 'bring', 'british', 'broadcasting', 'brother', 'brotherhood', 'brought', 'brown', 'browser', 'bubble', 'budget', 'buffeting', 'bug', 'bugging', 'building', 'built', 'bulgasal', 'bullsh', 'bullshit', 'bully', 'bullying', 'bundt', 'bunny', 'burger', 'burn', 'burnded', 'burnham', 'business', 'buti', 'butt', 'butter', 'button', 'buy', 'buying', 'buzzword', 'cable', 'cake', 'called', 'calling', 'came', 'canada', 'cancel', 'cancelation', 'canceled', 'canceling', 'cancellation', 'cancelled', 'cancelling', 'candle', 'cap', 'card', 'carell', 'cartoon', 'cary', 'casa', 'case', 'cash', 'cast', 'casting', 'castlevania', 'casual', 'cat', 'catalogue', 'catch', 'category', 'catherine', 'causing', 'cavill', 'celebrate', 'cell', 'censored', 'censorship', 'central', 'ceo', 'certificate', 'chainsaw', 'chairman', 'challenge', 'chance', 'change', 'changed', 'changing', 'chaotic', 'chappelle', 'character', 'characterization', 'charge', 'charging', 'charlotte', 'chart', 'cheaper', 'cheat', 'check', 'chef', 'choose', 'chooses', 'choppy', 'chris', 'christian', 'christine', 'chrome', 'chromecast', 'churn', 'churning', 'cking', 'clarita', 'clash', 'class', 'clickbait', 'clip', 'close', 'club', 'cobra', 'cocaine', 'code', 'cold', 'collateral', 'collection', 'color', 'com', 'come', 'comedy', 'comfort', 'comic', 'coming', 'comment', 'committing', 'community', 'company', 'compared', 'compatible', 'competition', 'complete', 'completely', 'computer', 'conclusion', 'condor', 'confession', 'confusing', 'connect', 'connected', 'consensual', 'consent', 'consider', 'considering', 'considers', 'consistency', 'consistent', 'consists', 'constant', 'constantly', 'contact', 'content', 'contestant', 'continue', 'converge', 'conversation', 'cool', 'cop', 'coral', 'cord', 'core', 'corey', 'cosmopolitan', 'cost', 'couldn', 'counted', 'country', 'course', 'court', 'courting', 'courtney', 'cout', 'cover', 'covid', 'cowboy', 'crack', 'crackdown', 'cracking', 'crash', 'crashing', 'crater', 'created', 'creative', 'creator', 'credit', 'creek', 'creepily', 'creeping', 'cretin', 'crime', 'criterion', 'critically', 'critique', 'crowd', 'crown', 'crypto', 'ctrl', 'cube', 'culmination', 'culture', 'cup', 'curiosity', 'curious', 'currently', 'customer', 'cut', 'cutback', 'cute', 'cutest', 'cuties', 'cyber', 'dacascos', 'dahmer', 'daily', 'damage', 'damn', 'daniel', 'dark', 'dat', 'data', 'date', 'dating', 'dave', 'david', 'day', 'daybreak', 'dead', 'deadline', 'deadly', 'deaf', 'deal', 'deanna', 'dear', 'death', 'debut', 'debuting', 'dec', 'decide', 'decided', 'decision', 'decrease', 'deed', 'defending', 'definitely', 'delete', 'deleted', 'delvey', 'demolition', 'depressing', 'derry', 'description', 'deserving', 'design', 'designed', 'desire', 'desperately', 'despise', 'destroyed', 'destroying', 'determine', 'develop', 'development', 'device', 'devil', 'dhamaka', 'diagnose', 'dialog', 'dialogue', 'did', 'didn', 'die', 'diet', 'difference', 'different', 'dion', 'dip', 'direct', 'director', 'dirty', 'disappeared', 'disappointing', 'disappointment', 'disaster', 'discourages', 'discus', 'discussed', 'discussion', 'dislike', 'display', 'distefano', 'distortion', 'disturbing', 'ditch', 'dive', 'diversify', 'doc', 'documentary', 'docuseries', 'doe', 'doesn', 'dog', 'doing', 'dolby', 'doll', 'dominion', 'domino', 'don', 'dong', 'dont', 'dorohedoro', 'double', 'downfall', 'downgrade', 'download', 'downloaded', 'downloading', 'downloads', 'downton', 'downvote', 'dragging', 'dragon', 'drama', 'draw', 'drifting', 'drive', 'driven', 'driver', 'drm', 'drop', 'dropped', 'dropping', 'drug', 'dub', 'dubbing', 'dungeon', 'dvd', 'dwarf', 'dying', 'dylan', 'dynamic', 'dystopian', 'earlier', 'early', 'earphone', 'earth', 'east', 'easter', 'eastern', 'eaten', 'eco', 'economic', 'ecosystem', 'eden', 'edge', 'edit', 'edited', 'education', 'edward', 'effort', 'egg', 'elimination', 'elite', 'elli', 'elliott', 'elon', 'elwes', 'emotional', 'empathy', 'empire', 'employee', 'empowering', 'enact', 'end', 'ending', 'eng', 'engagement', 'engine', 'engineer', 'english', 'entertainment', 'entire', 'episode', 'episodes', 'erased', 'erotic', 'errand', 'error', 'essential', 'estimate', 'eternia', 'europe', 'evans', 'evelyn', 'event', 'evolution', 'excited', 'exclusive', 'execution', 'executive', 'expanding', 'expands', 'expect', 'expectation', 'expensive', 'experience', 'experiencing', 'explained', 'explaining', 'explains', 'exploding', 'explore', 'export', 'exposing', 'extended', 'external', 'extra', 'extraction', 'face', 'fail', 'failing', 'fake', 'fall', 'falling', 'fame', 'family', 'famous', 'fan', 'fantasy', 'far', 'fast', 'father', 'fatima', 'favor', 'favorite', 'favourite', 'fear', 'feature', 'featuring', 'fee', 'feel', 'feeling', 'feldman', 'fewer', 'fez', 'fight', 'figured', 'film', 'filming', 'filter', 'final', 'finale', 'finally', 'finder', 'finding', 'finished', 'fired', 'fisher', 'fitch', 'fix', 'fixed', 'fixing', 'flag', 'flagged', 'flake', 'flat', 'flawed', 'fleabag', 'flight', 'fluorescent', 'flush', 'focus', 'focusing', 'folk', 'following', 'font', 'fool', 'football', 'force', 'forcing', 'foreign', 'forwarding', 'france', 'frankie', 'fraud', 'free', 'freeview', 'french', 'frequent', 'friend', 'friendly', 'friendship', 'frightening', 'fuck', 'fucking', 'fuelled', 'fugitive', 'fullscreen', 'fun', 'functional', 'fund', 'fundamental', 'future', 'futuristic', 'gabriel', 'gacy', 'game', 'gameshow', 'gaming', 'gamma', 'garbage', 'gb', 'gem', 'genre', 'georgia', 'georgina', 'geralt', 'germany', 'gervais', 'getting', 'ghost', 'giant', 'gift', 'giftcard', 'gigantic', 'gillian', 'gilligan', 'ginny', 'girl', 'glaring', 'global', 'globe', 'glowing', 'going', 'gone', 'good', 'goofed', 'google', 'gory', 'gosling', 'got', 'gotten', 'gourmet', 'grace', 'grandmother', 'grasp', 'graveyard', 'gray', 'great', 'greed', 'grey', 'grm', 'group', 'growing', 'grown', 'growth', 'gruesome', 'guardian', 'guess', 'guessed', 'guilty', 'gumball', 'gummi', 'guy', 'hacked', 'haha', 'half', 'hand', 'handle', 'hanma', 'happen', 'happened', 'happens', 'happier', 'happiness', 'hard', 'hargrave', 'harrelson', 'harry', 'harshvarrdhan', 'hart', 'hasn', 'hassan', 'hastings', 'hate', 'haven', 'havent', 'having', 'hazmat', 'hbo', 'hdmi', 'hdr', 'head', 'headache', 'headline', 'healthcare', 'healthy', 'hear', 'hearstopper', 'heartstopper', 'heavily', 'heavy', 'heir', 'heiress', 'heisenberg', 'heist', 'hell', 'hello', 'help', 'henry', 'hester', 'hey', 'hibiki', 'hidden', 'hide', 'high', 'higher', 'highly', 'hijab', 'hike', 'hill', 'hindi', 'hindustani', 'hip', 'hire', 'history', 'hit', 'hold', 'hollow', 'holmes', 'holy', 'home', 'homeless', 'homework', 'honestly', 'hooked', 'hop', 'hope', 'horrible', 'horror', 'host', 'hosting', 'hour', 'house', 'household', 'hub', 'hublitz', 'huge', 'hugo', 'hulu', 'human', 'hun', 'hunt', 'husband', 'hwang', 'hyuk', 'hyun', 'ice', 'icon', 'idea', 'identify', 'iko', 'image', 'imagine', 'imdb', 'immune', 'impact', 'imply', 'important', 'impossible', 'impression', 'improperly', 'improve', 'improvement', 'inactive', 'incident', 'includes', 'including', 'inconsistency', 'incorrectly', 'increase', 'increased', 'incredible', 'index', 'india', 'indian', 'inducing', 'infinite', 'inflation', 'info', 'information', 'initiative', 'innocent', 'insert', 'inside', 'insider', 'inspirational', 'installment', 'instance', 'intelligence', 'intentionally', 'interesting', 'interface', 'internal', 'internation', 'internet', 'interview', 'intolerance', 'intro', 'intrusion', 'invested', 'investing', 'ipad', 'iphone', 'iraq', 'irishman', 'iron', 'irrelevant', 'ish', 'island', 'isn', 'isp', 'issue', 'istanbul', 'italy', 'itunes', 'iñárritu', 'jabami', 'jackass', 'jake', 'james', 'january', 'japan', 'japanese', 'jay', 'jeff', 'jeffery', 'jennings', 'jesse', 'jessica', 'jimmy', 'jin', 'jinx', 'job', 'john', 'join', 'joint', 'jojo', 'joke', 'julia', 'julie', 'july', 'jump', 'june', 'just', 'justice', 'kai', 'kaluuya', 'kapoor', 'kathryn', 'kb', 'kdramas', 'kelley', 'kept', 'kevin', 'key', 'keyboard', 'keylogger', 'kid', 'kidding', 'kids', 'kill', 'killing', 'kind', 'kinda', 'king', 'kingdom', 'kitchen', 'kitten', 'kittens', 'know', 'koepp', 'komi', 'korea', 'korean', 'kotaro', 'kung', 'kunis', 'kutcher', 'label', 'lack', 'land', 'landing', 'language', 'laptop', 'large', 'larger', 'late', 'latest', 'laugh', 'launch', 'launching', 'laura', 'law', 'lawrence', 'lawsuit', 'lawyer', 'leaf', 'leaked', 'lean', 'leaning', 'leave', 'leaving', 'left', 'legend', 'legit', 'let', 'letting', 'lgbtq', 'library', 'licensed', 'life', 'like', 'liking', 'limit', 'limited', 'limiting', 'lincoln', 'line', 'lionsgate', 'list', 'literally', 'liu', 'live', 'lively', 'liz', 'load', 'loading', 'location', 'locke', 'lockup', 'log', 'logging', 'lol', 'long', 'longer', 'look', 'looking', 'loose', 'lord', 'lose', 'loses', 'losing', 'loss', 'lost', 'lot', 'loud', 'love', 'low', 'lowe', 'lower', 'lucifer', 'lucy', 'luna', 'lupin', 'lyonne', 'mac', 'macbook', 'magic', 'magician', 'magnolias', 'main', 'major', 'make', 'makeover', 'making', 'male', 'malware', 'man', 'manifest', 'march', 'mari', 'marilyn', 'mark', 'marked', 'market', 'markle', 'marry', 'martial', 'mass', 'massacre', 'master', 'masterpiece', 'match', 'matter', 'maybe', 'mbps', 'mcgill', 'meaning', 'measure', 'medici', 'medium', 'meeting', 'megan', 'meghan', 'member', 'membership', 'memory', 'menu', 'merlin', 'messiah', 'meta', 'metal', 'miami', 'mic', 'microsoft', 'midas', 'midnight', 'mighty', 'mikey', 'mila', 'mile', 'million', 'min', 'minaj', 'mind', 'minion', 'miniseries', 'ministry', 'minute', 'miss', 'missing', 'misunderstanding', 'mobile', 'mockumentary', 'mode', 'model', 'mojo', 'molloy', 'money', 'monica', 'monitor', 'monroe', 'month', 'moon', 'morale', 'morgan', 'motel', 'mouth', 'moved', 'movie', 'moving', 'msft', 'multiple', 'music', 'musk', 'muting', 'mysteriously', 'mystery', 'mythology', 'nanno', 'natasha', 'national', 'natural', 'naughton', 'nd', 'near', 'need', 'negative', 'netflix', 'netlfix', 'network', 'new', 'news', 'nflx', 'nft', 'night', 'ninja', 'noise', 'non', 'normal', 'note', 'noticeable', 'noticed', 'nova', 'novel', 'number', 'obama', 'obliterated', 'observes', 'occurrence', 'offer', 'office', 'official', 'officially', 'offline', 'offs', 'ogre', 'old', 'oldest', 'ones', 'online', 'open', 'operation', 'opinion', 'option', 'optional', 'order', 'origin', 'original', 'oscar', 'oswalt', 'ott', 'ottoman', 'outlander', 'outrage', 'overseas', 'owen', 'owned', 'ozark', 'pacific', 'pad', 'paid', 'panda', 'papel', 'paper', 'pappa', 'paranoid', 'park', 'participate', 'particular', 'partner', 'partnership', 'password', 'past', 'patriot', 'pattern', 'patton', 'pausing', 'pay', 'paying', 'payment', 'pearl', 'pen', 'penalize', 'penalty', 'people', 'perfect', 'performer', 'period', 'perry', 'person', 'personal', 'personality', 'perspective', 'petition', 'phantom', 'philosophical', 'phone', 'photoshop', 'physical', 'pic', 'picture', 'piece', 'pikachu', 'pissed', 'pissing', 'pitch', 'place', 'plain', 'plan', 'planet', 'platform', 'play', 'playback', 'played', 'player', 'playing', 'pldt', 'pleaser', 'plot', 'plugged', 'plunge', 'plus', 'pmuch', 'podcasts', 'point', 'poland', 'policy', 'political', 'poor', 'pop', 'popular', 'porn', 'portuguese', 'positive', 'possible', 'possibly', 'post', 'poster', 'potential', 'power', 'practice', 'precise', 'predicts', 'prefer', 'premiere', 'premium', 'prep', 'preparation', 'prepon', 'prequel', 'press', 'pretty', 'preview', 'previous', 'previously', 'price', 'pricing', 'prime', 'principal', 'prison', 'pro', 'probably', 'problem', 'processing', 'produce', 'produced', 'product', 'production', 'profile', 'program', 'programing', 'programming', 'progress', 'project', 'promising', 'promote', 'proper', 'protagonist', 'protags', 'protocol', 'provider', 'provoking', 'psychological', 'public', 'pulling', 'pupil', 'pure', 'pursuade', 'push', 'quadrigacx', 'quality', 'quarter', 'que', 'queen', 'quest', 'question', 'questionable', 'quick', 'quickly', 'quinn', 'quit', 'quite', 'quiz', 'quote', 'rage', 'rain', 'raise', 'raised', 'raising', 'rally', 'random', 'randomly', 'rank', 'rare', 'rate', 'rating', 'ratio', 'reacting', 'reactivating', 'ready', 'real', 'reality', 'really', 'reason', 'rebel', 'reboot', 'recap', 'recent', 'recently', 'reckon', 'recommend', 'recommendation', 'recorder', 'recs', 'red', 'reddit', 'reduce', 'reduction', 'redwall', 'reed', 'reflection', 'refusing', 'regarding', 'regina', 'register', 'reinstate', 'relationship', 'release', 'released', 'releasing', 'reliable', 'relic', 'remain', 'remember', 'reminder', 'removal', 'remove', 'removed', 'removing', 'renew', 'renewed', 'renews', 'renting', 'repeatedly', 'replicate', 'report', 'reportedly', 'reprisal', 'reprise', 'reputation', 'request', 'research', 'reshoots', 'resolution', 'resources', 'responds', 'response', 'restarted', 'restarting', 'result', 'resume', 'return', 'returning', 'reunite', 'revealed', 'reveals', 'revenue', 'review', 'revived', 'rewatching', 'rewinding', 'reynolds', 'rich', 'ricky', 'rid', 'right', 'rim', 'rip', 'rise', 'rival', 'rivalry', 'river', 'roach', 'rob', 'robbery', 'robert', 'robot', 'rodriguez', 'rogans', 'role', 'roll', 'romae', 'rough', 'royal', 'rubik', 'ruble', 'rumour', 'run', 'running', 'russia', 'russian', 'ruth', 'ruthless', 'ryan', 'sac', 'saf', 'sale', 'sam', 'samsung', 'samurai', 'san', 'sana', 'santa', 'sarma', 'saturation', 'saul', 'save', 'savile', 'saw', 'say', 'saying', 'scam', 'scandal', 'scandalous', 'scene', 'schedule', 'schitt', 'schizophrenic', 'school', 'schwarzenegger', 'sci', 'score', 'scott', 'scream', 'screen', 'screenmirroring', 'screenshots', 'scummy', 'search', 'searching', 'searchraw', 'season', 'second', 'secret', 'seeing', 'seeking', 'seen', 'segment', 'seinfeld', 'sell', 'selling', 'send', 'senior', 'sense', 'sentenced', 'separate', 'sequel', 'serial', 'series', 'seriously', 'serve', 'service', 'set', 'setting', 'seven', 'sex', 'sexual', 'shaikh', 'shamble', 'shan', 'share', 'shared', 'sharing', 'shell', 'sherlock', 'shift', 'shiny', 'shitty', 'shocking', 'shoe', 'shopping', 'short', 'shot', 'shouldn', 'showing', 'shrek', 'shsreholders', 'shuffle', 'shut', 'shuts', 'siege', 'sign', 'signing', 'signup', 'silverton', 'similar', 'simone', 'simple', 'sin', 'sings', 'sinner', 'sir', 'sitcom', 'site', 'size', 'sketch', 'sky', 'slacking', 'slate', 'slip', 'slowburn', 'slowly', 'slump', 'small', 'smaller', 'smart', 'smartest', 'smith', 'snabba', 'snl', 'snowy', 'snyder', 'social', 'sofia', 'soft', 'son', 'song', 'sonic', 'sony', 'soo', 'soon', 'sorian', 'sorry', 'sort', 'sound', 'source', 'south', 'space', 'spade', 'spanish', 'speak', 'speaks', 'special', 'specific', 'spectacular', 'speed', 'spend', 'spill', 'spin', 'spinoff', 'spite', 'spoiler', 'spot', 'spotlight', 'spriggan', 'spring', 'spy', 'squatter', 'squid', 'staff', 'stage', 'staged', 'stainless', 'stand', 'standard', 'stanley', 'star', 'starring', 'start', 'started', 'starting', 'startup', 'steal', 'steel', 'step', 'steve', 'stock', 'stoll', 'stop', 'store', 'story', 'straight', 'strange', 'stranger', 'strategy', 'stream', 'streameing', 'streamer', 'streaming', 'street', 'stretched', 'strong', 'struggling', 'stuff', 'stunning', 'stunt', 'stupid', 'sub', 'subreddit', 'subscriber', 'subscription', 'subtitle', 'subtitled', 'suck', 'sudden', 'suddenly', 'sued', 'suffer', 'suggest', 'suggestion', 'suggests', 'suicide', 'suit', 'sulpher', 'sum', 'summary', 'summertime', 'sunset', 'sunshine', 'super', 'superhero', 'supernature', 'support', 'supported', 'supposed', 'sure', 'surprised', 'survey', 'survival', 'survive', 'surviving', 'suspense', 'sustain', 'sweden', 'sweet', 'swindler', 'switch', 'switching', 'sync', 'synopsis', 'taking', 'talk', 'talked', 'talking', 'tank', 'tape', 'target', 'tate', 'taxi', 'tea', 'team', 'tearing', 'tease', 'teased', 'teaser', 'technology', 'teen', 'teenager', 'teeth', 'television', 'tell', 'temporarily', 'term', 'terrible', 'terrifying', 'test', 'texas', 'th', 'thank', 'thanks', 'thar', 'thats', 'theatrical', 'therapy', 'thermae', 'thesis', 'thing', 'things', 'think', 'thinking', 'tho', 'thought', 'thriller', 'throne', 'throwback', 'thumb', 'tie', 'tiger', 'time', 'timeline', 'timestamp', 'tinder', 'tirade', 'title', 'today', 'toddler', 'told', 'tom', 'tomorrow', 'tone', 'tony', 'took', 'topher', 'toronto', 'total', 'tour', 'town', 'track', 'trading', 'tradition', 'traffic', 'trailer', 'train', 'training', 'translate', 'translation', 'transport', 'trash', 'trashing', 'travel', 'travelling', 'travis', 'treat', 'trend', 'trial', 'trick', 'tried', 'trigger', 'trilogy', 'trio', 'trivia', 'tronto', 'trouble', 'true', 'truly', 'trust', 'truth', 'trying', 'tumble', 'turkish', 'turn', 'turning', 'tvq', 'tvs', 'twice', 'twit', 'tyler', 'ugly', 'ui', 'ukrainian', 'ultimatum', 'ultraman', 'unable', 'unannounced', 'underrated', 'underrepresented', 'understand', 'understanding', 'undesirable', 'unexpected', 'unfinished', 'unheard', 'universe', 'university', 'unogs', 'unpopular', 'unrealistic', 'unreleased', 'unscripted', 'unstable', 'untold', 'unwatchable', 'upcoming', 'upgrade', 'uplifting', 'ups', 'uptick', 'usa', 'usao', 'usb', 'use', 'used', 'user', 'using', 'usually', 'uta', 'utility', 'uuh', 'uwais', 'valderrama', 'valhalla', 'value', 'van', 'vandal', 'vanishing', 'vary', 'vault', 'vegan', 'venom', 'version', 'vibe', 'video', 'vie', 'view', 'viewed', 'viewer', 'viewing', 'viking', 'villain', 'vince', 'virgin', 'virtual', 'virus', 'vision', 'visit', 'voice', 'vol', 'volume', 'vote', 'vpn', 'walking', 'wall', 'walter', 'wanna', 'want', 'wanting', 'warehouse', 'warning', 'washington', 'waste', 'wasted', 'watch', 'watched', 'watchin', 'watching', 'watchman', 'way', 'wayne', 'wdwa', 'wearing', 'web', 'website', 'wedding', 'weed', 'week', 'weekly', 'weird', 'welcome', 'went', 'western', 'wet', 'whats', 'white', 'wide', 'wife', 'wifi', 'wildly', 'williamson', 'willing', 'wilmer', 'wilson', 'windfall', 'window', 'winkle', 'winter', 'wiped', 'wish', 'witcher', 'woe', 'woke', 'wolf', 'won', 'wonder', 'wont', 'woody', 'work', 'working', 'world', 'worse', 'worst', 'worth', 'worthy', 'wow', 'wrapped', 'writer', 'writing', 'wrong', 'wtaf', 'wtf', 'yakamoz', 'yaksha', 'yamazaki', 'yasuke', 'year', 'yearly', 'yellow', 'yennefer', 'yes', 'yield', 'young', 'youtube', 'ytd', 'yumeko', 'zack', 'zeen', 'zero', 'zone', 'zoomed', 'zutomayo']\n"
     ]
    }
   ],
   "source": [
    "# Netflix Words\n",
    "\n",
    "netflix_words_list = count_vect.get_feature_names()\n",
    "\n",
    "print(netflix_words_list)"
   ]
  },
  {
   "cell_type": "markdown",
   "id": "c91bbbc0",
   "metadata": {},
   "source": [
    "### DisneyPlus Words"
   ]
  },
  {
   "cell_type": "code",
   "execution_count": 170,
   "id": "46403537",
   "metadata": {},
   "outputs": [],
   "source": [
    "#Most Frequently used words\n",
    "\n",
    "count_vect = CountVectorizer(analyzer=\"word\", tokenizer = None, preprocessor = None, stop_words = \"english\", ngram_range=(1,1))\n",
    "\n",
    "# Netflix CountVectorizer \n",
    "\n",
    "vector_disney = df[df['target'] == 1]['title']\n",
    "\n",
    "# fit_transform the vectorizer\n",
    "\n",
    "disney_words = count_vect.fit_transform(vector_netflix)\n",
    "\n",
    "#Convert output to Numpy Array\n",
    "\n",
    "disney_words = disney_words.toarray()\n"
   ]
  },
  {
   "cell_type": "code",
   "execution_count": 171,
   "id": "a8f252d3",
   "metadata": {},
   "outputs": [
    {
     "name": "stdout",
     "output_type": "stream",
     "text": [
      "['abandon', 'abbey', 'abercrombie', 'able', 'absolute', 'absolutely', 'absurd', 'access', 'acclaimed', 'according', 'account', 'accusation', 'accusing', 'ackman', 'acquires', 'act', 'acting', 'action', 'activate', 'actor', 'actress', 'actually', 'adam', 'adaptation', 'add', 'adding', 'additional', 'addon', 'address', 'adult', 'advance', 'advanced', 'adventure', 'advertiser', 'advertising', 'advice', 'african', 'afterlife', 'age', 'ago', 'agrees', 'airplane', 'aka', 'alba', 'alejandro', 'alex', 'algorithm', 'allow', 'alrawabi', 'alt', 'alton', 'ama', 'amazing', 'amazon', 'ambulance', 'american', 'amid', 'amv', 'ana', 'analesa', 'analysis', 'analyst', 'anderson', 'andrew', 'android', 'anil', 'animal', 'animated', 'animation', 'anime', 'ann', 'anna', 'announce', 'announced', 'announcement', 'annoyance', 'annoyed', 'anti', 'anybody', 'anymore', 'apocalypse', 'apollo', 'apologize', 'apologizes', 'app', 'appearance', 'apple', 'appletv', 'application', 'approach', 'apps', 'april', 'aranyak', 'arcane', 'archive', 'area', 'armas', 'arnold', 'arrive', 'art', 'article', 'artificial', 'artist', 'artwork', 'ashley', 'ashton', 'ask', 'asked', 'asleep', 'aspect', 'asphyxiation', 'assembly', 'assistant', 'attacked', 'attempt', 'audible', 'audience', 'audio', 'audition', 'aurora', 'auto', 'automatically', 'autoplay', 'available', 'avatar', 'avoid', 'awake', 'award', 'away', 'awesome', 'awful', 'awkward', 'bachelor', 'background', 'bacon', 'bad', 'baki', 'baking', 'balance', 'ban', 'banning', 'bar', 'barack', 'barbaro', 'bardo', 'baruchel', 'based', 'basic', 'battle', 'beckett', 'begin', 'beginning', 'believe', 'best', 'better', 'beverly', 'bid', 'big', 'bigelow', 'bigger', 'biggest', 'billed', 'billing', 'billion', 'bin', 'bing', 'binge', 'binged', 'biopic', 'bit', 'bitrate', 'bitrates', 'black', 'blackout', 'blake', 'blanche', 'blank', 'bleeding', 'bleeds', 'bleeping', 'blind', 'blockbuster', 'blocking', 'blog', 'blonde', 'blood', 'blue', 'bluetooth', 'bn', 'board', 'boiling', 'bombed', 'bone', 'book', 'bos', 'bother', 'boy', 'branding', 'bread', 'break', 'breaking', 'breath', 'bridgerton', 'brief', 'bright', 'brightness', 'bring', 'british', 'broadcasting', 'brother', 'brotherhood', 'brought', 'brown', 'browser', 'bubble', 'budget', 'buffeting', 'bug', 'bugging', 'building', 'built', 'bulgasal', 'bullsh', 'bullshit', 'bully', 'bullying', 'bundt', 'bunny', 'burger', 'burn', 'burnded', 'burnham', 'business', 'buti', 'butt', 'butter', 'button', 'buy', 'buying', 'buzzword', 'cable', 'cake', 'called', 'calling', 'came', 'canada', 'cancel', 'cancelation', 'canceled', 'canceling', 'cancellation', 'cancelled', 'cancelling', 'candle', 'cap', 'card', 'carell', 'cartoon', 'cary', 'casa', 'case', 'cash', 'cast', 'casting', 'castlevania', 'casual', 'cat', 'catalogue', 'catch', 'category', 'catherine', 'causing', 'cavill', 'celebrate', 'cell', 'censored', 'censorship', 'central', 'ceo', 'certificate', 'chainsaw', 'chairman', 'challenge', 'chance', 'change', 'changed', 'changing', 'chaotic', 'chappelle', 'character', 'characterization', 'charge', 'charging', 'charlotte', 'chart', 'cheaper', 'cheat', 'check', 'chef', 'choose', 'chooses', 'choppy', 'chris', 'christian', 'christine', 'chrome', 'chromecast', 'churn', 'churning', 'cking', 'clarita', 'clash', 'class', 'clickbait', 'clip', 'close', 'club', 'cobra', 'cocaine', 'code', 'cold', 'collateral', 'collection', 'color', 'com', 'come', 'comedy', 'comfort', 'comic', 'coming', 'comment', 'committing', 'community', 'company', 'compared', 'compatible', 'competition', 'complete', 'completely', 'computer', 'conclusion', 'condor', 'confession', 'confusing', 'connect', 'connected', 'consensual', 'consent', 'consider', 'considering', 'considers', 'consistency', 'consistent', 'consists', 'constant', 'constantly', 'contact', 'content', 'contestant', 'continue', 'converge', 'conversation', 'cool', 'cop', 'coral', 'cord', 'core', 'corey', 'cosmopolitan', 'cost', 'couldn', 'counted', 'country', 'course', 'court', 'courting', 'courtney', 'cout', 'cover', 'covid', 'cowboy', 'crack', 'crackdown', 'cracking', 'crash', 'crashing', 'crater', 'created', 'creative', 'creator', 'credit', 'creek', 'creepily', 'creeping', 'cretin', 'crime', 'criterion', 'critically', 'critique', 'crowd', 'crown', 'crypto', 'ctrl', 'cube', 'culmination', 'culture', 'cup', 'curiosity', 'curious', 'currently', 'customer', 'cut', 'cutback', 'cute', 'cutest', 'cuties', 'cyber', 'dacascos', 'dahmer', 'daily', 'damage', 'damn', 'daniel', 'dark', 'dat', 'data', 'date', 'dating', 'dave', 'david', 'day', 'daybreak', 'dead', 'deadline', 'deadly', 'deaf', 'deal', 'deanna', 'dear', 'death', 'debut', 'debuting', 'dec', 'decide', 'decided', 'decision', 'decrease', 'deed', 'defending', 'definitely', 'delete', 'deleted', 'delvey', 'demolition', 'depressing', 'derry', 'description', 'deserving', 'design', 'designed', 'desire', 'desperately', 'despise', 'destroyed', 'destroying', 'determine', 'develop', 'development', 'device', 'devil', 'dhamaka', 'diagnose', 'dialog', 'dialogue', 'did', 'didn', 'die', 'diet', 'difference', 'different', 'dion', 'dip', 'direct', 'director', 'dirty', 'disappeared', 'disappointing', 'disappointment', 'disaster', 'discourages', 'discus', 'discussed', 'discussion', 'dislike', 'display', 'distefano', 'distortion', 'disturbing', 'ditch', 'dive', 'diversify', 'doc', 'documentary', 'docuseries', 'doe', 'doesn', 'dog', 'doing', 'dolby', 'doll', 'dominion', 'domino', 'don', 'dong', 'dont', 'dorohedoro', 'double', 'downfall', 'downgrade', 'download', 'downloaded', 'downloading', 'downloads', 'downton', 'downvote', 'dragging', 'dragon', 'drama', 'draw', 'drifting', 'drive', 'driven', 'driver', 'drm', 'drop', 'dropped', 'dropping', 'drug', 'dub', 'dubbing', 'dungeon', 'dvd', 'dwarf', 'dying', 'dylan', 'dynamic', 'dystopian', 'earlier', 'early', 'earphone', 'earth', 'east', 'easter', 'eastern', 'eaten', 'eco', 'economic', 'ecosystem', 'eden', 'edge', 'edit', 'edited', 'education', 'edward', 'effort', 'egg', 'elimination', 'elite', 'elli', 'elliott', 'elon', 'elwes', 'emotional', 'empathy', 'empire', 'employee', 'empowering', 'enact', 'end', 'ending', 'eng', 'engagement', 'engine', 'engineer', 'english', 'entertainment', 'entire', 'episode', 'episodes', 'erased', 'erotic', 'errand', 'error', 'essential', 'estimate', 'eternia', 'europe', 'evans', 'evelyn', 'event', 'evolution', 'excited', 'exclusive', 'execution', 'executive', 'expanding', 'expands', 'expect', 'expectation', 'expensive', 'experience', 'experiencing', 'explained', 'explaining', 'explains', 'exploding', 'explore', 'export', 'exposing', 'extended', 'external', 'extra', 'extraction', 'face', 'fail', 'failing', 'fake', 'fall', 'falling', 'fame', 'family', 'famous', 'fan', 'fantasy', 'far', 'fast', 'father', 'fatima', 'favor', 'favorite', 'favourite', 'fear', 'feature', 'featuring', 'fee', 'feel', 'feeling', 'feldman', 'fewer', 'fez', 'fight', 'figured', 'film', 'filming', 'filter', 'final', 'finale', 'finally', 'finder', 'finding', 'finished', 'fired', 'fisher', 'fitch', 'fix', 'fixed', 'fixing', 'flag', 'flagged', 'flake', 'flat', 'flawed', 'fleabag', 'flight', 'fluorescent', 'flush', 'focus', 'focusing', 'folk', 'following', 'font', 'fool', 'football', 'force', 'forcing', 'foreign', 'forwarding', 'france', 'frankie', 'fraud', 'free', 'freeview', 'french', 'frequent', 'friend', 'friendly', 'friendship', 'frightening', 'fuck', 'fucking', 'fuelled', 'fugitive', 'fullscreen', 'fun', 'functional', 'fund', 'fundamental', 'future', 'futuristic', 'gabriel', 'gacy', 'game', 'gameshow', 'gaming', 'gamma', 'garbage', 'gb', 'gem', 'genre', 'georgia', 'georgina', 'geralt', 'germany', 'gervais', 'getting', 'ghost', 'giant', 'gift', 'giftcard', 'gigantic', 'gillian', 'gilligan', 'ginny', 'girl', 'glaring', 'global', 'globe', 'glowing', 'going', 'gone', 'good', 'goofed', 'google', 'gory', 'gosling', 'got', 'gotten', 'gourmet', 'grace', 'grandmother', 'grasp', 'graveyard', 'gray', 'great', 'greed', 'grey', 'grm', 'group', 'growing', 'grown', 'growth', 'gruesome', 'guardian', 'guess', 'guessed', 'guilty', 'gumball', 'gummi', 'guy', 'hacked', 'haha', 'half', 'hand', 'handle', 'hanma', 'happen', 'happened', 'happens', 'happier', 'happiness', 'hard', 'hargrave', 'harrelson', 'harry', 'harshvarrdhan', 'hart', 'hasn', 'hassan', 'hastings', 'hate', 'haven', 'havent', 'having', 'hazmat', 'hbo', 'hdmi', 'hdr', 'head', 'headache', 'headline', 'healthcare', 'healthy', 'hear', 'hearstopper', 'heartstopper', 'heavily', 'heavy', 'heir', 'heiress', 'heisenberg', 'heist', 'hell', 'hello', 'help', 'henry', 'hester', 'hey', 'hibiki', 'hidden', 'hide', 'high', 'higher', 'highly', 'hijab', 'hike', 'hill', 'hindi', 'hindustani', 'hip', 'hire', 'history', 'hit', 'hold', 'hollow', 'holmes', 'holy', 'home', 'homeless', 'homework', 'honestly', 'hooked', 'hop', 'hope', 'horrible', 'horror', 'host', 'hosting', 'hour', 'house', 'household', 'hub', 'hublitz', 'huge', 'hugo', 'hulu', 'human', 'hun', 'hunt', 'husband', 'hwang', 'hyuk', 'hyun', 'ice', 'icon', 'idea', 'identify', 'iko', 'image', 'imagine', 'imdb', 'immune', 'impact', 'imply', 'important', 'impossible', 'impression', 'improperly', 'improve', 'improvement', 'inactive', 'incident', 'includes', 'including', 'inconsistency', 'incorrectly', 'increase', 'increased', 'incredible', 'index', 'india', 'indian', 'inducing', 'infinite', 'inflation', 'info', 'information', 'initiative', 'innocent', 'insert', 'inside', 'insider', 'inspirational', 'installment', 'instance', 'intelligence', 'intentionally', 'interesting', 'interface', 'internal', 'internation', 'internet', 'interview', 'intolerance', 'intro', 'intrusion', 'invested', 'investing', 'ipad', 'iphone', 'iraq', 'irishman', 'iron', 'irrelevant', 'ish', 'island', 'isn', 'isp', 'issue', 'istanbul', 'italy', 'itunes', 'iñárritu', 'jabami', 'jackass', 'jake', 'james', 'january', 'japan', 'japanese', 'jay', 'jeff', 'jeffery', 'jennings', 'jesse', 'jessica', 'jimmy', 'jin', 'jinx', 'job', 'john', 'join', 'joint', 'jojo', 'joke', 'julia', 'julie', 'july', 'jump', 'june', 'just', 'justice', 'kai', 'kaluuya', 'kapoor', 'kathryn', 'kb', 'kdramas', 'kelley', 'kept', 'kevin', 'key', 'keyboard', 'keylogger', 'kid', 'kidding', 'kids', 'kill', 'killing', 'kind', 'kinda', 'king', 'kingdom', 'kitchen', 'kitten', 'kittens', 'know', 'koepp', 'komi', 'korea', 'korean', 'kotaro', 'kung', 'kunis', 'kutcher', 'label', 'lack', 'land', 'landing', 'language', 'laptop', 'large', 'larger', 'late', 'latest', 'laugh', 'launch', 'launching', 'laura', 'law', 'lawrence', 'lawsuit', 'lawyer', 'leaf', 'leaked', 'lean', 'leaning', 'leave', 'leaving', 'left', 'legend', 'legit', 'let', 'letting', 'lgbtq', 'library', 'licensed', 'life', 'like', 'liking', 'limit', 'limited', 'limiting', 'lincoln', 'line', 'lionsgate', 'list', 'literally', 'liu', 'live', 'lively', 'liz', 'load', 'loading', 'location', 'locke', 'lockup', 'log', 'logging', 'lol', 'long', 'longer', 'look', 'looking', 'loose', 'lord', 'lose', 'loses', 'losing', 'loss', 'lost', 'lot', 'loud', 'love', 'low', 'lowe', 'lower', 'lucifer', 'lucy', 'luna', 'lupin', 'lyonne', 'mac', 'macbook', 'magic', 'magician', 'magnolias', 'main', 'major', 'make', 'makeover', 'making', 'male', 'malware', 'man', 'manifest', 'march', 'mari', 'marilyn', 'mark', 'marked', 'market', 'markle', 'marry', 'martial', 'mass', 'massacre', 'master', 'masterpiece', 'match', 'matter', 'maybe', 'mbps', 'mcgill', 'meaning', 'measure', 'medici', 'medium', 'meeting', 'megan', 'meghan', 'member', 'membership', 'memory', 'menu', 'merlin', 'messiah', 'meta', 'metal', 'miami', 'mic', 'microsoft', 'midas', 'midnight', 'mighty', 'mikey', 'mila', 'mile', 'million', 'min', 'minaj', 'mind', 'minion', 'miniseries', 'ministry', 'minute', 'miss', 'missing', 'misunderstanding', 'mobile', 'mockumentary', 'mode', 'model', 'mojo', 'molloy', 'money', 'monica', 'monitor', 'monroe', 'month', 'moon', 'morale', 'morgan', 'motel', 'mouth', 'moved', 'movie', 'moving', 'msft', 'multiple', 'music', 'musk', 'muting', 'mysteriously', 'mystery', 'mythology', 'nanno', 'natasha', 'national', 'natural', 'naughton', 'nd', 'near', 'need', 'negative', 'netflix', 'netlfix', 'network', 'new', 'news', 'nflx', 'nft', 'night', 'ninja', 'noise', 'non', 'normal', 'note', 'noticeable', 'noticed', 'nova', 'novel', 'number', 'obama', 'obliterated', 'observes', 'occurrence', 'offer', 'office', 'official', 'officially', 'offline', 'offs', 'ogre', 'old', 'oldest', 'ones', 'online', 'open', 'operation', 'opinion', 'option', 'optional', 'order', 'origin', 'original', 'oscar', 'oswalt', 'ott', 'ottoman', 'outlander', 'outrage', 'overseas', 'owen', 'owned', 'ozark', 'pacific', 'pad', 'paid', 'panda', 'papel', 'paper', 'pappa', 'paranoid', 'park', 'participate', 'particular', 'partner', 'partnership', 'password', 'past', 'patriot', 'pattern', 'patton', 'pausing', 'pay', 'paying', 'payment', 'pearl', 'pen', 'penalize', 'penalty', 'people', 'perfect', 'performer', 'period', 'perry', 'person', 'personal', 'personality', 'perspective', 'petition', 'phantom', 'philosophical', 'phone', 'photoshop', 'physical', 'pic', 'picture', 'piece', 'pikachu', 'pissed', 'pissing', 'pitch', 'place', 'plain', 'plan', 'planet', 'platform', 'play', 'playback', 'played', 'player', 'playing', 'pldt', 'pleaser', 'plot', 'plugged', 'plunge', 'plus', 'pmuch', 'podcasts', 'point', 'poland', 'policy', 'political', 'poor', 'pop', 'popular', 'porn', 'portuguese', 'positive', 'possible', 'possibly', 'post', 'poster', 'potential', 'power', 'practice', 'precise', 'predicts', 'prefer', 'premiere', 'premium', 'prep', 'preparation', 'prepon', 'prequel', 'press', 'pretty', 'preview', 'previous', 'previously', 'price', 'pricing', 'prime', 'principal', 'prison', 'pro', 'probably', 'problem', 'processing', 'produce', 'produced', 'product', 'production', 'profile', 'program', 'programing', 'programming', 'progress', 'project', 'promising', 'promote', 'proper', 'protagonist', 'protags', 'protocol', 'provider', 'provoking', 'psychological', 'public', 'pulling', 'pupil', 'pure', 'pursuade', 'push', 'quadrigacx', 'quality', 'quarter', 'que', 'queen', 'quest', 'question', 'questionable', 'quick', 'quickly', 'quinn', 'quit', 'quite', 'quiz', 'quote', 'rage', 'rain', 'raise', 'raised', 'raising', 'rally', 'random', 'randomly', 'rank', 'rare', 'rate', 'rating', 'ratio', 'reacting', 'reactivating', 'ready', 'real', 'reality', 'really', 'reason', 'rebel', 'reboot', 'recap', 'recent', 'recently', 'reckon', 'recommend', 'recommendation', 'recorder', 'recs', 'red', 'reddit', 'reduce', 'reduction', 'redwall', 'reed', 'reflection', 'refusing', 'regarding', 'regina', 'register', 'reinstate', 'relationship', 'release', 'released', 'releasing', 'reliable', 'relic', 'remain', 'remember', 'reminder', 'removal', 'remove', 'removed', 'removing', 'renew', 'renewed', 'renews', 'renting', 'repeatedly', 'replicate', 'report', 'reportedly', 'reprisal', 'reprise', 'reputation', 'request', 'research', 'reshoots', 'resolution', 'resources', 'responds', 'response', 'restarted', 'restarting', 'result', 'resume', 'return', 'returning', 'reunite', 'revealed', 'reveals', 'revenue', 'review', 'revived', 'rewatching', 'rewinding', 'reynolds', 'rich', 'ricky', 'rid', 'right', 'rim', 'rip', 'rise', 'rival', 'rivalry', 'river', 'roach', 'rob', 'robbery', 'robert', 'robot', 'rodriguez', 'rogans', 'role', 'roll', 'romae', 'rough', 'royal', 'rubik', 'ruble', 'rumour', 'run', 'running', 'russia', 'russian', 'ruth', 'ruthless', 'ryan', 'sac', 'saf', 'sale', 'sam', 'samsung', 'samurai', 'san', 'sana', 'santa', 'sarma', 'saturation', 'saul', 'save', 'savile', 'saw', 'say', 'saying', 'scam', 'scandal', 'scandalous', 'scene', 'schedule', 'schitt', 'schizophrenic', 'school', 'schwarzenegger', 'sci', 'score', 'scott', 'scream', 'screen', 'screenmirroring', 'screenshots', 'scummy', 'search', 'searching', 'searchraw', 'season', 'second', 'secret', 'seeing', 'seeking', 'seen', 'segment', 'seinfeld', 'sell', 'selling', 'send', 'senior', 'sense', 'sentenced', 'separate', 'sequel', 'serial', 'series', 'seriously', 'serve', 'service', 'set', 'setting', 'seven', 'sex', 'sexual', 'shaikh', 'shamble', 'shan', 'share', 'shared', 'sharing', 'shell', 'sherlock', 'shift', 'shiny', 'shitty', 'shocking', 'shoe', 'shopping', 'short', 'shot', 'shouldn', 'showing', 'shrek', 'shsreholders', 'shuffle', 'shut', 'shuts', 'siege', 'sign', 'signing', 'signup', 'silverton', 'similar', 'simone', 'simple', 'sin', 'sings', 'sinner', 'sir', 'sitcom', 'site', 'size', 'sketch', 'sky', 'slacking', 'slate', 'slip', 'slowburn', 'slowly', 'slump', 'small', 'smaller', 'smart', 'smartest', 'smith', 'snabba', 'snl', 'snowy', 'snyder', 'social', 'sofia', 'soft', 'son', 'song', 'sonic', 'sony', 'soo', 'soon', 'sorian', 'sorry', 'sort', 'sound', 'source', 'south', 'space', 'spade', 'spanish', 'speak', 'speaks', 'special', 'specific', 'spectacular', 'speed', 'spend', 'spill', 'spin', 'spinoff', 'spite', 'spoiler', 'spot', 'spotlight', 'spriggan', 'spring', 'spy', 'squatter', 'squid', 'staff', 'stage', 'staged', 'stainless', 'stand', 'standard', 'stanley', 'star', 'starring', 'start', 'started', 'starting', 'startup', 'steal', 'steel', 'step', 'steve', 'stock', 'stoll', 'stop', 'store', 'story', 'straight', 'strange', 'stranger', 'strategy', 'stream', 'streameing', 'streamer', 'streaming', 'street', 'stretched', 'strong', 'struggling', 'stuff', 'stunning', 'stunt', 'stupid', 'sub', 'subreddit', 'subscriber', 'subscription', 'subtitle', 'subtitled', 'suck', 'sudden', 'suddenly', 'sued', 'suffer', 'suggest', 'suggestion', 'suggests', 'suicide', 'suit', 'sulpher', 'sum', 'summary', 'summertime', 'sunset', 'sunshine', 'super', 'superhero', 'supernature', 'support', 'supported', 'supposed', 'sure', 'surprised', 'survey', 'survival', 'survive', 'surviving', 'suspense', 'sustain', 'sweden', 'sweet', 'swindler', 'switch', 'switching', 'sync', 'synopsis', 'taking', 'talk', 'talked', 'talking', 'tank', 'tape', 'target', 'tate', 'taxi', 'tea', 'team', 'tearing', 'tease', 'teased', 'teaser', 'technology', 'teen', 'teenager', 'teeth', 'television', 'tell', 'temporarily', 'term', 'terrible', 'terrifying', 'test', 'texas', 'th', 'thank', 'thanks', 'thar', 'thats', 'theatrical', 'therapy', 'thermae', 'thesis', 'thing', 'things', 'think', 'thinking', 'tho', 'thought', 'thriller', 'throne', 'throwback', 'thumb', 'tie', 'tiger', 'time', 'timeline', 'timestamp', 'tinder', 'tirade', 'title', 'today', 'toddler', 'told', 'tom', 'tomorrow', 'tone', 'tony', 'took', 'topher', 'toronto', 'total', 'tour', 'town', 'track', 'trading', 'tradition', 'traffic', 'trailer', 'train', 'training', 'translate', 'translation', 'transport', 'trash', 'trashing', 'travel', 'travelling', 'travis', 'treat', 'trend', 'trial', 'trick', 'tried', 'trigger', 'trilogy', 'trio', 'trivia', 'tronto', 'trouble', 'true', 'truly', 'trust', 'truth', 'trying', 'tumble', 'turkish', 'turn', 'turning', 'tvq', 'tvs', 'twice', 'twit', 'tyler', 'ugly', 'ui', 'ukrainian', 'ultimatum', 'ultraman', 'unable', 'unannounced', 'underrated', 'underrepresented', 'understand', 'understanding', 'undesirable', 'unexpected', 'unfinished', 'unheard', 'universe', 'university', 'unogs', 'unpopular', 'unrealistic', 'unreleased', 'unscripted', 'unstable', 'untold', 'unwatchable', 'upcoming', 'upgrade', 'uplifting', 'ups', 'uptick', 'usa', 'usao', 'usb', 'use', 'used', 'user', 'using', 'usually', 'uta', 'utility', 'uuh', 'uwais', 'valderrama', 'valhalla', 'value', 'van', 'vandal', 'vanishing', 'vary', 'vault', 'vegan', 'venom', 'version', 'vibe', 'video', 'vie', 'view', 'viewed', 'viewer', 'viewing', 'viking', 'villain', 'vince', 'virgin', 'virtual', 'virus', 'vision', 'visit', 'voice', 'vol', 'volume', 'vote', 'vpn', 'walking', 'wall', 'walter', 'wanna', 'want', 'wanting', 'warehouse', 'warning', 'washington', 'waste', 'wasted', 'watch', 'watched', 'watchin', 'watching', 'watchman', 'way', 'wayne', 'wdwa', 'wearing', 'web', 'website', 'wedding', 'weed', 'week', 'weekly', 'weird', 'welcome', 'went', 'western', 'wet', 'whats', 'white', 'wide', 'wife', 'wifi', 'wildly', 'williamson', 'willing', 'wilmer', 'wilson', 'windfall', 'window', 'winkle', 'winter', 'wiped', 'wish', 'witcher', 'woe', 'woke', 'wolf', 'won', 'wonder', 'wont', 'woody', 'work', 'working', 'world', 'worse', 'worst', 'worth', 'worthy', 'wow', 'wrapped', 'writer', 'writing', 'wrong', 'wtaf', 'wtf', 'yakamoz', 'yaksha', 'yamazaki', 'yasuke', 'year', 'yearly', 'yellow', 'yennefer', 'yes', 'yield', 'young', 'youtube', 'ytd', 'yumeko', 'zack', 'zeen', 'zero', 'zone', 'zoomed', 'zutomayo']\n"
     ]
    }
   ],
   "source": [
    "disney_words_list = count_vect.get_feature_names()\n",
    "\n",
    "print(netflix_words_list)"
   ]
  },
  {
   "cell_type": "code",
   "execution_count": 172,
   "id": "be3207c3",
   "metadata": {},
   "outputs": [],
   "source": [
    "from sklearn.feature_extraction import text"
   ]
  },
  {
   "cell_type": "code",
   "execution_count": 176,
   "id": "834bc102",
   "metadata": {},
   "outputs": [
    {
     "name": "stdout",
     "output_type": "stream",
     "text": [
      "frozenset({'yourselves', 'already', 'between', 'into', 'co', 'whose', 'at', 'although', 'everything', 'if', 'but', 'formerly', 'whenever', 'yours', 'that', 'your', 'detail', 'not', 'over', 'indeed', 'something', 'everywhere', 'her', 'hers', 'nobody', 'meanwhile', 'must', 'ourselves', 'is', 'will', 'due', 'hereafter', 'above', 'are', 'without', 'former', 'can', 'whither', 'throughout', 'after', 'moreover', 'below', 'system', 'where', 'mill', 'ten', 'thick', 'may', 'de', 'else', 'out', 'every', 'sometime', 'even', 'they', 'either', 'whereupon', 'my', 'front', 'both', 'for', 'along', 'seeming', 'am', 'another', 'please', 'nowhere', 'anything', 'etc', 'amoungst', 'since', 'twelve', 'next', 'hasnt', 'than', 'whereafter', 'those', 'also', 'why', 'twenty', 'side', 'thus', 'some', 'less', 'noone', 'several', 'afterwards', 'nine', 'when', 'made', 'him', 'in', 'least', 'this', 'might', 'before', 'own', 'we', 'no', 'further', 'neither', 'ltd', 'inc', 'name', 'ours', 'being', 'down', 'go', 'somehow', 'ie', 'found', 'un', 'while', 'whence', 'forty', 'last', 'nor', 'and', 'anywhere', 'most', 'me', 'see', 'only', 'part', 'do', 'thru', 'ever', 'nevertheless', 'elsewhere', 'now', 'third', 'about', 'describe', 'once', 'done', 'during', 'nothing', 'them', 'been', 'never', 'such', 'across', 'with', 'herein', 'she', 'together', 'move', 'again', 'had', 'take', 'so', 'be', 'however', 'same', 'our', 'thereupon', 'seems', 'off', 'amongst', 'anyone', 'keep', 'herself', 'to', 'here', 'on', 'beside', 'four', 'cant', 'enough', 'hundred', 'con', 'everyone', 're', 'fire', 'from', 'cannot', 'thence', 'towards', 'toward', 'becoming', 'latterly', 'the', 'sixty', 'becomes', 'whom', 'other', 'any', 'or', 'amount', 'would', 'until', 'up', 'five', 'therefore', 'sincere', 'full', 'top', 'still', 'anyway', 'onto', 'interest', 'behind', 'through', 'against', 'namely', 'anyhow', 'too', 'except', 'thin', 'seemed', 'hereupon', 'as', 'itself', 'back', 'what', 'therein', 'all', 'perhaps', 'fill', 'thereby', 'empty', 'how', 'whether', 'because', 'bill', 'under', 'his', 'an', 'became', 'yet', 'hence', 'whoever', 'mine', 'their', 'serious', 'via', 'couldnt', 'almost', 'eg', 'has', 'show', 'it', 'per', 'rather', 'was', 'you', 'wherever', 'i', 'much', 'beforehand', 'hereby', 'yourself', 'though', 'well', 'which', 'beyond', 'its', 'many', 'find', 'become', 'more', 'cry', 'fifty', 'by', 'call', 'eight', 'few', 'whereby', 'us', 'thereafter', 'then', 'two', 'have', 'others', 'each', 'mostly', 'eleven', 'very', 'within', 'themselves', 'whatever', 'three', 'fifteen', 'often', 'always', 'one', 'put', 'there', 'upon', 'someone', 'besides', 'whole', 'who', 'get', 'should', 'none', 'himself', 'around', 'myself', 'a', 'wherein', 'bottom', 'give', 'were', 'somewhere', 'six', 'among', 'whereas', 'he', 'these', 'first', 'could', 'latter', 'alone', 'of', 'seem', 'sometimes', 'otherwise'})\n"
     ]
    },
    {
     "data": {
      "text/plain": [
       "318"
      ]
     },
     "execution_count": 176,
     "metadata": {},
     "output_type": "execute_result"
    }
   ],
   "source": [
    "print(text.ENGLISH_STOP_WORDS)\n",
    "len(text.ENGLISH_STOP_WORDS)"
   ]
  },
  {
   "cell_type": "code",
   "execution_count": 177,
   "id": "feede5b2",
   "metadata": {},
   "outputs": [],
   "source": [
    "# Using sklearn 318 words to CountVectorizer\n",
    "\n",
    "stop_words = text.ENGLISH_STOP_WORDS\n"
   ]
  },
  {
   "cell_type": "markdown",
   "id": "a98c1f1b",
   "metadata": {},
   "source": [
    "### Word and N-gram frequency "
   ]
  },
  {
   "cell_type": "markdown",
   "id": "dc5f4671",
   "metadata": {},
   "source": [
    "#### Netflix"
   ]
  },
  {
   "cell_type": "code",
   "execution_count": 190,
   "id": "1b888eba",
   "metadata": {},
   "outputs": [],
   "source": [
    "#Most Frequently used words\n",
    "\n",
    "count_vect = CountVectorizer(analyzer=\"word\", tokenizer = None, preprocessor = None, stop_words = stop_words, ngram_range=(1,3), max_features = 10000)\n",
    "\n",
    "# Netflix CountVectorizer \n",
    "\n",
    "vector_netflix = df[df['target'] == 0]['title']\n",
    "\n",
    "# fit_transform the vectorizer\n",
    "\n",
    "netflix_words = count_vect.fit_transform(vector_netflix)\n",
    "\n",
    "#Convert output to Numpy Array\n",
    "\n",
    "netflix_words = netflix_words.toarray()"
   ]
  },
  {
   "cell_type": "code",
   "execution_count": 191,
   "id": "641f6e96",
   "metadata": {},
   "outputs": [
    {
     "data": {
      "text/plain": [
       "netflix               4804\n",
       "season                 641\n",
       "series                 635\n",
       "movie                  465\n",
       "trailer                374\n",
       "                      ... \n",
       "audio                   99\n",
       "saf                     99\n",
       "saf segment             99\n",
       "ultimatum               99\n",
       "review episode saf      99\n",
       "Length: 100, dtype: int64"
      ]
     },
     "execution_count": 191,
     "metadata": {},
     "output_type": "execute_result"
    }
   ],
   "source": [
    "# Frequency\n",
    "\n",
    "netflix_df = pd.DataFrame(netflix_words, columns= count_vect.get_feature_names())\n",
    "\n",
    "netflix_df.sum().sort_values(ascending=False).head(100)\n"
   ]
  },
  {
   "cell_type": "code",
   "execution_count": 192,
   "id": "70034a43",
   "metadata": {},
   "outputs": [
    {
     "data": {
      "text/plain": [
       "netflix                     0.467315\n",
       "season                      0.062354\n",
       "series                      0.061770\n",
       "movie                       0.045233\n",
       "trailer                     0.036381\n",
       "official                    0.035311\n",
       "new                         0.031226\n",
       "watching                    0.031128\n",
       "subscriber                  0.031031\n",
       "review                      0.029961\n",
       "watch                       0.029961\n",
       "just                        0.026848\n",
       "episode                     0.026848\n",
       "official trailer            0.026751\n",
       "like                        0.025681\n",
       "account                     0.022471\n",
       "anime                       0.021401\n",
       "thing                       0.021401\n",
       "password                    0.021401\n",
       "time                        0.020428\n",
       "good                        0.019455\n",
       "documentary                 0.019455\n",
       "sharing                     0.019261\n",
       "trailer netflix             0.019261\n",
       "know                        0.019261\n",
       "subtitle                    0.019261\n",
       "recommendation              0.018580\n",
       "watched                     0.018191\n",
       "official trailer netflix    0.018191\n",
       "game                        0.018191\n",
       "doe                         0.017121\n",
       "cancelled                   0.016051\n",
       "day                         0.016051\n",
       "need                        0.016051\n",
       "content                     0.016051\n",
       "looking                     0.015272\n",
       "app                         0.015078\n",
       "reason                      0.014981\n",
       "better                      0.014981\n",
       "price                       0.014981\n",
       "help                        0.014008\n",
       "right                       0.014008\n",
       "review episode              0.013911\n",
       "best                        0.013911\n",
       "think                       0.013911\n",
       "film                        0.013911\n",
       "netflix review episode      0.013911\n",
       "netflix review              0.013911\n",
       "country                     0.012938\n",
       "thought                     0.012938\n",
       "dtype: float64"
      ]
     },
     "execution_count": 192,
     "metadata": {},
     "output_type": "execute_result"
    }
   ],
   "source": [
    "netflix_df.mean().sort_values(ascending=False).head(50)"
   ]
  },
  {
   "cell_type": "markdown",
   "id": "5516eb48",
   "metadata": {},
   "source": [
    "#### DisneyPlus"
   ]
  },
  {
   "cell_type": "code",
   "execution_count": 193,
   "id": "8801550a",
   "metadata": {},
   "outputs": [],
   "source": [
    "#Most Frequently used words\n",
    "\n",
    "count_vect = CountVectorizer(analyzer=\"word\", tokenizer = None, preprocessor = None, stop_words = stop_words, ngram_range=(1,3), max_features = 10000)\n",
    "\n",
    "# DisneyPlus CountVectorizer \n",
    "\n",
    "vector_disney = df[df['target'] == 1]['title']\n",
    "\n",
    "# fit_transform the vectorizer\n",
    "\n",
    "disney_words = count_vect.fit_transform(vector_disney)\n",
    "\n",
    "#Convert output to Numpy Array\n",
    "\n",
    "disney_words = disney_words.toarray()"
   ]
  },
  {
   "cell_type": "code",
   "execution_count": 194,
   "id": "eff15f95",
   "metadata": {},
   "outputs": [
    {
     "data": {
      "text/plain": [
       "disney         4910\n",
       "series         1024\n",
       "plus           1008\n",
       "disney plus     987\n",
       "marvel          809\n",
       "               ... \n",
       "week            116\n",
       "premiere        116\n",
       "guy             116\n",
       "way             116\n",
       "australia       115\n",
       "Length: 100, dtype: int64"
      ]
     },
     "execution_count": 194,
     "metadata": {},
     "output_type": "execute_result"
    }
   ],
   "source": [
    "# Frequency\n",
    "\n",
    "disney_df = pd.DataFrame(disney_words, columns= count_vect.get_feature_names())\n",
    "\n",
    "disney_df.sum().sort_values(ascending=False).head(100)"
   ]
  },
  {
   "cell_type": "code",
   "execution_count": 195,
   "id": "7cf33748",
   "metadata": {},
   "outputs": [
    {
     "data": {
      "text/plain": [
       "disney           0.474396\n",
       "series           0.098937\n",
       "plus             0.097391\n",
       "disney plus      0.095362\n",
       "marvel           0.078164\n",
       "star             0.075749\n",
       "new              0.062415\n",
       "episode          0.062029\n",
       "movie            0.060966\n",
       "moon             0.057488\n",
       "coming           0.056039\n",
       "season           0.054976\n",
       "moon knight      0.054300\n",
       "knight           0.054300\n",
       "doe              0.040580\n",
       "streaming        0.040193\n",
       "content          0.038841\n",
       "netflix          0.037778\n",
       "watch            0.034686\n",
       "available        0.033527\n",
       "release          0.033237\n",
       "think            0.031111\n",
       "original         0.029372\n",
       "march            0.028019\n",
       "poster           0.028019\n",
       "coming disney    0.026860\n",
       "family           0.026280\n",
       "hulu             0.026184\n",
       "film             0.026184\n",
       "canada           0.024058\n",
       "know             0.022222\n",
       "just             0.022222\n",
       "time             0.021449\n",
       "soon             0.020966\n",
       "year             0.019517\n",
       "disney star      0.019420\n",
       "red              0.018744\n",
       "missing          0.018551\n",
       "join             0.018454\n",
       "april            0.018454\n",
       "turning red      0.017778\n",
       "turning          0.017778\n",
       "america          0.017585\n",
       "war              0.017198\n",
       "trailer          0.017005\n",
       "subtitle         0.017005\n",
       "watching         0.016425\n",
       "proud            0.016135\n",
       "daredevil        0.016039\n",
       "th               0.015942\n",
       "dtype: float64"
      ]
     },
     "execution_count": 195,
     "metadata": {},
     "output_type": "execute_result"
    }
   ],
   "source": [
    "# Proportion\n",
    "\n",
    "disney_df.mean().sort_values(ascending=False).head(50)"
   ]
  },
  {
   "cell_type": "markdown",
   "id": "f50d98d7",
   "metadata": {},
   "source": [
    "## TF_IDF Vectorizer"
   ]
  },
  {
   "cell_type": "markdown",
   "id": "b599378d",
   "metadata": {},
   "source": [
    "### Netflix \n"
   ]
  },
  {
   "cell_type": "code",
   "execution_count": 196,
   "id": "fffc802d",
   "metadata": {},
   "outputs": [
    {
     "data": {
      "text/plain": [
       "netflix                     378.025063\n",
       "season                       99.482846\n",
       "series                       97.587473\n",
       "recommendation               87.766553\n",
       "movie                        85.649475\n",
       "trailer                      70.249396\n",
       "watch                        70.199291\n",
       "official                     66.303589\n",
       "watching                     63.445958\n",
       "review                       60.239044\n",
       "subscriber                   57.043065\n",
       "official trailer             55.465437\n",
       "new                          54.961988\n",
       "episode                      51.493682\n",
       "just                         50.803292\n",
       "cancelled                    49.012463\n",
       "good                         47.948142\n",
       "old                          47.202901\n",
       "anime                        46.173349\n",
       "subtitle                     45.892470\n",
       "account                      45.413614\n",
       "day                          44.598677\n",
       "looking                      44.172312\n",
       "trailer netflix              42.979593\n",
       "watched                      42.672420\n",
       "help                         42.316389\n",
       "official trailer netflix     41.063812\n",
       "need                         40.423221\n",
       "like                         39.987564\n",
       "error                        39.280664\n",
       "know                         38.911565\n",
       "thing                        38.697915\n",
       "question                     37.384991\n",
       "documentary                  36.623548\n",
       "life                         36.435709\n",
       "price                        36.229320\n",
       "time                         35.506975\n",
       "password                     35.006539\n",
       "idea                         34.482936\n",
       "bullshit                     34.097599\n",
       "game                         33.395330\n",
       "doe                          32.679241\n",
       "ultimatum                    32.587935\n",
       "better                       32.390380\n",
       "think                        32.360446\n",
       "country                      32.359965\n",
       "film                         32.207893\n",
       "sharing                      31.822704\n",
       "review episode               31.515134\n",
       "netflix review               31.515134\n",
       "dtype: float64"
      ]
     },
     "execution_count": 196,
     "metadata": {},
     "output_type": "execute_result"
    }
   ],
   "source": [
    "tvec = TfidfVectorizer(analyzer = \"word\", \n",
    "                     stop_words = stop_words, \n",
    "                     max_features = 10000, \n",
    "                     ngram_range = (1, 3))\n",
    "\n",
    "netflix_tf_words = tvec.fit_transform(vector_netflix)\n",
    "\n",
    "netflix_tf_words = netflix_tf_words.toarray()\n",
    "\n",
    "netflix_df = pd.DataFrame(netflix_tf_words, columns=tvec.get_feature_names())\n",
    "\n",
    "netflix_df.sum().sort_values(ascending=False).head(50)"
   ]
  },
  {
   "cell_type": "markdown",
   "id": "f439634f",
   "metadata": {},
   "source": [
    "### DisneyPlus"
   ]
  },
  {
   "cell_type": "code",
   "execution_count": 197,
   "id": "9fe0ced7",
   "metadata": {},
   "outputs": [
    {
     "data": {
      "text/plain": [
       "disney           371.869755\n",
       "plus             142.684633\n",
       "disney plus      141.622847\n",
       "marvel           129.874829\n",
       "series           118.945798\n",
       "new              100.133077\n",
       "star              98.545804\n",
       "coming            98.380048\n",
       "movie             97.952807\n",
       "episode           97.763845\n",
       "moon              90.514967\n",
       "season            90.185197\n",
       "knight            86.908945\n",
       "moon knight       86.908945\n",
       "netflix           71.927276\n",
       "coming disney     69.523522\n",
       "content           67.050280\n",
       "daredevil         66.272463\n",
       "doe               64.359542\n",
       "streaming         62.289071\n",
       "watch             59.066736\n",
       "canada            55.624998\n",
       "march             55.145715\n",
       "poster            53.445131\n",
       "available         52.351057\n",
       "think             49.507922\n",
       "release           48.791174\n",
       "family            46.014258\n",
       "missing           45.565233\n",
       "april             45.056824\n",
       "original          42.822600\n",
       "year              41.124481\n",
       "house             39.965069\n",
       "film              39.558762\n",
       "help              39.549984\n",
       "know              38.956401\n",
       "just              37.870942\n",
       "hulu              37.167607\n",
       "soon              37.065713\n",
       "official          36.944415\n",
       "watching          36.811350\n",
       "trailer           36.470155\n",
       "owl               35.721769\n",
       "owl house         35.721769\n",
       "disney star       35.179615\n",
       "red               34.821389\n",
       "time              34.581248\n",
       "war               34.566887\n",
       "subtitle          33.937816\n",
       "issue             33.464281\n",
       "dtype: float64"
      ]
     },
     "execution_count": 197,
     "metadata": {},
     "output_type": "execute_result"
    }
   ],
   "source": [
    "tvec = TfidfVectorizer(analyzer = \"word\", \n",
    "                     stop_words = stop_words, \n",
    "                     max_features = 10000, \n",
    "                     ngram_range = (1, 3))\n",
    "\n",
    "disney_tf_words = tvec.fit_transform(vector_disney)\n",
    "\n",
    "disney_tf_words = disney_tf_words.toarray()\n",
    "\n",
    "disney_df = pd.DataFrame(disney_tf_words, columns=tvec.get_feature_names())\n",
    "\n",
    "disney_df.sum().sort_values(ascending=False).head(50)"
   ]
  },
  {
   "cell_type": "code",
   "execution_count": null,
   "id": "388fd652",
   "metadata": {},
   "outputs": [],
   "source": [
    "# Import library for generating word cloud\n",
    "from wordcloud import WordCloud\n",
    "from PIL import Image\n",
    "\n",
    "# Define function to draw word cloud\n",
    "def draw_wordcloud(text, plot_title=None, mask_img=None):\n",
    "    \"\"\"\n",
    "    Generate and draw word cloud from text.\n",
    "    \n",
    "    Parameters\n",
    "    ----------\n",
    "    text : str\n",
    "        Text to generate word cloud from.\n",
    "    title : str\n",
    "        Title to set on plot\n",
    "    mask_img: str\n",
    "        Path to image mask\n",
    "    \"\"\"\n",
    "    mask = np.array(Image.open(mask_img))\n",
    "\n",
    "    wordcloud = WordCloud(\n",
    "        mask = mask,\n",
    "        scale=7,\n",
    "        max_words=1000,\n",
    "        background_color='white',\n",
    "        colormap='brg',\n",
    "        contour_width=3,\n",
    "        contour_color='steelblue',\n",
    "        random_state=42\n",
    "    ).generate(text)\n",
    "    plt.figure(figsize=(14,14), facecolor='white')\n",
    "    plt.imshow(wordcloud, interpolation=\"bilinear\")\n",
    "    if plot_title:\n",
    "        plt.title(plot_title, fontsize=20, pad=50)\n",
    "    plt.axis(\"off\")\n",
    "    plt.show()"
   ]
  },
  {
   "cell_type": "code",
   "execution_count": null,
   "id": "6eba4af0",
   "metadata": {},
   "outputs": [],
   "source": [
    "# Draw word cloud for /r/personalfinance\n",
    "draw_wordcloud(\n",
    "    str(df[df.subreddit=='personalfinance'].text_feature),\n",
    "    plot_title='Word Cloud for /r/personalfinance',\n",
    "    mask_img = '../images/money_mask.png'\n",
    ")"
   ]
  },
  {
   "cell_type": "code",
   "execution_count": null,
   "id": "c4d597d4",
   "metadata": {},
   "outputs": [],
   "source": [
    "# Draw word cloud for /r/relationship_advice\n",
    "draw_wordcloud(\n",
    "    str(df[df.subreddit=='relationship_advice'].text_feature),\n",
    "    plot_title='Word Cloud for /r/relationship_advice',\n",
    "    mask_img = '../images/heart_mask.png'\n",
    ")"
   ]
  },
  {
   "cell_type": "code",
   "execution_count": null,
   "id": "9924fc27",
   "metadata": {},
   "outputs": [],
   "source": []
  },
  {
   "cell_type": "code",
   "execution_count": null,
   "id": "e5f371e1",
   "metadata": {},
   "outputs": [],
   "source": []
  }
 ],
 "metadata": {
  "kernelspec": {
   "display_name": "Python 3 (ipykernel)",
   "language": "python",
   "name": "python3"
  },
  "language_info": {
   "codemirror_mode": {
    "name": "ipython",
    "version": 3
   },
   "file_extension": ".py",
   "mimetype": "text/x-python",
   "name": "python",
   "nbconvert_exporter": "python",
   "pygments_lexer": "ipython3",
   "version": "3.9.12"
  }
 },
 "nbformat": 4,
 "nbformat_minor": 5
}
