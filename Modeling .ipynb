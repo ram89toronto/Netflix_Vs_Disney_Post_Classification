{
 "cells": [
  {
   "cell_type": "code",
   "execution_count": 335,
   "id": "2a2f383d",
   "metadata": {},
   "outputs": [],
   "source": [
    "import requests\n",
    "import time\n",
    "import pandas as pd\n",
    "import numpy as np\n",
    "import matplotlib.pyplot as plt\n",
    "import seaborn as sns\n",
    "from itertools import combinations\n",
    "from sklearn.ensemble import BaggingClassifier, RandomForestClassifier, ExtraTreesClassifier, AdaBoostClassifier, GradientBoostingClassifier\n",
    "from sklearn.feature_extraction import _stop_words\n",
    "from sklearn.feature_extraction.text import CountVectorizer, HashingVectorizer, TfidfVectorizer\n",
    "from sklearn.linear_model import LogisticRegression, LogisticRegressionCV\n",
    "from sklearn.metrics import accuracy_score, confusion_matrix\n",
    "from sklearn.model_selection import train_test_split, cross_val_score, GridSearchCV\n",
    "from sklearn.naive_bayes import MultinomialNB, BernoulliNB, GaussianNB\n",
    "from sklearn.neighbors import KNeighborsClassifier\n",
    "from sklearn.pipeline import Pipeline\n",
    "from sklearn.preprocessing import StandardScaler, PolynomialFeatures\n",
    "from sklearn.svm import SVC\n",
    "from sklearn.tree import DecisionTreeClassifier\n",
    "\n",
    "\n",
    "%matplotlib inline \n"
   ]
  },
  {
   "cell_type": "code",
   "execution_count": 254,
   "id": "1bb22385",
   "metadata": {},
   "outputs": [],
   "source": [
    "df = pd.read_csv('clean_data1.csv',)"
   ]
  },
  {
   "cell_type": "code",
   "execution_count": 255,
   "id": "a331665f",
   "metadata": {},
   "outputs": [],
   "source": [
    "df = df[['title','target']]"
   ]
  },
  {
   "cell_type": "code",
   "execution_count": 256,
   "id": "15ee494b",
   "metadata": {},
   "outputs": [
    {
     "data": {
      "text/html": [
       "<div>\n",
       "<style scoped>\n",
       "    .dataframe tbody tr th:only-of-type {\n",
       "        vertical-align: middle;\n",
       "    }\n",
       "\n",
       "    .dataframe tbody tr th {\n",
       "        vertical-align: top;\n",
       "    }\n",
       "\n",
       "    .dataframe thead th {\n",
       "        text-align: right;\n",
       "    }\n",
       "</style>\n",
       "<table border=\"1\" class=\"dataframe\">\n",
       "  <thead>\n",
       "    <tr style=\"text-align: right;\">\n",
       "      <th></th>\n",
       "      <th>title</th>\n",
       "      <th>target</th>\n",
       "    </tr>\n",
       "  </thead>\n",
       "  <tbody>\n",
       "    <tr>\n",
       "      <th>0</th>\n",
       "      <td>anyone figured out how hide the user interface...</td>\n",
       "      <td>0</td>\n",
       "    </tr>\n",
       "    <tr>\n",
       "      <th>1</th>\n",
       "      <td>payment issue</td>\n",
       "      <td>0</td>\n",
       "    </tr>\n",
       "    <tr>\n",
       "      <th>2</th>\n",
       "      <td>recommendation</td>\n",
       "      <td>0</td>\n",
       "    </tr>\n",
       "    <tr>\n",
       "      <th>3</th>\n",
       "      <td>idea what netflix can about constant cancellin...</td>\n",
       "      <td>0</td>\n",
       "    </tr>\n",
       "    <tr>\n",
       "      <th>4</th>\n",
       "      <td>time difference different country</td>\n",
       "      <td>0</td>\n",
       "    </tr>\n",
       "  </tbody>\n",
       "</table>\n",
       "</div>"
      ],
      "text/plain": [
       "                                               title  target\n",
       "0  anyone figured out how hide the user interface...       0\n",
       "1                                     payment issue        0\n",
       "2                                    recommendation        0\n",
       "3  idea what netflix can about constant cancellin...       0\n",
       "4                 time difference different country        0"
      ]
     },
     "execution_count": 256,
     "metadata": {},
     "output_type": "execute_result"
    }
   ],
   "source": [
    "df.head()"
   ]
  },
  {
   "cell_type": "code",
   "execution_count": 257,
   "id": "7ee4fcec",
   "metadata": {},
   "outputs": [
    {
     "data": {
      "text/plain": [
       "(20630, 2)"
      ]
     },
     "execution_count": 257,
     "metadata": {},
     "output_type": "execute_result"
    }
   ],
   "source": [
    "df.shape"
   ]
  },
  {
   "cell_type": "code",
   "execution_count": 258,
   "id": "d745e7f3",
   "metadata": {},
   "outputs": [],
   "source": [
    "X= df['title']\n",
    "y= df['target']\n"
   ]
  },
  {
   "cell_type": "code",
   "execution_count": 259,
   "id": "ef60d50c",
   "metadata": {},
   "outputs": [
    {
     "data": {
      "text/plain": [
       "1    0.501697\n",
       "0    0.498303\n",
       "Name: target, dtype: float64"
      ]
     },
     "execution_count": 259,
     "metadata": {},
     "output_type": "execute_result"
    }
   ],
   "source": [
    "#  Checking the proportion\n",
    "y.value_counts(normalize=True)"
   ]
  },
  {
   "cell_type": "code",
   "execution_count": 260,
   "id": "b0d00ef4",
   "metadata": {},
   "outputs": [],
   "source": [
    "# Split the data into the Training and Testing sets\n",
    "\n",
    "X_train, X_test, y_train, y_test = train_test_split(X,\n",
    "                                                    y,\n",
    "                                                    test_size=0.20,\n",
    "                                                    stratify=y,\n",
    "                                                    random_state=42)"
   ]
  },
  {
   "cell_type": "code",
   "execution_count": 261,
   "id": "68523bbd",
   "metadata": {},
   "outputs": [
    {
     "data": {
      "text/plain": [
       "3672                         what everyone watching today \n",
       "306                       time drop your subscription boy \n",
       "3417        bad vegan spoiler help understanding the scam \n",
       "15400    converted @ poster awesome official moon knigh...\n",
       "12973    disney date announcement coming really soon fo...\n",
       "                               ...                        \n",
       "10433    had the opportunity meet acting legend carl we...\n",
       "15071    think disney plus might pushing this film the ...\n",
       "11035          adding hulu and espn bundle prepaid disney \n",
       "4167       question about the ending the innocent spoiler \n",
       "7939                        better call saul season recap \n",
       "Name: title, Length: 4126, dtype: object"
      ]
     },
     "execution_count": 261,
     "metadata": {},
     "output_type": "execute_result"
    }
   ],
   "source": [
    "X_test"
   ]
  },
  {
   "cell_type": "markdown",
   "id": "c53e96c2",
   "metadata": {},
   "source": [
    "### Stopwords using sklearn"
   ]
  },
  {
   "cell_type": "code",
   "execution_count": 262,
   "id": "20de9207",
   "metadata": {},
   "outputs": [
    {
     "name": "stdout",
     "output_type": "stream",
     "text": [
      "['there', 'further', 'ten', 'its', 'has', 'everyone', 'almost', 'move', 'because', 'each', 'more', 'so', 're', 'elsewhere', 'one', 'against', 'whereafter', 'front', 'whereby', 'eight', 'amoungst', 'but', 'very', 'fill', 'that', 'always', 'which', 'nine', 'three', 'fire', 'becomes', 'much', 'get', 'may', 'yours', 'seems', 'are', 'along', 'name', 'noone', 'sincere', 'side', 'hers', 'such', 'under', 'everything', 'describe', 'sometime', 'former', 'back', 'namely', 'yourself', 'next', 'alone', 'many', 'since', 'might', 'here', 'through', 'whom', 'i', 'in', 'had', 'other', 'out', 'empty', 'first', 'ourselves', 'nothing', 'something', 'see', 'what', 'all', 'ever', 'we', 'couldnt', 'wherever', 'below', 'ours', 'thence', 'himself', 'same', 'either', 'must', 'now', 'anyway', 'again', 'from', 'when', 'my', 'became', 'sixty', 'done', 'becoming', 'who', 'and', 'own', 'about', 'anyhow', 'their', 'forty', 'un', 'someone', 'whoever', 'our', 'themselves', 'been', 'with', 'bottom', 'fifteen', 'both', 'around', 'behind', 'etc', 'whatever', 'last', 'although', 'cannot', 'whose', 'was', 'made', 'nowhere', 'show', 'five', 'be', 'whereupon', 'become', 'have', 'at', 'no', 'even', 'ie', 'off', 'several', 'thereupon', 'however', 'full', 'call', 'co', 'across', 'his', 'otherwise', 'not', 'already', 'hereupon', 'for', 'meanwhile', 'hasnt', 'he', 'if', 'keep', 'yourselves', 'toward', 'yet', 'cry', 'less', 'somewhere', 'towards', 'least', 'then', 'latter', 'whither', 'nor', 'them', 'thick', 'fifty', 'eg', 'ltd', 'anything', 'top', 'could', 'during', 'is', 'mill', 'while', 'nobody', 'herein', 'therefore', 'amongst', 'whereas', 'will', 'few', 'though', 'four', 'she', 'detail', 'before', 'put', 'seemed', 'together', 'third', 'rather', 'bill', 'none', 'or', 'else', 'eleven', 'mine', 'those', 'hence', 'throughout', 'would', 'into', 'others', 'everywhere', 'often', 'two', 'only', 'somehow', 'system', 'any', 'itself', 'cant', 'inc', 'found', 'perhaps', 'once', 'every', 'up', 'can', 'give', 'hundred', 'beside', 'neither', 'six', 'do', 'afterwards', 'whole', 'on', 'you', 'via', 'your', 'thin', 'sometimes', 'above', 'too', 'until', 'this', 'seem', 'than', 'her', 'con', 'most', 'us', 'another', 'over', 'twelve', 'part', 'why', 'me', 'by', 'down', 'thus', 'were', 'it', 'moreover', 'serious', 'whenever', 'where', 'thereafter', 'indeed', 'twenty', 'thereby', 'as', 'within', 'never', 'should', 'seeming', 'hereby', 'of', 'therein', 'myself', 'de', 'nevertheless', 'how', 'please', 'enough', 'take', 'wherein', 'a', 'mostly', 'to', 'anyone', 'upon', 'onto', 'also', 'beyond', 'after', 'beforehand', 'they', 'between', 'except', 'formerly', 'go', 'anywhere', 'an', 'thru', 'herself', 'the', 'whence', 'amount', 'him', 'well', 'without', 'am', 'find', 'whether', 'besides', 'some', 'these', 'interest', 'latterly', 'among', 'still', 'being', 'per', 'hereafter', 'due']\n",
      "318\n"
     ]
    }
   ],
   "source": [
    "# A quick look at stop words\n",
    "\n",
    "stop_words = list(_stop_words.ENGLISH_STOP_WORDS)\n",
    "print(stop_words)\n",
    "print(len(stop_words))"
   ]
  },
  {
   "cell_type": "markdown",
   "id": "a2cb7518",
   "metadata": {},
   "source": [
    "## CountVectorizer - Model 1"
   ]
  },
  {
   "cell_type": "code",
   "execution_count": 449,
   "id": "6ad625a8",
   "metadata": {},
   "outputs": [],
   "source": [
    "# Instantiate a Countvectorizer\n",
    "# Ignoring the works that occur in 98% of the documents\n",
    "# A word must occut in atleast two documents from the corpus\n",
    "# Adding Stopwords from Sklearn dataset\n",
    "\n",
    "cvec= CountVectorizer()"
   ]
  },
  {
   "cell_type": "code",
   "execution_count": 450,
   "id": "b70fb5bb",
   "metadata": {},
   "outputs": [],
   "source": [
    "# Transform the corpus\n",
    "X_train = cvec.fit_transform(X_train)"
   ]
  },
  {
   "cell_type": "code",
   "execution_count": 451,
   "id": "34121689",
   "metadata": {},
   "outputs": [
    {
     "data": {
      "text/plain": [
       "<15472x3479 sparse matrix of type '<class 'numpy.int64'>'\n",
       "\twith 124472 stored elements in Compressed Sparse Row format>"
      ]
     },
     "execution_count": 451,
     "metadata": {},
     "output_type": "execute_result"
    }
   ],
   "source": [
    "X_train"
   ]
  },
  {
   "cell_type": "code",
   "execution_count": 452,
   "id": "64591f38",
   "metadata": {
    "scrolled": true
   },
   "outputs": [
    {
     "data": {
      "text/html": [
       "<div>\n",
       "<style scoped>\n",
       "    .dataframe tbody tr th:only-of-type {\n",
       "        vertical-align: middle;\n",
       "    }\n",
       "\n",
       "    .dataframe tbody tr th {\n",
       "        vertical-align: top;\n",
       "    }\n",
       "\n",
       "    .dataframe thead th {\n",
       "        text-align: right;\n",
       "    }\n",
       "</style>\n",
       "<table border=\"1\" class=\"dataframe\">\n",
       "  <thead>\n",
       "    <tr style=\"text-align: right;\">\n",
       "      <th></th>\n",
       "      <th>aaron</th>\n",
       "      <th>abandon</th>\n",
       "      <th>abbey</th>\n",
       "      <th>abbott</th>\n",
       "      <th>abby</th>\n",
       "      <th>abc</th>\n",
       "      <th>abercrombie</th>\n",
       "      <th>ability</th>\n",
       "      <th>able</th>\n",
       "      <th>about</th>\n",
       "      <th>...</th>\n",
       "      <th>zeen</th>\n",
       "      <th>zeke</th>\n",
       "      <th>zero</th>\n",
       "      <th>zoey</th>\n",
       "      <th>zone</th>\n",
       "      <th>zoomed</th>\n",
       "      <th>zootopia</th>\n",
       "      <th>zootropolis</th>\n",
       "      <th>zorro</th>\n",
       "      <th>zutomayo</th>\n",
       "    </tr>\n",
       "  </thead>\n",
       "  <tbody>\n",
       "    <tr>\n",
       "      <th>0</th>\n",
       "      <td>0</td>\n",
       "      <td>0</td>\n",
       "      <td>0</td>\n",
       "      <td>0</td>\n",
       "      <td>0</td>\n",
       "      <td>0</td>\n",
       "      <td>0</td>\n",
       "      <td>0</td>\n",
       "      <td>0</td>\n",
       "      <td>0</td>\n",
       "      <td>...</td>\n",
       "      <td>0</td>\n",
       "      <td>0</td>\n",
       "      <td>0</td>\n",
       "      <td>0</td>\n",
       "      <td>0</td>\n",
       "      <td>0</td>\n",
       "      <td>0</td>\n",
       "      <td>0</td>\n",
       "      <td>0</td>\n",
       "      <td>0</td>\n",
       "    </tr>\n",
       "    <tr>\n",
       "      <th>1</th>\n",
       "      <td>0</td>\n",
       "      <td>0</td>\n",
       "      <td>0</td>\n",
       "      <td>0</td>\n",
       "      <td>0</td>\n",
       "      <td>0</td>\n",
       "      <td>0</td>\n",
       "      <td>0</td>\n",
       "      <td>0</td>\n",
       "      <td>0</td>\n",
       "      <td>...</td>\n",
       "      <td>0</td>\n",
       "      <td>0</td>\n",
       "      <td>0</td>\n",
       "      <td>0</td>\n",
       "      <td>0</td>\n",
       "      <td>0</td>\n",
       "      <td>0</td>\n",
       "      <td>0</td>\n",
       "      <td>0</td>\n",
       "      <td>0</td>\n",
       "    </tr>\n",
       "    <tr>\n",
       "      <th>2</th>\n",
       "      <td>0</td>\n",
       "      <td>0</td>\n",
       "      <td>0</td>\n",
       "      <td>0</td>\n",
       "      <td>0</td>\n",
       "      <td>0</td>\n",
       "      <td>0</td>\n",
       "      <td>0</td>\n",
       "      <td>0</td>\n",
       "      <td>0</td>\n",
       "      <td>...</td>\n",
       "      <td>0</td>\n",
       "      <td>0</td>\n",
       "      <td>0</td>\n",
       "      <td>0</td>\n",
       "      <td>0</td>\n",
       "      <td>0</td>\n",
       "      <td>0</td>\n",
       "      <td>0</td>\n",
       "      <td>0</td>\n",
       "      <td>0</td>\n",
       "    </tr>\n",
       "    <tr>\n",
       "      <th>3</th>\n",
       "      <td>0</td>\n",
       "      <td>0</td>\n",
       "      <td>0</td>\n",
       "      <td>0</td>\n",
       "      <td>0</td>\n",
       "      <td>0</td>\n",
       "      <td>0</td>\n",
       "      <td>0</td>\n",
       "      <td>0</td>\n",
       "      <td>0</td>\n",
       "      <td>...</td>\n",
       "      <td>0</td>\n",
       "      <td>0</td>\n",
       "      <td>0</td>\n",
       "      <td>0</td>\n",
       "      <td>0</td>\n",
       "      <td>0</td>\n",
       "      <td>0</td>\n",
       "      <td>0</td>\n",
       "      <td>0</td>\n",
       "      <td>0</td>\n",
       "    </tr>\n",
       "    <tr>\n",
       "      <th>4</th>\n",
       "      <td>0</td>\n",
       "      <td>0</td>\n",
       "      <td>0</td>\n",
       "      <td>0</td>\n",
       "      <td>0</td>\n",
       "      <td>0</td>\n",
       "      <td>0</td>\n",
       "      <td>0</td>\n",
       "      <td>0</td>\n",
       "      <td>0</td>\n",
       "      <td>...</td>\n",
       "      <td>0</td>\n",
       "      <td>0</td>\n",
       "      <td>0</td>\n",
       "      <td>0</td>\n",
       "      <td>0</td>\n",
       "      <td>0</td>\n",
       "      <td>0</td>\n",
       "      <td>0</td>\n",
       "      <td>0</td>\n",
       "      <td>0</td>\n",
       "    </tr>\n",
       "    <tr>\n",
       "      <th>...</th>\n",
       "      <td>...</td>\n",
       "      <td>...</td>\n",
       "      <td>...</td>\n",
       "      <td>...</td>\n",
       "      <td>...</td>\n",
       "      <td>...</td>\n",
       "      <td>...</td>\n",
       "      <td>...</td>\n",
       "      <td>...</td>\n",
       "      <td>...</td>\n",
       "      <td>...</td>\n",
       "      <td>...</td>\n",
       "      <td>...</td>\n",
       "      <td>...</td>\n",
       "      <td>...</td>\n",
       "      <td>...</td>\n",
       "      <td>...</td>\n",
       "      <td>...</td>\n",
       "      <td>...</td>\n",
       "      <td>...</td>\n",
       "      <td>...</td>\n",
       "    </tr>\n",
       "    <tr>\n",
       "      <th>15467</th>\n",
       "      <td>0</td>\n",
       "      <td>0</td>\n",
       "      <td>0</td>\n",
       "      <td>0</td>\n",
       "      <td>0</td>\n",
       "      <td>0</td>\n",
       "      <td>0</td>\n",
       "      <td>0</td>\n",
       "      <td>0</td>\n",
       "      <td>0</td>\n",
       "      <td>...</td>\n",
       "      <td>0</td>\n",
       "      <td>0</td>\n",
       "      <td>0</td>\n",
       "      <td>0</td>\n",
       "      <td>0</td>\n",
       "      <td>0</td>\n",
       "      <td>0</td>\n",
       "      <td>0</td>\n",
       "      <td>0</td>\n",
       "      <td>0</td>\n",
       "    </tr>\n",
       "    <tr>\n",
       "      <th>15468</th>\n",
       "      <td>0</td>\n",
       "      <td>0</td>\n",
       "      <td>0</td>\n",
       "      <td>0</td>\n",
       "      <td>0</td>\n",
       "      <td>0</td>\n",
       "      <td>0</td>\n",
       "      <td>0</td>\n",
       "      <td>0</td>\n",
       "      <td>1</td>\n",
       "      <td>...</td>\n",
       "      <td>0</td>\n",
       "      <td>0</td>\n",
       "      <td>0</td>\n",
       "      <td>0</td>\n",
       "      <td>0</td>\n",
       "      <td>0</td>\n",
       "      <td>0</td>\n",
       "      <td>0</td>\n",
       "      <td>0</td>\n",
       "      <td>0</td>\n",
       "    </tr>\n",
       "    <tr>\n",
       "      <th>15469</th>\n",
       "      <td>0</td>\n",
       "      <td>0</td>\n",
       "      <td>0</td>\n",
       "      <td>0</td>\n",
       "      <td>0</td>\n",
       "      <td>0</td>\n",
       "      <td>0</td>\n",
       "      <td>0</td>\n",
       "      <td>0</td>\n",
       "      <td>0</td>\n",
       "      <td>...</td>\n",
       "      <td>0</td>\n",
       "      <td>0</td>\n",
       "      <td>0</td>\n",
       "      <td>0</td>\n",
       "      <td>0</td>\n",
       "      <td>0</td>\n",
       "      <td>0</td>\n",
       "      <td>0</td>\n",
       "      <td>0</td>\n",
       "      <td>0</td>\n",
       "    </tr>\n",
       "    <tr>\n",
       "      <th>15470</th>\n",
       "      <td>0</td>\n",
       "      <td>0</td>\n",
       "      <td>0</td>\n",
       "      <td>0</td>\n",
       "      <td>0</td>\n",
       "      <td>0</td>\n",
       "      <td>0</td>\n",
       "      <td>0</td>\n",
       "      <td>0</td>\n",
       "      <td>0</td>\n",
       "      <td>...</td>\n",
       "      <td>0</td>\n",
       "      <td>0</td>\n",
       "      <td>0</td>\n",
       "      <td>0</td>\n",
       "      <td>0</td>\n",
       "      <td>0</td>\n",
       "      <td>0</td>\n",
       "      <td>0</td>\n",
       "      <td>0</td>\n",
       "      <td>0</td>\n",
       "    </tr>\n",
       "    <tr>\n",
       "      <th>15471</th>\n",
       "      <td>0</td>\n",
       "      <td>0</td>\n",
       "      <td>0</td>\n",
       "      <td>0</td>\n",
       "      <td>0</td>\n",
       "      <td>0</td>\n",
       "      <td>0</td>\n",
       "      <td>0</td>\n",
       "      <td>0</td>\n",
       "      <td>0</td>\n",
       "      <td>...</td>\n",
       "      <td>0</td>\n",
       "      <td>0</td>\n",
       "      <td>0</td>\n",
       "      <td>0</td>\n",
       "      <td>0</td>\n",
       "      <td>0</td>\n",
       "      <td>0</td>\n",
       "      <td>0</td>\n",
       "      <td>0</td>\n",
       "      <td>0</td>\n",
       "    </tr>\n",
       "  </tbody>\n",
       "</table>\n",
       "<p>15472 rows × 3479 columns</p>\n",
       "</div>"
      ],
      "text/plain": [
       "       aaron  abandon  abbey  abbott  abby  abc  abercrombie  ability  able  \\\n",
       "0          0        0      0       0     0    0            0        0     0   \n",
       "1          0        0      0       0     0    0            0        0     0   \n",
       "2          0        0      0       0     0    0            0        0     0   \n",
       "3          0        0      0       0     0    0            0        0     0   \n",
       "4          0        0      0       0     0    0            0        0     0   \n",
       "...      ...      ...    ...     ...   ...  ...          ...      ...   ...   \n",
       "15467      0        0      0       0     0    0            0        0     0   \n",
       "15468      0        0      0       0     0    0            0        0     0   \n",
       "15469      0        0      0       0     0    0            0        0     0   \n",
       "15470      0        0      0       0     0    0            0        0     0   \n",
       "15471      0        0      0       0     0    0            0        0     0   \n",
       "\n",
       "       about  ...  zeen  zeke  zero  zoey  zone  zoomed  zootopia  \\\n",
       "0          0  ...     0     0     0     0     0       0         0   \n",
       "1          0  ...     0     0     0     0     0       0         0   \n",
       "2          0  ...     0     0     0     0     0       0         0   \n",
       "3          0  ...     0     0     0     0     0       0         0   \n",
       "4          0  ...     0     0     0     0     0       0         0   \n",
       "...      ...  ...   ...   ...   ...   ...   ...     ...       ...   \n",
       "15467      0  ...     0     0     0     0     0       0         0   \n",
       "15468      1  ...     0     0     0     0     0       0         0   \n",
       "15469      0  ...     0     0     0     0     0       0         0   \n",
       "15470      0  ...     0     0     0     0     0       0         0   \n",
       "15471      0  ...     0     0     0     0     0       0         0   \n",
       "\n",
       "       zootropolis  zorro  zutomayo  \n",
       "0                0      0         0  \n",
       "1                0      0         0  \n",
       "2                0      0         0  \n",
       "3                0      0         0  \n",
       "4                0      0         0  \n",
       "...            ...    ...       ...  \n",
       "15467            0      0         0  \n",
       "15468            0      0         0  \n",
       "15469            0      0         0  \n",
       "15470            0      0         0  \n",
       "15471            0      0         0  \n",
       "\n",
       "[15472 rows x 3479 columns]"
      ]
     },
     "execution_count": 452,
     "metadata": {},
     "output_type": "execute_result"
    }
   ],
   "source": [
    "# Convert X_train into a DataFrame.\n",
    "\n",
    "X_train_df = pd.DataFrame(X_train.toarray(),\n",
    "                          columns=cvec.get_feature_names())\n",
    "X_train_df"
   ]
  },
  {
   "cell_type": "code",
   "execution_count": 453,
   "id": "b0773ab1",
   "metadata": {},
   "outputs": [
    {
     "data": {
      "text/html": [
       "<div>\n",
       "<style scoped>\n",
       "    .dataframe tbody tr th:only-of-type {\n",
       "        vertical-align: middle;\n",
       "    }\n",
       "\n",
       "    .dataframe tbody tr th {\n",
       "        vertical-align: top;\n",
       "    }\n",
       "\n",
       "    .dataframe thead th {\n",
       "        text-align: right;\n",
       "    }\n",
       "</style>\n",
       "<table border=\"1\" class=\"dataframe\">\n",
       "  <thead>\n",
       "    <tr style=\"text-align: right;\">\n",
       "      <th></th>\n",
       "      <th>aaron</th>\n",
       "      <th>abandon</th>\n",
       "      <th>abbey</th>\n",
       "      <th>abbott</th>\n",
       "      <th>abby</th>\n",
       "      <th>abc</th>\n",
       "      <th>abercrombie</th>\n",
       "      <th>ability</th>\n",
       "      <th>able</th>\n",
       "      <th>about</th>\n",
       "      <th>...</th>\n",
       "      <th>zeen</th>\n",
       "      <th>zeke</th>\n",
       "      <th>zero</th>\n",
       "      <th>zoey</th>\n",
       "      <th>zone</th>\n",
       "      <th>zoomed</th>\n",
       "      <th>zootopia</th>\n",
       "      <th>zootropolis</th>\n",
       "      <th>zorro</th>\n",
       "      <th>zutomayo</th>\n",
       "    </tr>\n",
       "  </thead>\n",
       "  <tbody>\n",
       "    <tr>\n",
       "      <th>0</th>\n",
       "      <td>0</td>\n",
       "      <td>0</td>\n",
       "      <td>0</td>\n",
       "      <td>0</td>\n",
       "      <td>0</td>\n",
       "      <td>0</td>\n",
       "      <td>0</td>\n",
       "      <td>0</td>\n",
       "      <td>0</td>\n",
       "      <td>0</td>\n",
       "      <td>...</td>\n",
       "      <td>0</td>\n",
       "      <td>0</td>\n",
       "      <td>0</td>\n",
       "      <td>0</td>\n",
       "      <td>0</td>\n",
       "      <td>0</td>\n",
       "      <td>0</td>\n",
       "      <td>0</td>\n",
       "      <td>0</td>\n",
       "      <td>0</td>\n",
       "    </tr>\n",
       "    <tr>\n",
       "      <th>1</th>\n",
       "      <td>0</td>\n",
       "      <td>0</td>\n",
       "      <td>0</td>\n",
       "      <td>0</td>\n",
       "      <td>0</td>\n",
       "      <td>0</td>\n",
       "      <td>0</td>\n",
       "      <td>0</td>\n",
       "      <td>0</td>\n",
       "      <td>0</td>\n",
       "      <td>...</td>\n",
       "      <td>0</td>\n",
       "      <td>0</td>\n",
       "      <td>0</td>\n",
       "      <td>0</td>\n",
       "      <td>0</td>\n",
       "      <td>0</td>\n",
       "      <td>0</td>\n",
       "      <td>0</td>\n",
       "      <td>0</td>\n",
       "      <td>0</td>\n",
       "    </tr>\n",
       "    <tr>\n",
       "      <th>2</th>\n",
       "      <td>0</td>\n",
       "      <td>0</td>\n",
       "      <td>0</td>\n",
       "      <td>0</td>\n",
       "      <td>0</td>\n",
       "      <td>0</td>\n",
       "      <td>0</td>\n",
       "      <td>0</td>\n",
       "      <td>0</td>\n",
       "      <td>0</td>\n",
       "      <td>...</td>\n",
       "      <td>0</td>\n",
       "      <td>0</td>\n",
       "      <td>0</td>\n",
       "      <td>0</td>\n",
       "      <td>0</td>\n",
       "      <td>0</td>\n",
       "      <td>0</td>\n",
       "      <td>0</td>\n",
       "      <td>0</td>\n",
       "      <td>0</td>\n",
       "    </tr>\n",
       "    <tr>\n",
       "      <th>3</th>\n",
       "      <td>0</td>\n",
       "      <td>0</td>\n",
       "      <td>0</td>\n",
       "      <td>0</td>\n",
       "      <td>0</td>\n",
       "      <td>0</td>\n",
       "      <td>0</td>\n",
       "      <td>0</td>\n",
       "      <td>0</td>\n",
       "      <td>0</td>\n",
       "      <td>...</td>\n",
       "      <td>0</td>\n",
       "      <td>0</td>\n",
       "      <td>0</td>\n",
       "      <td>0</td>\n",
       "      <td>0</td>\n",
       "      <td>0</td>\n",
       "      <td>0</td>\n",
       "      <td>0</td>\n",
       "      <td>0</td>\n",
       "      <td>0</td>\n",
       "    </tr>\n",
       "    <tr>\n",
       "      <th>4</th>\n",
       "      <td>0</td>\n",
       "      <td>0</td>\n",
       "      <td>0</td>\n",
       "      <td>0</td>\n",
       "      <td>0</td>\n",
       "      <td>0</td>\n",
       "      <td>0</td>\n",
       "      <td>0</td>\n",
       "      <td>0</td>\n",
       "      <td>0</td>\n",
       "      <td>...</td>\n",
       "      <td>0</td>\n",
       "      <td>0</td>\n",
       "      <td>0</td>\n",
       "      <td>0</td>\n",
       "      <td>0</td>\n",
       "      <td>0</td>\n",
       "      <td>0</td>\n",
       "      <td>0</td>\n",
       "      <td>0</td>\n",
       "      <td>0</td>\n",
       "    </tr>\n",
       "    <tr>\n",
       "      <th>...</th>\n",
       "      <td>...</td>\n",
       "      <td>...</td>\n",
       "      <td>...</td>\n",
       "      <td>...</td>\n",
       "      <td>...</td>\n",
       "      <td>...</td>\n",
       "      <td>...</td>\n",
       "      <td>...</td>\n",
       "      <td>...</td>\n",
       "      <td>...</td>\n",
       "      <td>...</td>\n",
       "      <td>...</td>\n",
       "      <td>...</td>\n",
       "      <td>...</td>\n",
       "      <td>...</td>\n",
       "      <td>...</td>\n",
       "      <td>...</td>\n",
       "      <td>...</td>\n",
       "      <td>...</td>\n",
       "      <td>...</td>\n",
       "      <td>...</td>\n",
       "    </tr>\n",
       "    <tr>\n",
       "      <th>5153</th>\n",
       "      <td>0</td>\n",
       "      <td>0</td>\n",
       "      <td>0</td>\n",
       "      <td>0</td>\n",
       "      <td>0</td>\n",
       "      <td>0</td>\n",
       "      <td>0</td>\n",
       "      <td>0</td>\n",
       "      <td>0</td>\n",
       "      <td>0</td>\n",
       "      <td>...</td>\n",
       "      <td>0</td>\n",
       "      <td>0</td>\n",
       "      <td>0</td>\n",
       "      <td>0</td>\n",
       "      <td>0</td>\n",
       "      <td>0</td>\n",
       "      <td>0</td>\n",
       "      <td>0</td>\n",
       "      <td>0</td>\n",
       "      <td>0</td>\n",
       "    </tr>\n",
       "    <tr>\n",
       "      <th>5154</th>\n",
       "      <td>0</td>\n",
       "      <td>0</td>\n",
       "      <td>0</td>\n",
       "      <td>0</td>\n",
       "      <td>0</td>\n",
       "      <td>0</td>\n",
       "      <td>0</td>\n",
       "      <td>0</td>\n",
       "      <td>0</td>\n",
       "      <td>0</td>\n",
       "      <td>...</td>\n",
       "      <td>0</td>\n",
       "      <td>0</td>\n",
       "      <td>0</td>\n",
       "      <td>0</td>\n",
       "      <td>0</td>\n",
       "      <td>0</td>\n",
       "      <td>0</td>\n",
       "      <td>0</td>\n",
       "      <td>0</td>\n",
       "      <td>0</td>\n",
       "    </tr>\n",
       "    <tr>\n",
       "      <th>5155</th>\n",
       "      <td>0</td>\n",
       "      <td>0</td>\n",
       "      <td>0</td>\n",
       "      <td>0</td>\n",
       "      <td>0</td>\n",
       "      <td>0</td>\n",
       "      <td>0</td>\n",
       "      <td>0</td>\n",
       "      <td>0</td>\n",
       "      <td>0</td>\n",
       "      <td>...</td>\n",
       "      <td>0</td>\n",
       "      <td>0</td>\n",
       "      <td>0</td>\n",
       "      <td>0</td>\n",
       "      <td>0</td>\n",
       "      <td>0</td>\n",
       "      <td>0</td>\n",
       "      <td>0</td>\n",
       "      <td>0</td>\n",
       "      <td>0</td>\n",
       "    </tr>\n",
       "    <tr>\n",
       "      <th>5156</th>\n",
       "      <td>0</td>\n",
       "      <td>0</td>\n",
       "      <td>0</td>\n",
       "      <td>0</td>\n",
       "      <td>0</td>\n",
       "      <td>0</td>\n",
       "      <td>0</td>\n",
       "      <td>0</td>\n",
       "      <td>0</td>\n",
       "      <td>0</td>\n",
       "      <td>...</td>\n",
       "      <td>0</td>\n",
       "      <td>0</td>\n",
       "      <td>0</td>\n",
       "      <td>0</td>\n",
       "      <td>0</td>\n",
       "      <td>0</td>\n",
       "      <td>0</td>\n",
       "      <td>0</td>\n",
       "      <td>0</td>\n",
       "      <td>0</td>\n",
       "    </tr>\n",
       "    <tr>\n",
       "      <th>5157</th>\n",
       "      <td>0</td>\n",
       "      <td>0</td>\n",
       "      <td>0</td>\n",
       "      <td>0</td>\n",
       "      <td>0</td>\n",
       "      <td>0</td>\n",
       "      <td>0</td>\n",
       "      <td>0</td>\n",
       "      <td>0</td>\n",
       "      <td>0</td>\n",
       "      <td>...</td>\n",
       "      <td>0</td>\n",
       "      <td>0</td>\n",
       "      <td>0</td>\n",
       "      <td>0</td>\n",
       "      <td>0</td>\n",
       "      <td>0</td>\n",
       "      <td>0</td>\n",
       "      <td>0</td>\n",
       "      <td>0</td>\n",
       "      <td>0</td>\n",
       "    </tr>\n",
       "  </tbody>\n",
       "</table>\n",
       "<p>5158 rows × 3479 columns</p>\n",
       "</div>"
      ],
      "text/plain": [
       "      aaron  abandon  abbey  abbott  abby  abc  abercrombie  ability  able  \\\n",
       "0         0        0      0       0     0    0            0        0     0   \n",
       "1         0        0      0       0     0    0            0        0     0   \n",
       "2         0        0      0       0     0    0            0        0     0   \n",
       "3         0        0      0       0     0    0            0        0     0   \n",
       "4         0        0      0       0     0    0            0        0     0   \n",
       "...     ...      ...    ...     ...   ...  ...          ...      ...   ...   \n",
       "5153      0        0      0       0     0    0            0        0     0   \n",
       "5154      0        0      0       0     0    0            0        0     0   \n",
       "5155      0        0      0       0     0    0            0        0     0   \n",
       "5156      0        0      0       0     0    0            0        0     0   \n",
       "5157      0        0      0       0     0    0            0        0     0   \n",
       "\n",
       "      about  ...  zeen  zeke  zero  zoey  zone  zoomed  zootopia  zootropolis  \\\n",
       "0         0  ...     0     0     0     0     0       0         0            0   \n",
       "1         0  ...     0     0     0     0     0       0         0            0   \n",
       "2         0  ...     0     0     0     0     0       0         0            0   \n",
       "3         0  ...     0     0     0     0     0       0         0            0   \n",
       "4         0  ...     0     0     0     0     0       0         0            0   \n",
       "...     ...  ...   ...   ...   ...   ...   ...     ...       ...          ...   \n",
       "5153      0  ...     0     0     0     0     0       0         0            0   \n",
       "5154      0  ...     0     0     0     0     0       0         0            0   \n",
       "5155      0  ...     0     0     0     0     0       0         0            0   \n",
       "5156      0  ...     0     0     0     0     0       0         0            0   \n",
       "5157      0  ...     0     0     0     0     0       0         0            0   \n",
       "\n",
       "      zorro  zutomayo  \n",
       "0         0         0  \n",
       "1         0         0  \n",
       "2         0         0  \n",
       "3         0         0  \n",
       "4         0         0  \n",
       "...     ...       ...  \n",
       "5153      0         0  \n",
       "5154      0         0  \n",
       "5155      0         0  \n",
       "5156      0         0  \n",
       "5157      0         0  \n",
       "\n",
       "[5158 rows x 3479 columns]"
      ]
     },
     "execution_count": 453,
     "metadata": {},
     "output_type": "execute_result"
    }
   ],
   "source": [
    "# Transform test\n",
    "X_test = cvec.transform(X_test)\n",
    "X_test_df = pd.DataFrame(X_test.toarray(), # without toarray it cannot be converted to dense vector \n",
    "                         columns=cvec.get_feature_names())\n",
    "X_test_df"
   ]
  },
  {
   "cell_type": "code",
   "execution_count": 454,
   "id": "f350ff88",
   "metadata": {},
   "outputs": [],
   "source": [
    "# Redefine training and testing sets.\n",
    "X_train, X_test, y_train, y_test = train_test_split(X,\n",
    "                                                    y,\n",
    "                                                    test_size=0.25,\n",
    "                                                    stratify=y,\n",
    "                                                    random_state=42)"
   ]
  },
  {
   "cell_type": "code",
   "execution_count": 455,
   "id": "9e81db30",
   "metadata": {},
   "outputs": [
    {
     "data": {
      "text/plain": [
       "1    0.501745\n",
       "0    0.498255\n",
       "Name: target, dtype: float64"
      ]
     },
     "execution_count": 455,
     "metadata": {},
     "output_type": "execute_result"
    }
   ],
   "source": [
    "# Baseline Accuracy is always majority class\n",
    "y_test.value_counts(normalize=True) # Accuracy is always majority class"
   ]
  },
  {
   "cell_type": "markdown",
   "id": "a68e79f1",
   "metadata": {},
   "source": [
    "### Pipeline for CountVectorizer and Logsitic Regression\n"
   ]
  },
  {
   "cell_type": "code",
   "execution_count": 456,
   "id": "7cfaf26f",
   "metadata": {},
   "outputs": [],
   "source": [
    "# Let's set it up with two stages:\n",
    "# 1. An instance of CountVectorizer (transformer)\n",
    "# 2. A LogisticRegression instance (estimator)\n",
    "\n",
    "pipe= Pipeline([('cvec',CountVectorizer()),\n",
    "\n",
    "                ('lr', LogisticRegression())])"
   ]
  },
  {
   "cell_type": "code",
   "execution_count": 457,
   "id": "aa74608d",
   "metadata": {},
   "outputs": [
    {
     "data": {
      "text/plain": [
       "0.9972854019365647"
      ]
     },
     "execution_count": 457,
     "metadata": {},
     "output_type": "execute_result"
    }
   ],
   "source": [
    "# Evaluate how your model will perform on unseen data\n",
    "\n",
    "cross_val_score(pipe, X_train, y_train, cv=10).mean() "
   ]
  },
  {
   "cell_type": "code",
   "execution_count": 458,
   "id": "ff506c7b",
   "metadata": {},
   "outputs": [
    {
     "data": {
      "text/plain": [
       "Pipeline(steps=[('cvec', CountVectorizer()), ('lr', LogisticRegression())])"
      ]
     },
     "execution_count": 458,
     "metadata": {},
     "output_type": "execute_result"
    }
   ],
   "source": [
    "# Fit your model\n",
    "pipe.fit(X_train, y_train)"
   ]
  },
  {
   "cell_type": "code",
   "execution_count": 459,
   "id": "8cdb0ccf",
   "metadata": {},
   "outputs": [
    {
     "data": {
      "text/plain": [
       "0.9976085832471562"
      ]
     },
     "execution_count": 459,
     "metadata": {},
     "output_type": "execute_result"
    }
   ],
   "source": [
    "# Training score\n",
    "pipe.score(X_train, y_train)"
   ]
  },
  {
   "cell_type": "code",
   "execution_count": 460,
   "id": "ae20982b",
   "metadata": {},
   "outputs": [
    {
     "data": {
      "text/plain": [
       "0.9970918960837534"
      ]
     },
     "execution_count": 460,
     "metadata": {},
     "output_type": "execute_result"
    }
   ],
   "source": [
    "# Test score\n",
    "pipe.score(X_test, y_test)"
   ]
  },
  {
   "cell_type": "markdown",
   "id": "6a480d59",
   "metadata": {},
   "source": [
    "### GridsearchCV for CountVectorizer and LogisticRegression"
   ]
  },
  {
   "cell_type": "code",
   "execution_count": 461,
   "id": "636cfa48",
   "metadata": {},
   "outputs": [],
   "source": [
    "# Search over the following values of hyperparameters:\n",
    "# Maximum number of features fit: 1000, 4000, 6000\n",
    "# Minimum number of documents needed to include token: 2, 3\n",
    "# Maximum number of documents needed to include token: 95%, 98%\n",
    "# Check (individual tokens) and also check (individual tokens and bigrams).\n",
    "\n",
    "pipe_params = {'cvec__max_features': [1000,4000,6000],\n",
    "              'cvec__min_df' :[2,3],\n",
    "               'cvec__max_df' :[0.95,0.98],\n",
    "               'cvec__ngram_range' :[(1,1),(1,2),(1,3)]\n",
    "              }"
   ]
  },
  {
   "cell_type": "code",
   "execution_count": 462,
   "id": "59761f11",
   "metadata": {},
   "outputs": [],
   "source": [
    "# Instantiate GridSearchCV.\n",
    "\n",
    "gs = GridSearchCV(pipe, # what object are we optimizing?\n",
    "                  param_grid = pipe_params, # what parameters values are we searching?\n",
    "                  cv=5) # 5-fold cross-validation."
   ]
  },
  {
   "cell_type": "code",
   "execution_count": 463,
   "id": "1fa30c82",
   "metadata": {},
   "outputs": [
    {
     "data": {
      "text/plain": [
       "GridSearchCV(cv=5,\n",
       "             estimator=Pipeline(steps=[('cvec', CountVectorizer()),\n",
       "                                       ('lr', LogisticRegression())]),\n",
       "             param_grid={'cvec__max_df': [0.95, 0.98],\n",
       "                         'cvec__max_features': [1000, 4000, 6000],\n",
       "                         'cvec__min_df': [2, 3],\n",
       "                         'cvec__ngram_range': [(1, 1), (1, 2), (1, 3)]})"
      ]
     },
     "execution_count": 463,
     "metadata": {},
     "output_type": "execute_result"
    }
   ],
   "source": [
    "# Fit GridSearch to training data.\n",
    "gs.fit(X_train, y_train)"
   ]
  },
  {
   "cell_type": "code",
   "execution_count": 464,
   "id": "560c8d20",
   "metadata": {},
   "outputs": [
    {
     "name": "stdout",
     "output_type": "stream",
     "text": [
      "0.9968975128264305\n"
     ]
    }
   ],
   "source": [
    "# What's the best score?\n",
    "print(gs.best_score_)\n"
   ]
  },
  {
   "cell_type": "code",
   "execution_count": 465,
   "id": "7f09cf2b",
   "metadata": {},
   "outputs": [
    {
     "data": {
      "text/plain": [
       "Pipeline(steps=[('cvec',\n",
       "                 CountVectorizer(max_df=0.95, max_features=4000, min_df=2)),\n",
       "                ('lr', LogisticRegression())])"
      ]
     },
     "execution_count": 465,
     "metadata": {},
     "output_type": "execute_result"
    }
   ],
   "source": [
    "# Save best model as gs_model.\n",
    "#Pipeline(steps=[('cvec',\n",
    "                # CountVectorizer(max_df=0.95, max_features=4000, min_df=2)),\n",
    "                #('lr', LogisticRegression())])\n",
    "gs_model = gs.best_estimator_\n",
    "gs_model"
   ]
  },
  {
   "cell_type": "code",
   "execution_count": 466,
   "id": "08e7013b",
   "metadata": {},
   "outputs": [
    {
     "data": {
      "text/plain": [
       "0.9976085832471562"
      ]
     },
     "execution_count": 466,
     "metadata": {},
     "output_type": "execute_result"
    }
   ],
   "source": [
    "# Score model on training set.\n",
    "gs_model.score(X_train, y_train)"
   ]
  },
  {
   "cell_type": "code",
   "execution_count": 467,
   "id": "7dea4faa",
   "metadata": {},
   "outputs": [
    {
     "data": {
      "text/plain": [
       "0.9970918960837534"
      ]
     },
     "execution_count": 467,
     "metadata": {},
     "output_type": "execute_result"
    }
   ],
   "source": [
    "# Score model on testing set.\n",
    "gs_model.score(X_test, y_test)"
   ]
  },
  {
   "cell_type": "code",
   "execution_count": 468,
   "id": "06174c01",
   "metadata": {},
   "outputs": [],
   "source": [
    "predictions_CV = gs_model.predict(X_test)"
   ]
  },
  {
   "cell_type": "code",
   "execution_count": 469,
   "id": "27fc7667",
   "metadata": {},
   "outputs": [
    {
     "data": {
      "text/plain": [
       "array([[2567,    3],\n",
       "       [  12, 2576]])"
      ]
     },
     "execution_count": 469,
     "metadata": {},
     "output_type": "execute_result"
    }
   ],
   "source": [
    "confusion_matrix(y_test, predictions_CV)"
   ]
  },
  {
   "cell_type": "code",
   "execution_count": 470,
   "id": "2815733a",
   "metadata": {},
   "outputs": [],
   "source": [
    "tn, fp, fn, tp = confusion_matrix(y_test, predictions1).ravel()"
   ]
  },
  {
   "cell_type": "code",
   "execution_count": 471,
   "id": "ae204f00",
   "metadata": {},
   "outputs": [
    {
     "name": "stdout",
     "output_type": "stream",
     "text": [
      "True Negatives: 2567\n",
      "False Positives: 3\n",
      "False Negatives: 12\n",
      "True Positives: 2576\n"
     ]
    }
   ],
   "source": [
    "print(\"True Negatives: %s\" % tn)\n",
    "print(\"False Positives: %s\" % fp)\n",
    "print(\"False Negatives: %s\" % fn)\n",
    "print(\"True Positives: %s\" % tp)"
   ]
  },
  {
   "cell_type": "code",
   "execution_count": null,
   "id": "6e046fae",
   "metadata": {},
   "outputs": [],
   "source": []
  },
  {
   "cell_type": "code",
   "execution_count": null,
   "id": "af738ecc",
   "metadata": {},
   "outputs": [],
   "source": []
  },
  {
   "cell_type": "markdown",
   "id": "94bac11f",
   "metadata": {},
   "source": [
    "## TF IDF - Term Frequency Inverse Document Frequency  - Model 2"
   ]
  },
  {
   "cell_type": "code",
   "execution_count": 282,
   "id": "84bbc5e3",
   "metadata": {},
   "outputs": [],
   "source": [
    "# Fit the transformer.\n",
    "tvec = TfidfVectorizer()"
   ]
  },
  {
   "cell_type": "code",
   "execution_count": 290,
   "id": "a06da0ef",
   "metadata": {},
   "outputs": [],
   "source": [
    "# Redefine training and testing sets.\n",
    "X_train, X_test, y_train, y_test = train_test_split(X,\n",
    "                                                    y,\n",
    "                                                    test_size=0.25,\n",
    "                                                    stratify=y,\n",
    "                                                    random_state=42)"
   ]
  },
  {
   "cell_type": "code",
   "execution_count": 291,
   "id": "90e8c616",
   "metadata": {},
   "outputs": [],
   "source": [
    "X_train = tvec.fit_transform(X_train)\n",
    "\n",
    "X_test = tvec.transform(X_test)"
   ]
  },
  {
   "cell_type": "code",
   "execution_count": 285,
   "id": "bd6c6001",
   "metadata": {},
   "outputs": [
    {
     "name": "stdout",
     "output_type": "stream",
     "text": [
      "Training Score: 0.9956049638055843\n",
      "Testing Score: 0.9932144241954246\n"
     ]
    }
   ],
   "source": [
    "# Instantiate logistic regression.\n",
    "lr = LogisticRegression()\n",
    "\n",
    "# Fit logistic regression.\n",
    "lr.fit(X_train, y_train)\n",
    "\n",
    "# Evaluate logistic regression.\n",
    "print(f'Training Score: {lr.score(X_train, y_train)}')\n",
    "print(f'Testing Score: {lr.score(X_test, y_test)}')"
   ]
  },
  {
   "cell_type": "markdown",
   "id": "c360f7a5",
   "metadata": {},
   "source": [
    "### GridsearchCV for TFIDF and LogisticRegression"
   ]
  },
  {
   "cell_type": "code",
   "execution_count": 434,
   "id": "99f58146",
   "metadata": {},
   "outputs": [],
   "source": [
    "pipe1= Pipeline([('tvec', TfidfVectorizer()),\n",
    "\n",
    "                ('lr', LogisticRegression())])"
   ]
  },
  {
   "cell_type": "code",
   "execution_count": 435,
   "id": "2a23db25",
   "metadata": {},
   "outputs": [],
   "source": [
    "# Redefine training and testing sets.\n",
    "X_train, X_test, y_train, y_test = train_test_split(X,\n",
    "                                                    y,\n",
    "                                                    test_size=0.25,\n",
    "                                                    stratify=y,\n",
    "                                                    random_state=42)"
   ]
  },
  {
   "cell_type": "code",
   "execution_count": 436,
   "id": "d5a849c9",
   "metadata": {},
   "outputs": [
    {
     "data": {
      "text/plain": [
       "0.9925026599787202"
      ]
     },
     "execution_count": 436,
     "metadata": {},
     "output_type": "execute_result"
    }
   ],
   "source": [
    "cross_val_score(pipe1, X_train, y_train, cv=10).mean() "
   ]
  },
  {
   "cell_type": "code",
   "execution_count": 437,
   "id": "285e86bf",
   "metadata": {},
   "outputs": [
    {
     "data": {
      "text/plain": [
       "Pipeline(steps=[('tvec', TfidfVectorizer()), ('lr', LogisticRegression())])"
      ]
     },
     "execution_count": 437,
     "metadata": {},
     "output_type": "execute_result"
    }
   ],
   "source": [
    "pipe1.fit(X_train, y_train)"
   ]
  },
  {
   "cell_type": "code",
   "execution_count": null,
   "id": "aa7ba299",
   "metadata": {},
   "outputs": [],
   "source": []
  },
  {
   "cell_type": "code",
   "execution_count": null,
   "id": "09474fe7",
   "metadata": {},
   "outputs": [],
   "source": []
  },
  {
   "cell_type": "code",
   "execution_count": 311,
   "id": "d5388adf",
   "metadata": {},
   "outputs": [],
   "source": [
    "# Search over the following values of hyperparameters:\n",
    "# Maximum number of features fit: 1000, 4000, 6000\n",
    "# Minimum number of documents needed to include token: 2, 3\n",
    "# Maximum number of documents needed to include token: 95%, 98%\n",
    "# Check (individual tokens) and also check (individual tokens and bigrams).\n",
    "\n",
    "\n",
    "pipe_params = {\n",
    "            'tvec__stop_words' : [None, 'english'],\n",
    "            'tvec__ngram_range' : [(1,1), (1,2), (1,3)],\n",
    "            'tvec__max_df' : [.95, 0.98],\n",
    "            'tvec__min_df' : [2, 3],\n",
    "            'tvec__max_features' : [1000, 4000, 6000]\n",
    "}"
   ]
  },
  {
   "cell_type": "code",
   "execution_count": 312,
   "id": "dfb664b6",
   "metadata": {},
   "outputs": [],
   "source": [
    "# Instantiate GridSearchCV.\n",
    "\n",
    "gs1 = GridSearchCV(pipe1, # what object are we optimizing?\n",
    "                  param_grid =pipe_params , # what parameters values are we searching?\n",
    "                  cv=5, n_jobs=-1, verbose=1) # 5-fold cross-validation."
   ]
  },
  {
   "cell_type": "code",
   "execution_count": 313,
   "id": "121f0135",
   "metadata": {},
   "outputs": [
    {
     "name": "stdout",
     "output_type": "stream",
     "text": [
      "Fitting 5 folds for each of 72 candidates, totalling 360 fits\n"
     ]
    },
    {
     "data": {
      "text/plain": [
       "GridSearchCV(cv=5,\n",
       "             estimator=Pipeline(steps=[('tvec', TfidfVectorizer()),\n",
       "                                       ('lr', LogisticRegression())]),\n",
       "             n_jobs=-1,\n",
       "             param_grid={'tvec__max_df': [0.95, 0.98],\n",
       "                         'tvec__max_features': [1000, 4000, 6000],\n",
       "                         'tvec__min_df': [2, 3],\n",
       "                         'tvec__ngram_range': [(1, 1), (1, 2), (1, 3)],\n",
       "                         'tvec__stop_words': [None, 'english']},\n",
       "             verbose=1)"
      ]
     },
     "execution_count": 313,
     "metadata": {},
     "output_type": "execute_result"
    }
   ],
   "source": [
    "gs1.fit(X_train, y_train)"
   ]
  },
  {
   "cell_type": "code",
   "execution_count": 314,
   "id": "01621a24",
   "metadata": {},
   "outputs": [
    {
     "name": "stdout",
     "output_type": "stream",
     "text": [
      "0.9915975367405568\n"
     ]
    }
   ],
   "source": [
    "# What's the best score?\n",
    "print(gs1.best_score_)"
   ]
  },
  {
   "cell_type": "code",
   "execution_count": 318,
   "id": "2828209e",
   "metadata": {},
   "outputs": [
    {
     "data": {
      "text/plain": [
       "Pipeline(steps=[('tvec',\n",
       "                 TfidfVectorizer(max_df=0.95, max_features=4000, min_df=2)),\n",
       "                ('lr', LogisticRegression())])"
      ]
     },
     "execution_count": 318,
     "metadata": {},
     "output_type": "execute_result"
    }
   ],
   "source": [
    "# Save best model as gs_model.\n",
    "#Pipeline(steps=[('tvec',\n",
    "                # TfidfVectorizer(max_df=0.95, max_features=4000, min_df=2)),\n",
    "                #('lr', LogisticRegression())])\n",
    "gs_model = gs1.best_estimator_\n",
    "gs_model"
   ]
  },
  {
   "cell_type": "code",
   "execution_count": 316,
   "id": "b8179028",
   "metadata": {},
   "outputs": [
    {
     "data": {
      "text/plain": [
       "0.9956049638055843"
      ]
     },
     "execution_count": 316,
     "metadata": {},
     "output_type": "execute_result"
    }
   ],
   "source": [
    "# Score model on training set.\n",
    "gs_model.score(X_train, y_train)"
   ]
  },
  {
   "cell_type": "code",
   "execution_count": 317,
   "id": "0e40800b",
   "metadata": {},
   "outputs": [
    {
     "data": {
      "text/plain": [
       "0.9932144241954246"
      ]
     },
     "execution_count": 317,
     "metadata": {},
     "output_type": "execute_result"
    }
   ],
   "source": [
    "# Score model on testing set.\n",
    "gs_model.score(X_test, y_test)"
   ]
  },
  {
   "cell_type": "code",
   "execution_count": 438,
   "id": "f25582b2",
   "metadata": {},
   "outputs": [],
   "source": [
    "predictions1 = gs_model.predict(X_test)"
   ]
  },
  {
   "cell_type": "code",
   "execution_count": 439,
   "id": "024971c0",
   "metadata": {},
   "outputs": [
    {
     "data": {
      "text/plain": [
       "array([[2567,    3],\n",
       "       [  12, 2576]])"
      ]
     },
     "execution_count": 439,
     "metadata": {},
     "output_type": "execute_result"
    }
   ],
   "source": [
    "confusion_matrix(y_test, predictions1)"
   ]
  },
  {
   "cell_type": "code",
   "execution_count": 442,
   "id": "bb0e7add",
   "metadata": {},
   "outputs": [],
   "source": [
    "tn, fp, fn, tp = confusion_matrix(y_test, predictions1).ravel()"
   ]
  },
  {
   "cell_type": "code",
   "execution_count": 443,
   "id": "a157304f",
   "metadata": {},
   "outputs": [
    {
     "name": "stdout",
     "output_type": "stream",
     "text": [
      "True Negatives: 2567\n",
      "False Positives: 3\n",
      "False Negatives: 12\n",
      "True Positives: 2576\n"
     ]
    }
   ],
   "source": [
    "print(\"True Negatives: %s\" % tn)\n",
    "print(\"False Positives: %s\" % fp)\n",
    "print(\"False Negatives: %s\" % fn)\n",
    "print(\"True Positives: %s\" % tp)"
   ]
  },
  {
   "cell_type": "markdown",
   "id": "140a0e23",
   "metadata": {},
   "source": [
    "## BernoulliNB , MultinomialNB, GaussianNV - Model 3"
   ]
  },
  {
   "cell_type": "code",
   "execution_count": 348,
   "id": "45fe1fd8",
   "metadata": {},
   "outputs": [],
   "source": [
    "# reinitiating train test split\n",
    "X_train, X_test, y_train, y_test = train_test_split(X,\n",
    "                                                    y,\n",
    "                                                    test_size=0.25,\n",
    "                                                    random_state=42,\n",
    "                                                    stratify=y)"
   ]
  },
  {
   "cell_type": "code",
   "execution_count": 349,
   "id": "47aff0cb",
   "metadata": {},
   "outputs": [],
   "source": [
    "#Instantiate our CountVectorizer.\n",
    "cvec1 = CountVectorizer(max_features=4000, stop_words=stop_words)"
   ]
  },
  {
   "cell_type": "code",
   "execution_count": 350,
   "id": "a07f7729",
   "metadata": {},
   "outputs": [],
   "source": [
    "# Fit our CountVectorizer on the training data and transform training data.\n",
    "X_train_cvec =cvec1.fit_transform(X_train)"
   ]
  },
  {
   "cell_type": "code",
   "execution_count": 351,
   "id": "f6860552",
   "metadata": {},
   "outputs": [],
   "source": [
    "# Transform our testing data with the already-fit CountVectorizer.\n",
    "X_test_cvec = cvec1.transform(X_test)"
   ]
  },
  {
   "cell_type": "code",
   "execution_count": 352,
   "id": "f3de91ff",
   "metadata": {
    "scrolled": true
   },
   "outputs": [
    {
     "data": {
      "text/html": [
       "<div>\n",
       "<style scoped>\n",
       "    .dataframe tbody tr th:only-of-type {\n",
       "        vertical-align: middle;\n",
       "    }\n",
       "\n",
       "    .dataframe tbody tr th {\n",
       "        vertical-align: top;\n",
       "    }\n",
       "\n",
       "    .dataframe thead th {\n",
       "        text-align: right;\n",
       "    }\n",
       "</style>\n",
       "<table border=\"1\" class=\"dataframe\">\n",
       "  <thead>\n",
       "    <tr style=\"text-align: right;\">\n",
       "      <th></th>\n",
       "      <th>aaron</th>\n",
       "      <th>abandon</th>\n",
       "      <th>abbey</th>\n",
       "      <th>abbott</th>\n",
       "      <th>abby</th>\n",
       "      <th>abc</th>\n",
       "      <th>abercrombie</th>\n",
       "      <th>ability</th>\n",
       "      <th>able</th>\n",
       "      <th>absolute</th>\n",
       "      <th>...</th>\n",
       "      <th>zeen</th>\n",
       "      <th>zeke</th>\n",
       "      <th>zero</th>\n",
       "      <th>zoey</th>\n",
       "      <th>zone</th>\n",
       "      <th>zoomed</th>\n",
       "      <th>zootopia</th>\n",
       "      <th>zootropolis</th>\n",
       "      <th>zorro</th>\n",
       "      <th>zutomayo</th>\n",
       "    </tr>\n",
       "  </thead>\n",
       "  <tbody>\n",
       "    <tr>\n",
       "      <th>0</th>\n",
       "      <td>0</td>\n",
       "      <td>0</td>\n",
       "      <td>0</td>\n",
       "      <td>0</td>\n",
       "      <td>0</td>\n",
       "      <td>0</td>\n",
       "      <td>0</td>\n",
       "      <td>0</td>\n",
       "      <td>0</td>\n",
       "      <td>0</td>\n",
       "      <td>...</td>\n",
       "      <td>0</td>\n",
       "      <td>0</td>\n",
       "      <td>0</td>\n",
       "      <td>0</td>\n",
       "      <td>0</td>\n",
       "      <td>0</td>\n",
       "      <td>0</td>\n",
       "      <td>0</td>\n",
       "      <td>0</td>\n",
       "      <td>0</td>\n",
       "    </tr>\n",
       "    <tr>\n",
       "      <th>1</th>\n",
       "      <td>0</td>\n",
       "      <td>0</td>\n",
       "      <td>0</td>\n",
       "      <td>0</td>\n",
       "      <td>0</td>\n",
       "      <td>0</td>\n",
       "      <td>0</td>\n",
       "      <td>0</td>\n",
       "      <td>0</td>\n",
       "      <td>0</td>\n",
       "      <td>...</td>\n",
       "      <td>0</td>\n",
       "      <td>0</td>\n",
       "      <td>0</td>\n",
       "      <td>0</td>\n",
       "      <td>0</td>\n",
       "      <td>0</td>\n",
       "      <td>0</td>\n",
       "      <td>0</td>\n",
       "      <td>0</td>\n",
       "      <td>0</td>\n",
       "    </tr>\n",
       "    <tr>\n",
       "      <th>2</th>\n",
       "      <td>0</td>\n",
       "      <td>0</td>\n",
       "      <td>0</td>\n",
       "      <td>0</td>\n",
       "      <td>0</td>\n",
       "      <td>0</td>\n",
       "      <td>0</td>\n",
       "      <td>0</td>\n",
       "      <td>0</td>\n",
       "      <td>0</td>\n",
       "      <td>...</td>\n",
       "      <td>0</td>\n",
       "      <td>0</td>\n",
       "      <td>0</td>\n",
       "      <td>0</td>\n",
       "      <td>0</td>\n",
       "      <td>0</td>\n",
       "      <td>0</td>\n",
       "      <td>0</td>\n",
       "      <td>0</td>\n",
       "      <td>0</td>\n",
       "    </tr>\n",
       "    <tr>\n",
       "      <th>3</th>\n",
       "      <td>0</td>\n",
       "      <td>0</td>\n",
       "      <td>0</td>\n",
       "      <td>0</td>\n",
       "      <td>0</td>\n",
       "      <td>0</td>\n",
       "      <td>0</td>\n",
       "      <td>0</td>\n",
       "      <td>0</td>\n",
       "      <td>0</td>\n",
       "      <td>...</td>\n",
       "      <td>0</td>\n",
       "      <td>0</td>\n",
       "      <td>0</td>\n",
       "      <td>0</td>\n",
       "      <td>0</td>\n",
       "      <td>0</td>\n",
       "      <td>0</td>\n",
       "      <td>0</td>\n",
       "      <td>0</td>\n",
       "      <td>0</td>\n",
       "    </tr>\n",
       "    <tr>\n",
       "      <th>4</th>\n",
       "      <td>0</td>\n",
       "      <td>0</td>\n",
       "      <td>0</td>\n",
       "      <td>0</td>\n",
       "      <td>0</td>\n",
       "      <td>0</td>\n",
       "      <td>0</td>\n",
       "      <td>0</td>\n",
       "      <td>0</td>\n",
       "      <td>0</td>\n",
       "      <td>...</td>\n",
       "      <td>0</td>\n",
       "      <td>0</td>\n",
       "      <td>0</td>\n",
       "      <td>0</td>\n",
       "      <td>0</td>\n",
       "      <td>0</td>\n",
       "      <td>0</td>\n",
       "      <td>0</td>\n",
       "      <td>0</td>\n",
       "      <td>0</td>\n",
       "    </tr>\n",
       "    <tr>\n",
       "      <th>...</th>\n",
       "      <td>...</td>\n",
       "      <td>...</td>\n",
       "      <td>...</td>\n",
       "      <td>...</td>\n",
       "      <td>...</td>\n",
       "      <td>...</td>\n",
       "      <td>...</td>\n",
       "      <td>...</td>\n",
       "      <td>...</td>\n",
       "      <td>...</td>\n",
       "      <td>...</td>\n",
       "      <td>...</td>\n",
       "      <td>...</td>\n",
       "      <td>...</td>\n",
       "      <td>...</td>\n",
       "      <td>...</td>\n",
       "      <td>...</td>\n",
       "      <td>...</td>\n",
       "      <td>...</td>\n",
       "      <td>...</td>\n",
       "      <td>...</td>\n",
       "    </tr>\n",
       "    <tr>\n",
       "      <th>15467</th>\n",
       "      <td>0</td>\n",
       "      <td>0</td>\n",
       "      <td>0</td>\n",
       "      <td>0</td>\n",
       "      <td>0</td>\n",
       "      <td>0</td>\n",
       "      <td>0</td>\n",
       "      <td>0</td>\n",
       "      <td>0</td>\n",
       "      <td>0</td>\n",
       "      <td>...</td>\n",
       "      <td>0</td>\n",
       "      <td>0</td>\n",
       "      <td>0</td>\n",
       "      <td>0</td>\n",
       "      <td>0</td>\n",
       "      <td>0</td>\n",
       "      <td>0</td>\n",
       "      <td>0</td>\n",
       "      <td>0</td>\n",
       "      <td>0</td>\n",
       "    </tr>\n",
       "    <tr>\n",
       "      <th>15468</th>\n",
       "      <td>0</td>\n",
       "      <td>0</td>\n",
       "      <td>0</td>\n",
       "      <td>0</td>\n",
       "      <td>0</td>\n",
       "      <td>0</td>\n",
       "      <td>0</td>\n",
       "      <td>0</td>\n",
       "      <td>0</td>\n",
       "      <td>0</td>\n",
       "      <td>...</td>\n",
       "      <td>0</td>\n",
       "      <td>0</td>\n",
       "      <td>0</td>\n",
       "      <td>0</td>\n",
       "      <td>0</td>\n",
       "      <td>0</td>\n",
       "      <td>0</td>\n",
       "      <td>0</td>\n",
       "      <td>0</td>\n",
       "      <td>0</td>\n",
       "    </tr>\n",
       "    <tr>\n",
       "      <th>15469</th>\n",
       "      <td>0</td>\n",
       "      <td>0</td>\n",
       "      <td>0</td>\n",
       "      <td>0</td>\n",
       "      <td>0</td>\n",
       "      <td>0</td>\n",
       "      <td>0</td>\n",
       "      <td>0</td>\n",
       "      <td>0</td>\n",
       "      <td>0</td>\n",
       "      <td>...</td>\n",
       "      <td>0</td>\n",
       "      <td>0</td>\n",
       "      <td>0</td>\n",
       "      <td>0</td>\n",
       "      <td>0</td>\n",
       "      <td>0</td>\n",
       "      <td>0</td>\n",
       "      <td>0</td>\n",
       "      <td>0</td>\n",
       "      <td>0</td>\n",
       "    </tr>\n",
       "    <tr>\n",
       "      <th>15470</th>\n",
       "      <td>0</td>\n",
       "      <td>0</td>\n",
       "      <td>0</td>\n",
       "      <td>0</td>\n",
       "      <td>0</td>\n",
       "      <td>0</td>\n",
       "      <td>0</td>\n",
       "      <td>0</td>\n",
       "      <td>0</td>\n",
       "      <td>0</td>\n",
       "      <td>...</td>\n",
       "      <td>0</td>\n",
       "      <td>0</td>\n",
       "      <td>0</td>\n",
       "      <td>0</td>\n",
       "      <td>0</td>\n",
       "      <td>0</td>\n",
       "      <td>0</td>\n",
       "      <td>0</td>\n",
       "      <td>0</td>\n",
       "      <td>0</td>\n",
       "    </tr>\n",
       "    <tr>\n",
       "      <th>15471</th>\n",
       "      <td>0</td>\n",
       "      <td>0</td>\n",
       "      <td>0</td>\n",
       "      <td>0</td>\n",
       "      <td>0</td>\n",
       "      <td>0</td>\n",
       "      <td>0</td>\n",
       "      <td>0</td>\n",
       "      <td>0</td>\n",
       "      <td>0</td>\n",
       "      <td>...</td>\n",
       "      <td>0</td>\n",
       "      <td>0</td>\n",
       "      <td>0</td>\n",
       "      <td>0</td>\n",
       "      <td>0</td>\n",
       "      <td>0</td>\n",
       "      <td>0</td>\n",
       "      <td>0</td>\n",
       "      <td>0</td>\n",
       "      <td>0</td>\n",
       "    </tr>\n",
       "  </tbody>\n",
       "</table>\n",
       "<p>15472 rows × 3289 columns</p>\n",
       "</div>"
      ],
      "text/plain": [
       "       aaron  abandon  abbey  abbott  abby  abc  abercrombie  ability  able  \\\n",
       "0          0        0      0       0     0    0            0        0     0   \n",
       "1          0        0      0       0     0    0            0        0     0   \n",
       "2          0        0      0       0     0    0            0        0     0   \n",
       "3          0        0      0       0     0    0            0        0     0   \n",
       "4          0        0      0       0     0    0            0        0     0   \n",
       "...      ...      ...    ...     ...   ...  ...          ...      ...   ...   \n",
       "15467      0        0      0       0     0    0            0        0     0   \n",
       "15468      0        0      0       0     0    0            0        0     0   \n",
       "15469      0        0      0       0     0    0            0        0     0   \n",
       "15470      0        0      0       0     0    0            0        0     0   \n",
       "15471      0        0      0       0     0    0            0        0     0   \n",
       "\n",
       "       absolute  ...  zeen  zeke  zero  zoey  zone  zoomed  zootopia  \\\n",
       "0             0  ...     0     0     0     0     0       0         0   \n",
       "1             0  ...     0     0     0     0     0       0         0   \n",
       "2             0  ...     0     0     0     0     0       0         0   \n",
       "3             0  ...     0     0     0     0     0       0         0   \n",
       "4             0  ...     0     0     0     0     0       0         0   \n",
       "...         ...  ...   ...   ...   ...   ...   ...     ...       ...   \n",
       "15467         0  ...     0     0     0     0     0       0         0   \n",
       "15468         0  ...     0     0     0     0     0       0         0   \n",
       "15469         0  ...     0     0     0     0     0       0         0   \n",
       "15470         0  ...     0     0     0     0     0       0         0   \n",
       "15471         0  ...     0     0     0     0     0       0         0   \n",
       "\n",
       "       zootropolis  zorro  zutomayo  \n",
       "0                0      0         0  \n",
       "1                0      0         0  \n",
       "2                0      0         0  \n",
       "3                0      0         0  \n",
       "4                0      0         0  \n",
       "...            ...    ...       ...  \n",
       "15467            0      0         0  \n",
       "15468            0      0         0  \n",
       "15469            0      0         0  \n",
       "15470            0      0         0  \n",
       "15471            0      0         0  \n",
       "\n",
       "[15472 rows x 3289 columns]"
      ]
     },
     "execution_count": 352,
     "metadata": {},
     "output_type": "execute_result"
    }
   ],
   "source": [
    "pd.DataFrame(X_train_cvec.toarray(), columns=cvec1.get_feature_names())"
   ]
  },
  {
   "cell_type": "markdown",
   "id": "d4eb41fc",
   "metadata": {},
   "source": [
    "### BernoulliNB"
   ]
  },
  {
   "cell_type": "code",
   "execution_count": 353,
   "id": "cb010f9f",
   "metadata": {},
   "outputs": [],
   "source": [
    "# Instantiate our model!\n",
    "\n",
    "bnb = BernoulliNB()"
   ]
  },
  {
   "cell_type": "code",
   "execution_count": 354,
   "id": "1c959558",
   "metadata": {},
   "outputs": [
    {
     "data": {
      "text/plain": [
       "BernoulliNB()"
      ]
     },
     "execution_count": 354,
     "metadata": {},
     "output_type": "execute_result"
    }
   ],
   "source": [
    "# Fit our model!\n",
    "\n",
    "bnb.fit(X_train_cvec, y_train)"
   ]
  },
  {
   "cell_type": "code",
   "execution_count": 355,
   "id": "34beef9d",
   "metadata": {},
   "outputs": [],
   "source": [
    "# Generate our predictions!\n",
    "\n",
    "predictions = bnb.predict(X_test_cvec)"
   ]
  },
  {
   "cell_type": "code",
   "execution_count": 356,
   "id": "c0f58513",
   "metadata": {},
   "outputs": [
    {
     "data": {
      "text/plain": [
       "0.9656843737882901"
      ]
     },
     "execution_count": 356,
     "metadata": {},
     "output_type": "execute_result"
    }
   ],
   "source": [
    "# Score our model on the training set.\n",
    "\n",
    "bnb.score(X_test_cvec, y_test)"
   ]
  },
  {
   "cell_type": "code",
   "execution_count": 357,
   "id": "5d019faa",
   "metadata": {},
   "outputs": [
    {
     "data": {
      "text/plain": [
       "0.9689762150982419"
      ]
     },
     "execution_count": 357,
     "metadata": {},
     "output_type": "execute_result"
    }
   ],
   "source": [
    "# Score our model on the testing set.\n",
    "bnb.score(X_train_cvec, y_train)\n"
   ]
  },
  {
   "cell_type": "code",
   "execution_count": 358,
   "id": "caa3edfc",
   "metadata": {},
   "outputs": [
    {
     "data": {
      "text/plain": [
       "array([[2532,   38],\n",
       "       [ 139, 2449]])"
      ]
     },
     "execution_count": 358,
     "metadata": {},
     "output_type": "execute_result"
    }
   ],
   "source": [
    "confusion_matrix(y_test, predictions)"
   ]
  },
  {
   "cell_type": "code",
   "execution_count": 359,
   "id": "ee75460f",
   "metadata": {},
   "outputs": [],
   "source": [
    "tn, fp, fn, tp = confusion_matrix(y_test, predictions).ravel()"
   ]
  },
  {
   "cell_type": "code",
   "execution_count": 360,
   "id": "7626b01d",
   "metadata": {},
   "outputs": [
    {
     "name": "stdout",
     "output_type": "stream",
     "text": [
      "True Negatives: 2532\n",
      "False Positives: 38\n",
      "False Negatives: 139\n",
      "True Positives: 2449\n"
     ]
    }
   ],
   "source": [
    "print(\"True Negatives: %s\" % tn)\n",
    "print(\"False Positives: %s\" % fp)\n",
    "print(\"False Negatives: %s\" % fn)\n",
    "print(\"True Positives: %s\" % tp)"
   ]
  },
  {
   "cell_type": "markdown",
   "id": "ac7e5660",
   "metadata": {},
   "source": [
    "### MultinomialNB"
   ]
  },
  {
   "cell_type": "code",
   "execution_count": 361,
   "id": "a267745d",
   "metadata": {},
   "outputs": [
    {
     "name": "stdout",
     "output_type": "stream",
     "text": [
      "0.9707213029989659\n",
      "0.9680108569212873\n"
     ]
    }
   ],
   "source": [
    "# Similarly Multinomial NB\n",
    "mnb = MultinomialNB()\n",
    "\n",
    "mnb.fit(X_train_cvec, y_train)\n",
    "\n",
    "pred_multinomial = mnb.predict(X_test_cvec)\n",
    "\n",
    "print(mnb.score(X_train_cvec, y_train))\n",
    "\n",
    "print(mnb.score(X_test_cvec, y_test))"
   ]
  },
  {
   "cell_type": "code",
   "execution_count": 362,
   "id": "18ee4a0c",
   "metadata": {},
   "outputs": [
    {
     "name": "stdout",
     "output_type": "stream",
     "text": [
      "True Negatives: 2513\n",
      "Fale Positives: 57\n",
      "False Negatives: 108\n",
      "True Positives: 2480\n"
     ]
    }
   ],
   "source": [
    "tn, fp, fn, tp = confusion_matrix(y_test, pred_multinomial).ravel()\n",
    "print(f\"True Negatives: {tn}\")\n",
    "print(f\"Fale Positives: {fp}\")\n",
    "print(f\"False Negatives: {fn}\")\n",
    "print(f\"True Positives: {tp}\")"
   ]
  },
  {
   "cell_type": "markdown",
   "id": "b2b6c4de",
   "metadata": {},
   "source": [
    "### GaussianNB"
   ]
  },
  {
   "cell_type": "code",
   "execution_count": 363,
   "id": "0759ec07",
   "metadata": {},
   "outputs": [
    {
     "name": "stdout",
     "output_type": "stream",
     "text": [
      "0.9657445708376422\n",
      "0.9637456378441256\n"
     ]
    }
   ],
   "source": [
    "gnb = GaussianNB()\n",
    "\n",
    "gnb.fit(X_train_cvec.todense(), y_train)\n",
    "\n",
    "pred_gnb = gnb.predict(X_test_cvec.todense())\n",
    "\n",
    "print(gnb.score(X_train_cvec.todense(), y_train))\n",
    "\n",
    "print(gnb.score(X_test_cvec.todense(), y_test))"
   ]
  },
  {
   "cell_type": "code",
   "execution_count": 364,
   "id": "3db656bc",
   "metadata": {},
   "outputs": [
    {
     "name": "stdout",
     "output_type": "stream",
     "text": [
      "True Negatives: 2549\n",
      "Fale Positives: 21\n",
      "False Negatives: 166\n",
      "True Positives: 2422\n"
     ]
    }
   ],
   "source": [
    "tn, fp, fn, tp = confusion_matrix(y_test, pred_gnb).ravel()\n",
    "print(f\"True Negatives: {tn}\")\n",
    "print(f\"Fale Positives: {fp}\")\n",
    "print(f\"False Negatives: {fn}\")\n",
    "print(f\"True Positives: {tp}\")"
   ]
  },
  {
   "cell_type": "markdown",
   "id": "3afb6d6e",
   "metadata": {},
   "source": [
    "## RandomForest - Model  4"
   ]
  },
  {
   "cell_type": "code",
   "execution_count": 347,
   "id": "6f9d2ee9",
   "metadata": {},
   "outputs": [],
   "source": [
    "# reinitiating train test split\n",
    "X_train, X_test, y_train, y_test = train_test_split(X,\n",
    "                                                    y,\n",
    "                                                    test_size=0.25,\n",
    "                                                    random_state=42,\n",
    "                                                    stratify=y)"
   ]
  },
  {
   "cell_type": "code",
   "execution_count": 365,
   "id": "463a1e31",
   "metadata": {},
   "outputs": [],
   "source": [
    "#Instantiate our CountVectorizer.\n",
    "cvec2 = CountVectorizer(max_features=4000, stop_words=stop_words)"
   ]
  },
  {
   "cell_type": "code",
   "execution_count": 366,
   "id": "d36e6bec",
   "metadata": {},
   "outputs": [],
   "source": [
    "# Fit our CountVectorizer on the training data and transform training data.\n",
    "X_train_cvec =cvec2.fit_transform(X_train)"
   ]
  },
  {
   "cell_type": "code",
   "execution_count": 367,
   "id": "a716b6a6",
   "metadata": {},
   "outputs": [],
   "source": [
    "# Transform our testing data with the already-fit CountVectorizer.\n",
    "X_test_cvec = cvec2.transform(X_test)"
   ]
  },
  {
   "cell_type": "code",
   "execution_count": 368,
   "id": "a927ee7a",
   "metadata": {},
   "outputs": [
    {
     "data": {
      "text/html": [
       "<div>\n",
       "<style scoped>\n",
       "    .dataframe tbody tr th:only-of-type {\n",
       "        vertical-align: middle;\n",
       "    }\n",
       "\n",
       "    .dataframe tbody tr th {\n",
       "        vertical-align: top;\n",
       "    }\n",
       "\n",
       "    .dataframe thead th {\n",
       "        text-align: right;\n",
       "    }\n",
       "</style>\n",
       "<table border=\"1\" class=\"dataframe\">\n",
       "  <thead>\n",
       "    <tr style=\"text-align: right;\">\n",
       "      <th></th>\n",
       "      <th>aaron</th>\n",
       "      <th>abandon</th>\n",
       "      <th>abbey</th>\n",
       "      <th>abbott</th>\n",
       "      <th>abby</th>\n",
       "      <th>abc</th>\n",
       "      <th>abercrombie</th>\n",
       "      <th>ability</th>\n",
       "      <th>able</th>\n",
       "      <th>absolute</th>\n",
       "      <th>...</th>\n",
       "      <th>zeen</th>\n",
       "      <th>zeke</th>\n",
       "      <th>zero</th>\n",
       "      <th>zoey</th>\n",
       "      <th>zone</th>\n",
       "      <th>zoomed</th>\n",
       "      <th>zootopia</th>\n",
       "      <th>zootropolis</th>\n",
       "      <th>zorro</th>\n",
       "      <th>zutomayo</th>\n",
       "    </tr>\n",
       "  </thead>\n",
       "  <tbody>\n",
       "    <tr>\n",
       "      <th>0</th>\n",
       "      <td>0</td>\n",
       "      <td>0</td>\n",
       "      <td>0</td>\n",
       "      <td>0</td>\n",
       "      <td>0</td>\n",
       "      <td>0</td>\n",
       "      <td>0</td>\n",
       "      <td>0</td>\n",
       "      <td>0</td>\n",
       "      <td>0</td>\n",
       "      <td>...</td>\n",
       "      <td>0</td>\n",
       "      <td>0</td>\n",
       "      <td>0</td>\n",
       "      <td>0</td>\n",
       "      <td>0</td>\n",
       "      <td>0</td>\n",
       "      <td>0</td>\n",
       "      <td>0</td>\n",
       "      <td>0</td>\n",
       "      <td>0</td>\n",
       "    </tr>\n",
       "    <tr>\n",
       "      <th>1</th>\n",
       "      <td>0</td>\n",
       "      <td>0</td>\n",
       "      <td>0</td>\n",
       "      <td>0</td>\n",
       "      <td>0</td>\n",
       "      <td>0</td>\n",
       "      <td>0</td>\n",
       "      <td>0</td>\n",
       "      <td>0</td>\n",
       "      <td>0</td>\n",
       "      <td>...</td>\n",
       "      <td>0</td>\n",
       "      <td>0</td>\n",
       "      <td>0</td>\n",
       "      <td>0</td>\n",
       "      <td>0</td>\n",
       "      <td>0</td>\n",
       "      <td>0</td>\n",
       "      <td>0</td>\n",
       "      <td>0</td>\n",
       "      <td>0</td>\n",
       "    </tr>\n",
       "    <tr>\n",
       "      <th>2</th>\n",
       "      <td>0</td>\n",
       "      <td>0</td>\n",
       "      <td>0</td>\n",
       "      <td>0</td>\n",
       "      <td>0</td>\n",
       "      <td>0</td>\n",
       "      <td>0</td>\n",
       "      <td>0</td>\n",
       "      <td>0</td>\n",
       "      <td>0</td>\n",
       "      <td>...</td>\n",
       "      <td>0</td>\n",
       "      <td>0</td>\n",
       "      <td>0</td>\n",
       "      <td>0</td>\n",
       "      <td>0</td>\n",
       "      <td>0</td>\n",
       "      <td>0</td>\n",
       "      <td>0</td>\n",
       "      <td>0</td>\n",
       "      <td>0</td>\n",
       "    </tr>\n",
       "    <tr>\n",
       "      <th>3</th>\n",
       "      <td>0</td>\n",
       "      <td>0</td>\n",
       "      <td>0</td>\n",
       "      <td>0</td>\n",
       "      <td>0</td>\n",
       "      <td>0</td>\n",
       "      <td>0</td>\n",
       "      <td>0</td>\n",
       "      <td>0</td>\n",
       "      <td>0</td>\n",
       "      <td>...</td>\n",
       "      <td>0</td>\n",
       "      <td>0</td>\n",
       "      <td>0</td>\n",
       "      <td>0</td>\n",
       "      <td>0</td>\n",
       "      <td>0</td>\n",
       "      <td>0</td>\n",
       "      <td>0</td>\n",
       "      <td>0</td>\n",
       "      <td>0</td>\n",
       "    </tr>\n",
       "    <tr>\n",
       "      <th>4</th>\n",
       "      <td>0</td>\n",
       "      <td>0</td>\n",
       "      <td>0</td>\n",
       "      <td>0</td>\n",
       "      <td>0</td>\n",
       "      <td>0</td>\n",
       "      <td>0</td>\n",
       "      <td>0</td>\n",
       "      <td>0</td>\n",
       "      <td>0</td>\n",
       "      <td>...</td>\n",
       "      <td>0</td>\n",
       "      <td>0</td>\n",
       "      <td>0</td>\n",
       "      <td>0</td>\n",
       "      <td>0</td>\n",
       "      <td>0</td>\n",
       "      <td>0</td>\n",
       "      <td>0</td>\n",
       "      <td>0</td>\n",
       "      <td>0</td>\n",
       "    </tr>\n",
       "    <tr>\n",
       "      <th>...</th>\n",
       "      <td>...</td>\n",
       "      <td>...</td>\n",
       "      <td>...</td>\n",
       "      <td>...</td>\n",
       "      <td>...</td>\n",
       "      <td>...</td>\n",
       "      <td>...</td>\n",
       "      <td>...</td>\n",
       "      <td>...</td>\n",
       "      <td>...</td>\n",
       "      <td>...</td>\n",
       "      <td>...</td>\n",
       "      <td>...</td>\n",
       "      <td>...</td>\n",
       "      <td>...</td>\n",
       "      <td>...</td>\n",
       "      <td>...</td>\n",
       "      <td>...</td>\n",
       "      <td>...</td>\n",
       "      <td>...</td>\n",
       "      <td>...</td>\n",
       "    </tr>\n",
       "    <tr>\n",
       "      <th>15467</th>\n",
       "      <td>0</td>\n",
       "      <td>0</td>\n",
       "      <td>0</td>\n",
       "      <td>0</td>\n",
       "      <td>0</td>\n",
       "      <td>0</td>\n",
       "      <td>0</td>\n",
       "      <td>0</td>\n",
       "      <td>0</td>\n",
       "      <td>0</td>\n",
       "      <td>...</td>\n",
       "      <td>0</td>\n",
       "      <td>0</td>\n",
       "      <td>0</td>\n",
       "      <td>0</td>\n",
       "      <td>0</td>\n",
       "      <td>0</td>\n",
       "      <td>0</td>\n",
       "      <td>0</td>\n",
       "      <td>0</td>\n",
       "      <td>0</td>\n",
       "    </tr>\n",
       "    <tr>\n",
       "      <th>15468</th>\n",
       "      <td>0</td>\n",
       "      <td>0</td>\n",
       "      <td>0</td>\n",
       "      <td>0</td>\n",
       "      <td>0</td>\n",
       "      <td>0</td>\n",
       "      <td>0</td>\n",
       "      <td>0</td>\n",
       "      <td>0</td>\n",
       "      <td>0</td>\n",
       "      <td>...</td>\n",
       "      <td>0</td>\n",
       "      <td>0</td>\n",
       "      <td>0</td>\n",
       "      <td>0</td>\n",
       "      <td>0</td>\n",
       "      <td>0</td>\n",
       "      <td>0</td>\n",
       "      <td>0</td>\n",
       "      <td>0</td>\n",
       "      <td>0</td>\n",
       "    </tr>\n",
       "    <tr>\n",
       "      <th>15469</th>\n",
       "      <td>0</td>\n",
       "      <td>0</td>\n",
       "      <td>0</td>\n",
       "      <td>0</td>\n",
       "      <td>0</td>\n",
       "      <td>0</td>\n",
       "      <td>0</td>\n",
       "      <td>0</td>\n",
       "      <td>0</td>\n",
       "      <td>0</td>\n",
       "      <td>...</td>\n",
       "      <td>0</td>\n",
       "      <td>0</td>\n",
       "      <td>0</td>\n",
       "      <td>0</td>\n",
       "      <td>0</td>\n",
       "      <td>0</td>\n",
       "      <td>0</td>\n",
       "      <td>0</td>\n",
       "      <td>0</td>\n",
       "      <td>0</td>\n",
       "    </tr>\n",
       "    <tr>\n",
       "      <th>15470</th>\n",
       "      <td>0</td>\n",
       "      <td>0</td>\n",
       "      <td>0</td>\n",
       "      <td>0</td>\n",
       "      <td>0</td>\n",
       "      <td>0</td>\n",
       "      <td>0</td>\n",
       "      <td>0</td>\n",
       "      <td>0</td>\n",
       "      <td>0</td>\n",
       "      <td>...</td>\n",
       "      <td>0</td>\n",
       "      <td>0</td>\n",
       "      <td>0</td>\n",
       "      <td>0</td>\n",
       "      <td>0</td>\n",
       "      <td>0</td>\n",
       "      <td>0</td>\n",
       "      <td>0</td>\n",
       "      <td>0</td>\n",
       "      <td>0</td>\n",
       "    </tr>\n",
       "    <tr>\n",
       "      <th>15471</th>\n",
       "      <td>0</td>\n",
       "      <td>0</td>\n",
       "      <td>0</td>\n",
       "      <td>0</td>\n",
       "      <td>0</td>\n",
       "      <td>0</td>\n",
       "      <td>0</td>\n",
       "      <td>0</td>\n",
       "      <td>0</td>\n",
       "      <td>0</td>\n",
       "      <td>...</td>\n",
       "      <td>0</td>\n",
       "      <td>0</td>\n",
       "      <td>0</td>\n",
       "      <td>0</td>\n",
       "      <td>0</td>\n",
       "      <td>0</td>\n",
       "      <td>0</td>\n",
       "      <td>0</td>\n",
       "      <td>0</td>\n",
       "      <td>0</td>\n",
       "    </tr>\n",
       "  </tbody>\n",
       "</table>\n",
       "<p>15472 rows × 3289 columns</p>\n",
       "</div>"
      ],
      "text/plain": [
       "       aaron  abandon  abbey  abbott  abby  abc  abercrombie  ability  able  \\\n",
       "0          0        0      0       0     0    0            0        0     0   \n",
       "1          0        0      0       0     0    0            0        0     0   \n",
       "2          0        0      0       0     0    0            0        0     0   \n",
       "3          0        0      0       0     0    0            0        0     0   \n",
       "4          0        0      0       0     0    0            0        0     0   \n",
       "...      ...      ...    ...     ...   ...  ...          ...      ...   ...   \n",
       "15467      0        0      0       0     0    0            0        0     0   \n",
       "15468      0        0      0       0     0    0            0        0     0   \n",
       "15469      0        0      0       0     0    0            0        0     0   \n",
       "15470      0        0      0       0     0    0            0        0     0   \n",
       "15471      0        0      0       0     0    0            0        0     0   \n",
       "\n",
       "       absolute  ...  zeen  zeke  zero  zoey  zone  zoomed  zootopia  \\\n",
       "0             0  ...     0     0     0     0     0       0         0   \n",
       "1             0  ...     0     0     0     0     0       0         0   \n",
       "2             0  ...     0     0     0     0     0       0         0   \n",
       "3             0  ...     0     0     0     0     0       0         0   \n",
       "4             0  ...     0     0     0     0     0       0         0   \n",
       "...         ...  ...   ...   ...   ...   ...   ...     ...       ...   \n",
       "15467         0  ...     0     0     0     0     0       0         0   \n",
       "15468         0  ...     0     0     0     0     0       0         0   \n",
       "15469         0  ...     0     0     0     0     0       0         0   \n",
       "15470         0  ...     0     0     0     0     0       0         0   \n",
       "15471         0  ...     0     0     0     0     0       0         0   \n",
       "\n",
       "       zootropolis  zorro  zutomayo  \n",
       "0                0      0         0  \n",
       "1                0      0         0  \n",
       "2                0      0         0  \n",
       "3                0      0         0  \n",
       "4                0      0         0  \n",
       "...            ...    ...       ...  \n",
       "15467            0      0         0  \n",
       "15468            0      0         0  \n",
       "15469            0      0         0  \n",
       "15470            0      0         0  \n",
       "15471            0      0         0  \n",
       "\n",
       "[15472 rows x 3289 columns]"
      ]
     },
     "execution_count": 368,
     "metadata": {},
     "output_type": "execute_result"
    }
   ],
   "source": [
    "pd.DataFrame(X_train_cvec.toarray(), columns=cvec1.get_feature_names())"
   ]
  },
  {
   "cell_type": "code",
   "execution_count": 369,
   "id": "907b71b2",
   "metadata": {},
   "outputs": [],
   "source": [
    "# Model Instantiation\n",
    "# Create an instance of RandomForestClassifier and ExtraTreesClassifier.\n",
    "\n",
    "rf = RandomForestClassifier()\n",
    "et = ExtraTreesClassifier()"
   ]
  },
  {
   "cell_type": "code",
   "execution_count": 370,
   "id": "1b52ef47",
   "metadata": {},
   "outputs": [
    {
     "data": {
      "text/plain": [
       "0.9979317308318677"
      ]
     },
     "execution_count": 370,
     "metadata": {},
     "output_type": "execute_result"
    }
   ],
   "source": [
    "#Model Evaluation for rf and et\n",
    "cross_val_score(rf,X_train_cvec,y_train, cv=10).mean()"
   ]
  },
  {
   "cell_type": "code",
   "execution_count": 371,
   "id": "b7b00d64",
   "metadata": {},
   "outputs": [
    {
     "data": {
      "text/plain": [
       "0.9979317308318677"
      ]
     },
     "execution_count": 371,
     "metadata": {},
     "output_type": "execute_result"
    }
   ],
   "source": [
    "#Model Evaluation for rf and et\n",
    "cross_val_score(et,X_train_cvec,y_train, cv=10).mean()"
   ]
  },
  {
   "cell_type": "code",
   "execution_count": 383,
   "id": "f8fc967a",
   "metadata": {},
   "outputs": [],
   "source": [
    "rf_params = {\n",
    "    'n_estimators': [50,75,100,500],\n",
    "    'max_depth': [10,15,20,30],\n",
    "    'min_samples_split': [2,5,10],\n",
    "    'min_samples_leaf':[1,3,5]\n",
    "}"
   ]
  },
  {
   "cell_type": "code",
   "execution_count": 384,
   "id": "4aff7cba",
   "metadata": {},
   "outputs": [
    {
     "name": "stdout",
     "output_type": "stream",
     "text": [
      "Fitting 10 folds for each of 144 candidates, totalling 1440 fits\n"
     ]
    },
    {
     "data": {
      "text/plain": [
       "GridSearchCV(cv=10, estimator=RandomForestClassifier(random_state=42),\n",
       "             n_jobs=-1,\n",
       "             param_grid={'max_depth': [10, 15, 20, 30],\n",
       "                         'min_samples_leaf': [1, 3, 5],\n",
       "                         'min_samples_split': [2, 5, 10],\n",
       "                         'n_estimators': [50, 75, 100, 500]},\n",
       "             verbose=1)"
      ]
     },
     "execution_count": 384,
     "metadata": {},
     "output_type": "execute_result"
    }
   ],
   "source": [
    "# GridSearch\n",
    "\n",
    "gs3= GridSearchCV(estimator = RandomForestClassifier(random_state = 42),param_grid=rf_params, cv=10, verbose=1, n_jobs=-1)\n",
    "\n",
    "gs3.fit(X_train_cvec,y_train)"
   ]
  },
  {
   "cell_type": "code",
   "execution_count": 386,
   "id": "2e7fdb98",
   "metadata": {},
   "outputs": [
    {
     "data": {
      "text/plain": [
       "0.893743704995415"
      ]
     },
     "execution_count": 386,
     "metadata": {},
     "output_type": "execute_result"
    }
   ],
   "source": [
    "# Best Score\n",
    "\n",
    "gs3.best_score_"
   ]
  },
  {
   "cell_type": "code",
   "execution_count": 387,
   "id": "15f18d80",
   "metadata": {},
   "outputs": [
    {
     "data": {
      "text/plain": [
       "{'max_depth': 30,\n",
       " 'min_samples_leaf': 1,\n",
       " 'min_samples_split': 2,\n",
       " 'n_estimators': 500}"
      ]
     },
     "execution_count": 387,
     "metadata": {},
     "output_type": "execute_result"
    }
   ],
   "source": [
    "# Best Parameters\n",
    "gs3.best_params_"
   ]
  },
  {
   "cell_type": "code",
   "execution_count": 388,
   "id": "d2569145",
   "metadata": {},
   "outputs": [],
   "source": [
    "# Assigning to best_estimators\n",
    "best_rf = gs3.best_estimator_"
   ]
  },
  {
   "cell_type": "code",
   "execution_count": 389,
   "id": "4ce3ec7c",
   "metadata": {},
   "outputs": [
    {
     "data": {
      "text/plain": [
       "RandomForestClassifier(max_depth=30, n_estimators=500, random_state=42)"
      ]
     },
     "execution_count": 389,
     "metadata": {},
     "output_type": "execute_result"
    }
   ],
   "source": [
    "# fit train data\n",
    "\n",
    "best_rf.fit(X_train_cvec, y_train)"
   ]
  },
  {
   "cell_type": "code",
   "execution_count": 390,
   "id": "ba0e723c",
   "metadata": {},
   "outputs": [
    {
     "data": {
      "text/plain": [
       "0.8956825232678387"
      ]
     },
     "execution_count": 390,
     "metadata": {},
     "output_type": "execute_result"
    }
   ],
   "source": [
    "# Score\n",
    "best_rf.score(X_train_cvec, y_train)"
   ]
  },
  {
   "cell_type": "code",
   "execution_count": 391,
   "id": "a74f0f00",
   "metadata": {},
   "outputs": [
    {
     "data": {
      "text/plain": [
       "0.8937572702597906"
      ]
     },
     "execution_count": 391,
     "metadata": {},
     "output_type": "execute_result"
    }
   ],
   "source": [
    "# Test Score\n",
    "best_rf.score(X_test_cvec, y_test)"
   ]
  },
  {
   "cell_type": "code",
   "execution_count": 432,
   "id": "5fbc868a",
   "metadata": {},
   "outputs": [],
   "source": [
    "pred_rf = best_rf.predict(X_test_cvec.todense())"
   ]
  },
  {
   "cell_type": "code",
   "execution_count": 433,
   "id": "ddebda35",
   "metadata": {},
   "outputs": [
    {
     "name": "stdout",
     "output_type": "stream",
     "text": [
      "True Negatives: 2570\n",
      "False Positives: 0\n",
      "False Negatives: 548\n",
      "True Positives: 2040\n"
     ]
    }
   ],
   "source": [
    "tn, fp, fn, tp = confusion_matrix(y_test, pred_rf).ravel()\n",
    "print(f\"True Negatives: {tn}\")\n",
    "print(f\"False Positives: {fp}\")\n",
    "print(f\"False Negatives: {fn}\")\n",
    "print(f\"True Positives: {tp}\")"
   ]
  },
  {
   "cell_type": "markdown",
   "id": "c10054b4",
   "metadata": {},
   "source": [
    "### Support Vector Machine - Model 5"
   ]
  },
  {
   "cell_type": "code",
   "execution_count": 396,
   "id": "05d847ff",
   "metadata": {},
   "outputs": [],
   "source": [
    "# reinitiating train test split\n",
    "X_train, X_test, y_train, y_test = train_test_split(X,\n",
    "                                                    y,\n",
    "                                                    test_size=0.25,\n",
    "                                                    random_state=42,\n",
    "                                                    stratify=y)"
   ]
  },
  {
   "cell_type": "code",
   "execution_count": 397,
   "id": "8f12ab67",
   "metadata": {},
   "outputs": [],
   "source": [
    "#Instantiate our CountVectorizer.\n",
    "cvec2 = CountVectorizer(max_features=4000, stop_words=stop_words)"
   ]
  },
  {
   "cell_type": "code",
   "execution_count": 398,
   "id": "5d715608",
   "metadata": {},
   "outputs": [],
   "source": [
    "# Fit our CountVectorizer on the training data and transform training data.\n",
    "X_train_cvec =cvec2.fit_transform(X_train)"
   ]
  },
  {
   "cell_type": "code",
   "execution_count": 399,
   "id": "63c13be1",
   "metadata": {},
   "outputs": [],
   "source": [
    "# Transform our testing data with the already-fit CountVectorizer.\n",
    "X_test_cvec = cvec2.transform(X_test)"
   ]
  },
  {
   "cell_type": "code",
   "execution_count": 400,
   "id": "bbfc83fb",
   "metadata": {},
   "outputs": [
    {
     "data": {
      "text/html": [
       "<div>\n",
       "<style scoped>\n",
       "    .dataframe tbody tr th:only-of-type {\n",
       "        vertical-align: middle;\n",
       "    }\n",
       "\n",
       "    .dataframe tbody tr th {\n",
       "        vertical-align: top;\n",
       "    }\n",
       "\n",
       "    .dataframe thead th {\n",
       "        text-align: right;\n",
       "    }\n",
       "</style>\n",
       "<table border=\"1\" class=\"dataframe\">\n",
       "  <thead>\n",
       "    <tr style=\"text-align: right;\">\n",
       "      <th></th>\n",
       "      <th>aaron</th>\n",
       "      <th>abandon</th>\n",
       "      <th>abbey</th>\n",
       "      <th>abbott</th>\n",
       "      <th>abby</th>\n",
       "      <th>abc</th>\n",
       "      <th>abercrombie</th>\n",
       "      <th>ability</th>\n",
       "      <th>able</th>\n",
       "      <th>absolute</th>\n",
       "      <th>...</th>\n",
       "      <th>zeen</th>\n",
       "      <th>zeke</th>\n",
       "      <th>zero</th>\n",
       "      <th>zoey</th>\n",
       "      <th>zone</th>\n",
       "      <th>zoomed</th>\n",
       "      <th>zootopia</th>\n",
       "      <th>zootropolis</th>\n",
       "      <th>zorro</th>\n",
       "      <th>zutomayo</th>\n",
       "    </tr>\n",
       "  </thead>\n",
       "  <tbody>\n",
       "    <tr>\n",
       "      <th>0</th>\n",
       "      <td>0</td>\n",
       "      <td>0</td>\n",
       "      <td>0</td>\n",
       "      <td>0</td>\n",
       "      <td>0</td>\n",
       "      <td>0</td>\n",
       "      <td>0</td>\n",
       "      <td>0</td>\n",
       "      <td>0</td>\n",
       "      <td>0</td>\n",
       "      <td>...</td>\n",
       "      <td>0</td>\n",
       "      <td>0</td>\n",
       "      <td>0</td>\n",
       "      <td>0</td>\n",
       "      <td>0</td>\n",
       "      <td>0</td>\n",
       "      <td>0</td>\n",
       "      <td>0</td>\n",
       "      <td>0</td>\n",
       "      <td>0</td>\n",
       "    </tr>\n",
       "    <tr>\n",
       "      <th>1</th>\n",
       "      <td>0</td>\n",
       "      <td>0</td>\n",
       "      <td>0</td>\n",
       "      <td>0</td>\n",
       "      <td>0</td>\n",
       "      <td>0</td>\n",
       "      <td>0</td>\n",
       "      <td>0</td>\n",
       "      <td>0</td>\n",
       "      <td>0</td>\n",
       "      <td>...</td>\n",
       "      <td>0</td>\n",
       "      <td>0</td>\n",
       "      <td>0</td>\n",
       "      <td>0</td>\n",
       "      <td>0</td>\n",
       "      <td>0</td>\n",
       "      <td>0</td>\n",
       "      <td>0</td>\n",
       "      <td>0</td>\n",
       "      <td>0</td>\n",
       "    </tr>\n",
       "    <tr>\n",
       "      <th>2</th>\n",
       "      <td>0</td>\n",
       "      <td>0</td>\n",
       "      <td>0</td>\n",
       "      <td>0</td>\n",
       "      <td>0</td>\n",
       "      <td>0</td>\n",
       "      <td>0</td>\n",
       "      <td>0</td>\n",
       "      <td>0</td>\n",
       "      <td>0</td>\n",
       "      <td>...</td>\n",
       "      <td>0</td>\n",
       "      <td>0</td>\n",
       "      <td>0</td>\n",
       "      <td>0</td>\n",
       "      <td>0</td>\n",
       "      <td>0</td>\n",
       "      <td>0</td>\n",
       "      <td>0</td>\n",
       "      <td>0</td>\n",
       "      <td>0</td>\n",
       "    </tr>\n",
       "    <tr>\n",
       "      <th>3</th>\n",
       "      <td>0</td>\n",
       "      <td>0</td>\n",
       "      <td>0</td>\n",
       "      <td>0</td>\n",
       "      <td>0</td>\n",
       "      <td>0</td>\n",
       "      <td>0</td>\n",
       "      <td>0</td>\n",
       "      <td>0</td>\n",
       "      <td>0</td>\n",
       "      <td>...</td>\n",
       "      <td>0</td>\n",
       "      <td>0</td>\n",
       "      <td>0</td>\n",
       "      <td>0</td>\n",
       "      <td>0</td>\n",
       "      <td>0</td>\n",
       "      <td>0</td>\n",
       "      <td>0</td>\n",
       "      <td>0</td>\n",
       "      <td>0</td>\n",
       "    </tr>\n",
       "    <tr>\n",
       "      <th>4</th>\n",
       "      <td>0</td>\n",
       "      <td>0</td>\n",
       "      <td>0</td>\n",
       "      <td>0</td>\n",
       "      <td>0</td>\n",
       "      <td>0</td>\n",
       "      <td>0</td>\n",
       "      <td>0</td>\n",
       "      <td>0</td>\n",
       "      <td>0</td>\n",
       "      <td>...</td>\n",
       "      <td>0</td>\n",
       "      <td>0</td>\n",
       "      <td>0</td>\n",
       "      <td>0</td>\n",
       "      <td>0</td>\n",
       "      <td>0</td>\n",
       "      <td>0</td>\n",
       "      <td>0</td>\n",
       "      <td>0</td>\n",
       "      <td>0</td>\n",
       "    </tr>\n",
       "    <tr>\n",
       "      <th>...</th>\n",
       "      <td>...</td>\n",
       "      <td>...</td>\n",
       "      <td>...</td>\n",
       "      <td>...</td>\n",
       "      <td>...</td>\n",
       "      <td>...</td>\n",
       "      <td>...</td>\n",
       "      <td>...</td>\n",
       "      <td>...</td>\n",
       "      <td>...</td>\n",
       "      <td>...</td>\n",
       "      <td>...</td>\n",
       "      <td>...</td>\n",
       "      <td>...</td>\n",
       "      <td>...</td>\n",
       "      <td>...</td>\n",
       "      <td>...</td>\n",
       "      <td>...</td>\n",
       "      <td>...</td>\n",
       "      <td>...</td>\n",
       "      <td>...</td>\n",
       "    </tr>\n",
       "    <tr>\n",
       "      <th>15467</th>\n",
       "      <td>0</td>\n",
       "      <td>0</td>\n",
       "      <td>0</td>\n",
       "      <td>0</td>\n",
       "      <td>0</td>\n",
       "      <td>0</td>\n",
       "      <td>0</td>\n",
       "      <td>0</td>\n",
       "      <td>0</td>\n",
       "      <td>0</td>\n",
       "      <td>...</td>\n",
       "      <td>0</td>\n",
       "      <td>0</td>\n",
       "      <td>0</td>\n",
       "      <td>0</td>\n",
       "      <td>0</td>\n",
       "      <td>0</td>\n",
       "      <td>0</td>\n",
       "      <td>0</td>\n",
       "      <td>0</td>\n",
       "      <td>0</td>\n",
       "    </tr>\n",
       "    <tr>\n",
       "      <th>15468</th>\n",
       "      <td>0</td>\n",
       "      <td>0</td>\n",
       "      <td>0</td>\n",
       "      <td>0</td>\n",
       "      <td>0</td>\n",
       "      <td>0</td>\n",
       "      <td>0</td>\n",
       "      <td>0</td>\n",
       "      <td>0</td>\n",
       "      <td>0</td>\n",
       "      <td>...</td>\n",
       "      <td>0</td>\n",
       "      <td>0</td>\n",
       "      <td>0</td>\n",
       "      <td>0</td>\n",
       "      <td>0</td>\n",
       "      <td>0</td>\n",
       "      <td>0</td>\n",
       "      <td>0</td>\n",
       "      <td>0</td>\n",
       "      <td>0</td>\n",
       "    </tr>\n",
       "    <tr>\n",
       "      <th>15469</th>\n",
       "      <td>0</td>\n",
       "      <td>0</td>\n",
       "      <td>0</td>\n",
       "      <td>0</td>\n",
       "      <td>0</td>\n",
       "      <td>0</td>\n",
       "      <td>0</td>\n",
       "      <td>0</td>\n",
       "      <td>0</td>\n",
       "      <td>0</td>\n",
       "      <td>...</td>\n",
       "      <td>0</td>\n",
       "      <td>0</td>\n",
       "      <td>0</td>\n",
       "      <td>0</td>\n",
       "      <td>0</td>\n",
       "      <td>0</td>\n",
       "      <td>0</td>\n",
       "      <td>0</td>\n",
       "      <td>0</td>\n",
       "      <td>0</td>\n",
       "    </tr>\n",
       "    <tr>\n",
       "      <th>15470</th>\n",
       "      <td>0</td>\n",
       "      <td>0</td>\n",
       "      <td>0</td>\n",
       "      <td>0</td>\n",
       "      <td>0</td>\n",
       "      <td>0</td>\n",
       "      <td>0</td>\n",
       "      <td>0</td>\n",
       "      <td>0</td>\n",
       "      <td>0</td>\n",
       "      <td>...</td>\n",
       "      <td>0</td>\n",
       "      <td>0</td>\n",
       "      <td>0</td>\n",
       "      <td>0</td>\n",
       "      <td>0</td>\n",
       "      <td>0</td>\n",
       "      <td>0</td>\n",
       "      <td>0</td>\n",
       "      <td>0</td>\n",
       "      <td>0</td>\n",
       "    </tr>\n",
       "    <tr>\n",
       "      <th>15471</th>\n",
       "      <td>0</td>\n",
       "      <td>0</td>\n",
       "      <td>0</td>\n",
       "      <td>0</td>\n",
       "      <td>0</td>\n",
       "      <td>0</td>\n",
       "      <td>0</td>\n",
       "      <td>0</td>\n",
       "      <td>0</td>\n",
       "      <td>0</td>\n",
       "      <td>...</td>\n",
       "      <td>0</td>\n",
       "      <td>0</td>\n",
       "      <td>0</td>\n",
       "      <td>0</td>\n",
       "      <td>0</td>\n",
       "      <td>0</td>\n",
       "      <td>0</td>\n",
       "      <td>0</td>\n",
       "      <td>0</td>\n",
       "      <td>0</td>\n",
       "    </tr>\n",
       "  </tbody>\n",
       "</table>\n",
       "<p>15472 rows × 3289 columns</p>\n",
       "</div>"
      ],
      "text/plain": [
       "       aaron  abandon  abbey  abbott  abby  abc  abercrombie  ability  able  \\\n",
       "0          0        0      0       0     0    0            0        0     0   \n",
       "1          0        0      0       0     0    0            0        0     0   \n",
       "2          0        0      0       0     0    0            0        0     0   \n",
       "3          0        0      0       0     0    0            0        0     0   \n",
       "4          0        0      0       0     0    0            0        0     0   \n",
       "...      ...      ...    ...     ...   ...  ...          ...      ...   ...   \n",
       "15467      0        0      0       0     0    0            0        0     0   \n",
       "15468      0        0      0       0     0    0            0        0     0   \n",
       "15469      0        0      0       0     0    0            0        0     0   \n",
       "15470      0        0      0       0     0    0            0        0     0   \n",
       "15471      0        0      0       0     0    0            0        0     0   \n",
       "\n",
       "       absolute  ...  zeen  zeke  zero  zoey  zone  zoomed  zootopia  \\\n",
       "0             0  ...     0     0     0     0     0       0         0   \n",
       "1             0  ...     0     0     0     0     0       0         0   \n",
       "2             0  ...     0     0     0     0     0       0         0   \n",
       "3             0  ...     0     0     0     0     0       0         0   \n",
       "4             0  ...     0     0     0     0     0       0         0   \n",
       "...         ...  ...   ...   ...   ...   ...   ...     ...       ...   \n",
       "15467         0  ...     0     0     0     0     0       0         0   \n",
       "15468         0  ...     0     0     0     0     0       0         0   \n",
       "15469         0  ...     0     0     0     0     0       0         0   \n",
       "15470         0  ...     0     0     0     0     0       0         0   \n",
       "15471         0  ...     0     0     0     0     0       0         0   \n",
       "\n",
       "       zootropolis  zorro  zutomayo  \n",
       "0                0      0         0  \n",
       "1                0      0         0  \n",
       "2                0      0         0  \n",
       "3                0      0         0  \n",
       "4                0      0         0  \n",
       "...            ...    ...       ...  \n",
       "15467            0      0         0  \n",
       "15468            0      0         0  \n",
       "15469            0      0         0  \n",
       "15470            0      0         0  \n",
       "15471            0      0         0  \n",
       "\n",
       "[15472 rows x 3289 columns]"
      ]
     },
     "execution_count": 400,
     "metadata": {},
     "output_type": "execute_result"
    }
   ],
   "source": [
    "pd.DataFrame(X_train_cvec.toarray(), columns=cvec1.get_feature_names())"
   ]
  },
  {
   "cell_type": "code",
   "execution_count": 401,
   "id": "9b8d5401",
   "metadata": {},
   "outputs": [],
   "source": [
    "# Instantiate support vector machine.\n",
    "svc = SVC()"
   ]
  },
  {
   "cell_type": "code",
   "execution_count": 402,
   "id": "a0cbf134",
   "metadata": {},
   "outputs": [
    {
     "data": {
      "text/plain": [
       "SVC()"
      ]
     },
     "execution_count": 402,
     "metadata": {},
     "output_type": "execute_result"
    }
   ],
   "source": [
    "# Fit support vector machine to training data.\n",
    "svc.fit(X_train_cvec, y_train)\n"
   ]
  },
  {
   "cell_type": "code",
   "execution_count": 403,
   "id": "0af38399",
   "metadata": {},
   "outputs": [],
   "source": [
    "# Generate predictions.\n",
    "\n",
    "y_pred = svc.predict(X_test_cvec)"
   ]
  },
  {
   "cell_type": "code",
   "execution_count": 404,
   "id": "ef89a326",
   "metadata": {},
   "outputs": [
    {
     "data": {
      "text/plain": [
       "0.9976085832471562"
      ]
     },
     "execution_count": 404,
     "metadata": {},
     "output_type": "execute_result"
    }
   ],
   "source": [
    "# Measure performance based on accuracy.\n",
    "svc.score(X_train_cvec, y_train)\n",
    "\n"
   ]
  },
  {
   "cell_type": "code",
   "execution_count": 405,
   "id": "dc7a6441",
   "metadata": {},
   "outputs": [
    {
     "data": {
      "text/plain": [
       "0.9970918960837534"
      ]
     },
     "execution_count": 405,
     "metadata": {},
     "output_type": "execute_result"
    }
   ],
   "source": [
    "# Mesure of test score\n",
    "svc.score(X_test_cvec, y_test)"
   ]
  },
  {
   "cell_type": "code",
   "execution_count": 409,
   "id": "f1829aec",
   "metadata": {},
   "outputs": [
    {
     "data": {
      "text/html": [
       "<div>\n",
       "<style scoped>\n",
       "    .dataframe tbody tr th:only-of-type {\n",
       "        vertical-align: middle;\n",
       "    }\n",
       "\n",
       "    .dataframe tbody tr th {\n",
       "        vertical-align: top;\n",
       "    }\n",
       "\n",
       "    .dataframe thead th {\n",
       "        text-align: right;\n",
       "    }\n",
       "</style>\n",
       "<table border=\"1\" class=\"dataframe\">\n",
       "  <thead>\n",
       "    <tr style=\"text-align: right;\">\n",
       "      <th></th>\n",
       "      <th>predicted</th>\n",
       "      <th>actual</th>\n",
       "    </tr>\n",
       "  </thead>\n",
       "  <tbody>\n",
       "    <tr>\n",
       "      <th>0</th>\n",
       "      <td>0</td>\n",
       "      <td>NaN</td>\n",
       "    </tr>\n",
       "    <tr>\n",
       "      <th>1</th>\n",
       "      <td>1</td>\n",
       "      <td>0.0</td>\n",
       "    </tr>\n",
       "    <tr>\n",
       "      <th>2</th>\n",
       "      <td>1</td>\n",
       "      <td>NaN</td>\n",
       "    </tr>\n",
       "    <tr>\n",
       "      <th>3</th>\n",
       "      <td>1</td>\n",
       "      <td>NaN</td>\n",
       "    </tr>\n",
       "    <tr>\n",
       "      <th>4</th>\n",
       "      <td>1</td>\n",
       "      <td>0.0</td>\n",
       "    </tr>\n",
       "    <tr>\n",
       "      <th>...</th>\n",
       "      <td>...</td>\n",
       "      <td>...</td>\n",
       "    </tr>\n",
       "    <tr>\n",
       "      <th>5153</th>\n",
       "      <td>0</td>\n",
       "      <td>NaN</td>\n",
       "    </tr>\n",
       "    <tr>\n",
       "      <th>5154</th>\n",
       "      <td>0</td>\n",
       "      <td>NaN</td>\n",
       "    </tr>\n",
       "    <tr>\n",
       "      <th>5155</th>\n",
       "      <td>1</td>\n",
       "      <td>NaN</td>\n",
       "    </tr>\n",
       "    <tr>\n",
       "      <th>5156</th>\n",
       "      <td>1</td>\n",
       "      <td>NaN</td>\n",
       "    </tr>\n",
       "    <tr>\n",
       "      <th>5157</th>\n",
       "      <td>1</td>\n",
       "      <td>NaN</td>\n",
       "    </tr>\n",
       "  </tbody>\n",
       "</table>\n",
       "<p>5158 rows × 2 columns</p>\n",
       "</div>"
      ],
      "text/plain": [
       "      predicted  actual\n",
       "0             0     NaN\n",
       "1             1     0.0\n",
       "2             1     NaN\n",
       "3             1     NaN\n",
       "4             1     0.0\n",
       "...         ...     ...\n",
       "5153          0     NaN\n",
       "5154          0     NaN\n",
       "5155          1     NaN\n",
       "5156          1     NaN\n",
       "5157          1     NaN\n",
       "\n",
       "[5158 rows x 2 columns]"
      ]
     },
     "execution_count": 409,
     "metadata": {},
     "output_type": "execute_result"
    }
   ],
   "source": [
    "# Create DataFrame with column for predicted values.\n",
    "results = pd.DataFrame(svc.predict(X_test_cvec), columns=['predicted'])\n",
    "\n",
    "# Create column for observed values.\n",
    "results['actual'] = y_test\n",
    "results"
   ]
  },
  {
   "cell_type": "code",
   "execution_count": 412,
   "id": "82521195",
   "metadata": {},
   "outputs": [],
   "source": [
    "svm_params = {\n",
    "    'kernel':['linear','rbf','polynomial']\n",
    "}"
   ]
  },
  {
   "cell_type": "code",
   "execution_count": 413,
   "id": "ec17512d",
   "metadata": {},
   "outputs": [
    {
     "name": "stdout",
     "output_type": "stream",
     "text": [
      "Fitting 10 folds for each of 3 candidates, totalling 30 fits\n"
     ]
    },
    {
     "name": "stderr",
     "output_type": "stream",
     "text": [
      "/Users/ram/opt/anaconda3/lib/python3.9/site-packages/sklearn/model_selection/_validation.py:615: FitFailedWarning: Estimator fit failed. The score on this train-test partition for these parameters will be set to nan. Details: \n",
      "Traceback (most recent call last):\n",
      "  File \"/Users/ram/opt/anaconda3/lib/python3.9/site-packages/sklearn/model_selection/_validation.py\", line 598, in _fit_and_score\n",
      "    estimator.fit(X_train, y_train, **fit_params)\n",
      "  File \"/Users/ram/opt/anaconda3/lib/python3.9/site-packages/sklearn/svm/_base.py\", line 226, in fit\n",
      "    fit(X, y, sample_weight, solver_type, kernel, random_seed=seed)\n",
      "  File \"/Users/ram/opt/anaconda3/lib/python3.9/site-packages/sklearn/svm/_base.py\", line 294, in _sparse_fit\n",
      "    kernel_type = self._sparse_kernels.index(kernel)\n",
      "ValueError: 'polynomial' is not in list\n",
      "\n",
      "  warnings.warn(\"Estimator fit failed. The score on this train-test\"\n",
      "/Users/ram/opt/anaconda3/lib/python3.9/site-packages/sklearn/model_selection/_validation.py:615: FitFailedWarning: Estimator fit failed. The score on this train-test partition for these parameters will be set to nan. Details: \n",
      "Traceback (most recent call last):\n",
      "  File \"/Users/ram/opt/anaconda3/lib/python3.9/site-packages/sklearn/model_selection/_validation.py\", line 598, in _fit_and_score\n",
      "    estimator.fit(X_train, y_train, **fit_params)\n",
      "  File \"/Users/ram/opt/anaconda3/lib/python3.9/site-packages/sklearn/svm/_base.py\", line 226, in fit\n",
      "    fit(X, y, sample_weight, solver_type, kernel, random_seed=seed)\n",
      "  File \"/Users/ram/opt/anaconda3/lib/python3.9/site-packages/sklearn/svm/_base.py\", line 294, in _sparse_fit\n",
      "    kernel_type = self._sparse_kernels.index(kernel)\n",
      "ValueError: 'polynomial' is not in list\n",
      "\n",
      "  warnings.warn(\"Estimator fit failed. The score on this train-test\"\n",
      "/Users/ram/opt/anaconda3/lib/python3.9/site-packages/sklearn/model_selection/_validation.py:615: FitFailedWarning: Estimator fit failed. The score on this train-test partition for these parameters will be set to nan. Details: \n",
      "Traceback (most recent call last):\n",
      "  File \"/Users/ram/opt/anaconda3/lib/python3.9/site-packages/sklearn/model_selection/_validation.py\", line 598, in _fit_and_score\n",
      "    estimator.fit(X_train, y_train, **fit_params)\n",
      "  File \"/Users/ram/opt/anaconda3/lib/python3.9/site-packages/sklearn/svm/_base.py\", line 226, in fit\n",
      "    fit(X, y, sample_weight, solver_type, kernel, random_seed=seed)\n",
      "  File \"/Users/ram/opt/anaconda3/lib/python3.9/site-packages/sklearn/svm/_base.py\", line 294, in _sparse_fit\n",
      "    kernel_type = self._sparse_kernels.index(kernel)\n",
      "ValueError: 'polynomial' is not in list\n",
      "\n",
      "  warnings.warn(\"Estimator fit failed. The score on this train-test\"\n",
      "/Users/ram/opt/anaconda3/lib/python3.9/site-packages/sklearn/model_selection/_validation.py:615: FitFailedWarning: Estimator fit failed. The score on this train-test partition for these parameters will be set to nan. Details: \n",
      "Traceback (most recent call last):\n",
      "  File \"/Users/ram/opt/anaconda3/lib/python3.9/site-packages/sklearn/model_selection/_validation.py\", line 598, in _fit_and_score\n",
      "    estimator.fit(X_train, y_train, **fit_params)\n",
      "  File \"/Users/ram/opt/anaconda3/lib/python3.9/site-packages/sklearn/svm/_base.py\", line 226, in fit\n",
      "    fit(X, y, sample_weight, solver_type, kernel, random_seed=seed)\n",
      "  File \"/Users/ram/opt/anaconda3/lib/python3.9/site-packages/sklearn/svm/_base.py\", line 294, in _sparse_fit\n",
      "    kernel_type = self._sparse_kernels.index(kernel)\n",
      "ValueError: 'polynomial' is not in list\n",
      "\n",
      "  warnings.warn(\"Estimator fit failed. The score on this train-test\"\n",
      "/Users/ram/opt/anaconda3/lib/python3.9/site-packages/sklearn/model_selection/_validation.py:615: FitFailedWarning: Estimator fit failed. The score on this train-test partition for these parameters will be set to nan. Details: \n",
      "Traceback (most recent call last):\n",
      "  File \"/Users/ram/opt/anaconda3/lib/python3.9/site-packages/sklearn/model_selection/_validation.py\", line 598, in _fit_and_score\n",
      "    estimator.fit(X_train, y_train, **fit_params)\n",
      "  File \"/Users/ram/opt/anaconda3/lib/python3.9/site-packages/sklearn/svm/_base.py\", line 226, in fit\n",
      "    fit(X, y, sample_weight, solver_type, kernel, random_seed=seed)\n",
      "  File \"/Users/ram/opt/anaconda3/lib/python3.9/site-packages/sklearn/svm/_base.py\", line 294, in _sparse_fit\n",
      "    kernel_type = self._sparse_kernels.index(kernel)\n",
      "ValueError: 'polynomial' is not in list\n",
      "\n",
      "  warnings.warn(\"Estimator fit failed. The score on this train-test\"\n",
      "/Users/ram/opt/anaconda3/lib/python3.9/site-packages/sklearn/model_selection/_validation.py:615: FitFailedWarning: Estimator fit failed. The score on this train-test partition for these parameters will be set to nan. Details: \n",
      "Traceback (most recent call last):\n",
      "  File \"/Users/ram/opt/anaconda3/lib/python3.9/site-packages/sklearn/model_selection/_validation.py\", line 598, in _fit_and_score\n",
      "    estimator.fit(X_train, y_train, **fit_params)\n",
      "  File \"/Users/ram/opt/anaconda3/lib/python3.9/site-packages/sklearn/svm/_base.py\", line 226, in fit\n",
      "    fit(X, y, sample_weight, solver_type, kernel, random_seed=seed)\n",
      "  File \"/Users/ram/opt/anaconda3/lib/python3.9/site-packages/sklearn/svm/_base.py\", line 294, in _sparse_fit\n",
      "    kernel_type = self._sparse_kernels.index(kernel)\n",
      "ValueError: 'polynomial' is not in list\n",
      "\n",
      "  warnings.warn(\"Estimator fit failed. The score on this train-test\"\n",
      "/Users/ram/opt/anaconda3/lib/python3.9/site-packages/sklearn/model_selection/_validation.py:615: FitFailedWarning: Estimator fit failed. The score on this train-test partition for these parameters will be set to nan. Details: \n",
      "Traceback (most recent call last):\n",
      "  File \"/Users/ram/opt/anaconda3/lib/python3.9/site-packages/sklearn/model_selection/_validation.py\", line 598, in _fit_and_score\n",
      "    estimator.fit(X_train, y_train, **fit_params)\n",
      "  File \"/Users/ram/opt/anaconda3/lib/python3.9/site-packages/sklearn/svm/_base.py\", line 226, in fit\n",
      "    fit(X, y, sample_weight, solver_type, kernel, random_seed=seed)\n",
      "  File \"/Users/ram/opt/anaconda3/lib/python3.9/site-packages/sklearn/svm/_base.py\", line 294, in _sparse_fit\n",
      "    kernel_type = self._sparse_kernels.index(kernel)\n",
      "ValueError: 'polynomial' is not in list\n",
      "\n",
      "  warnings.warn(\"Estimator fit failed. The score on this train-test\"\n",
      "/Users/ram/opt/anaconda3/lib/python3.9/site-packages/sklearn/model_selection/_validation.py:615: FitFailedWarning: Estimator fit failed. The score on this train-test partition for these parameters will be set to nan. Details: \n",
      "Traceback (most recent call last):\n",
      "  File \"/Users/ram/opt/anaconda3/lib/python3.9/site-packages/sklearn/model_selection/_validation.py\", line 598, in _fit_and_score\n",
      "    estimator.fit(X_train, y_train, **fit_params)\n",
      "  File \"/Users/ram/opt/anaconda3/lib/python3.9/site-packages/sklearn/svm/_base.py\", line 226, in fit\n",
      "    fit(X, y, sample_weight, solver_type, kernel, random_seed=seed)\n",
      "  File \"/Users/ram/opt/anaconda3/lib/python3.9/site-packages/sklearn/svm/_base.py\", line 294, in _sparse_fit\n",
      "    kernel_type = self._sparse_kernels.index(kernel)\n",
      "ValueError: 'polynomial' is not in list\n",
      "\n",
      "  warnings.warn(\"Estimator fit failed. The score on this train-test\"\n",
      "/Users/ram/opt/anaconda3/lib/python3.9/site-packages/sklearn/model_selection/_validation.py:615: FitFailedWarning: Estimator fit failed. The score on this train-test partition for these parameters will be set to nan. Details: \n",
      "Traceback (most recent call last):\n",
      "  File \"/Users/ram/opt/anaconda3/lib/python3.9/site-packages/sklearn/model_selection/_validation.py\", line 598, in _fit_and_score\n",
      "    estimator.fit(X_train, y_train, **fit_params)\n",
      "  File \"/Users/ram/opt/anaconda3/lib/python3.9/site-packages/sklearn/svm/_base.py\", line 226, in fit\n",
      "    fit(X, y, sample_weight, solver_type, kernel, random_seed=seed)\n",
      "  File \"/Users/ram/opt/anaconda3/lib/python3.9/site-packages/sklearn/svm/_base.py\", line 294, in _sparse_fit\n",
      "    kernel_type = self._sparse_kernels.index(kernel)\n",
      "ValueError: 'polynomial' is not in list\n",
      "\n",
      "  warnings.warn(\"Estimator fit failed. The score on this train-test\"\n",
      "/Users/ram/opt/anaconda3/lib/python3.9/site-packages/sklearn/model_selection/_validation.py:615: FitFailedWarning: Estimator fit failed. The score on this train-test partition for these parameters will be set to nan. Details: \n",
      "Traceback (most recent call last):\n",
      "  File \"/Users/ram/opt/anaconda3/lib/python3.9/site-packages/sklearn/model_selection/_validation.py\", line 598, in _fit_and_score\n",
      "    estimator.fit(X_train, y_train, **fit_params)\n",
      "  File \"/Users/ram/opt/anaconda3/lib/python3.9/site-packages/sklearn/svm/_base.py\", line 226, in fit\n",
      "    fit(X, y, sample_weight, solver_type, kernel, random_seed=seed)\n",
      "  File \"/Users/ram/opt/anaconda3/lib/python3.9/site-packages/sklearn/svm/_base.py\", line 294, in _sparse_fit\n",
      "    kernel_type = self._sparse_kernels.index(kernel)\n",
      "ValueError: 'polynomial' is not in list\n",
      "\n",
      "  warnings.warn(\"Estimator fit failed. The score on this train-test\"\n"
     ]
    },
    {
     "name": "stderr",
     "output_type": "stream",
     "text": [
      "/Users/ram/opt/anaconda3/lib/python3.9/site-packages/sklearn/model_selection/_search.py:922: UserWarning: One or more of the test scores are non-finite: [0.99735017 0.99676844        nan]\n",
      "  warnings.warn(\n"
     ]
    },
    {
     "data": {
      "text/plain": [
       "GridSearchCV(cv=10, estimator=SVC(random_state=42), n_jobs=-1,\n",
       "             param_grid={'kernel': ['linear', 'rbf', 'polynomial']}, verbose=1)"
      ]
     },
     "execution_count": 413,
     "metadata": {},
     "output_type": "execute_result"
    }
   ],
   "source": [
    "gs5= GridSearchCV(estimator = SVC(random_state = 42),param_grid=svm_params, cv=10, verbose=1, n_jobs=-1)\n",
    "\n",
    "gs5.fit(X_train_cvec,y_train)"
   ]
  },
  {
   "cell_type": "code",
   "execution_count": 414,
   "id": "1e5840d2",
   "metadata": {},
   "outputs": [
    {
     "data": {
      "text/plain": [
       "0.9973501684513997"
      ]
     },
     "execution_count": 414,
     "metadata": {},
     "output_type": "execute_result"
    }
   ],
   "source": [
    "# Best Score\n",
    "\n",
    "gs5.best_score_"
   ]
  },
  {
   "cell_type": "code",
   "execution_count": 415,
   "id": "83ee21b3",
   "metadata": {},
   "outputs": [
    {
     "data": {
      "text/plain": [
       "{'kernel': 'linear'}"
      ]
     },
     "execution_count": 415,
     "metadata": {},
     "output_type": "execute_result"
    }
   ],
   "source": [
    "# Best Parameters\n",
    "gs5.best_params_"
   ]
  },
  {
   "cell_type": "code",
   "execution_count": 416,
   "id": "26122553",
   "metadata": {},
   "outputs": [],
   "source": [
    "# Assigning to best_estimators\n",
    "best_svm = gs5.best_estimator_"
   ]
  },
  {
   "cell_type": "code",
   "execution_count": 426,
   "id": "33d3974e",
   "metadata": {},
   "outputs": [
    {
     "data": {
      "text/plain": [
       "SVC(kernel='linear', random_state=42)"
      ]
     },
     "execution_count": 426,
     "metadata": {},
     "output_type": "execute_result"
    }
   ],
   "source": [
    "# fit train data\n",
    "\n",
    "best_svm.fit(X_train_cvec, y_train)"
   ]
  },
  {
   "cell_type": "code",
   "execution_count": null,
   "id": "56e414cc",
   "metadata": {},
   "outputs": [],
   "source": []
  },
  {
   "cell_type": "code",
   "execution_count": 427,
   "id": "dfa77925",
   "metadata": {},
   "outputs": [
    {
     "data": {
      "text/plain": [
       "0.9976085832471562"
      ]
     },
     "execution_count": 427,
     "metadata": {},
     "output_type": "execute_result"
    }
   ],
   "source": [
    "# Score\n",
    "best_svm.score(X_train_cvec, y_train)"
   ]
  },
  {
   "cell_type": "code",
   "execution_count": 428,
   "id": "fe009433",
   "metadata": {},
   "outputs": [
    {
     "data": {
      "text/plain": [
       "0.9970918960837534"
      ]
     },
     "execution_count": 428,
     "metadata": {},
     "output_type": "execute_result"
    }
   ],
   "source": [
    "# test Score\n",
    "best_svm.score(X_test_cvec, y_test)"
   ]
  },
  {
   "cell_type": "code",
   "execution_count": 430,
   "id": "871de071",
   "metadata": {},
   "outputs": [],
   "source": [
    "pred_svm = best_svm.predict(X_test_cvec.todense())"
   ]
  },
  {
   "cell_type": "code",
   "execution_count": 431,
   "id": "1d9ecfbb",
   "metadata": {},
   "outputs": [
    {
     "name": "stdout",
     "output_type": "stream",
     "text": [
      "True Negatives: 2567\n",
      "False Positives: 3\n",
      "False Negatives: 12\n",
      "True Positives: 2576\n"
     ]
    }
   ],
   "source": [
    "tn, fp, fn, tp = confusion_matrix(y_test, pred_svm).ravel()\n",
    "print(f\"True Negatives: {tn}\")\n",
    "print(f\"False Positives: {fp}\")\n",
    "print(f\"False Negatives: {fn}\")\n",
    "print(f\"True Positives: {tp}\")"
   ]
  },
  {
   "cell_type": "code",
   "execution_count": null,
   "id": "99410bb3",
   "metadata": {},
   "outputs": [],
   "source": []
  }
 ],
 "metadata": {
  "kernelspec": {
   "display_name": "Python 3 (ipykernel)",
   "language": "python",
   "name": "python3"
  },
  "language_info": {
   "codemirror_mode": {
    "name": "ipython",
    "version": 3
   },
   "file_extension": ".py",
   "mimetype": "text/x-python",
   "name": "python",
   "nbconvert_exporter": "python",
   "pygments_lexer": "ipython3",
   "version": "3.9.12"
  }
 },
 "nbformat": 4,
 "nbformat_minor": 5
}
